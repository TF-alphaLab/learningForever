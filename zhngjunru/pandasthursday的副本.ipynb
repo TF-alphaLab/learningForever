{
 "cells": [
  {
   "cell_type": "markdown",
   "id": "502943ad",
   "metadata": {},
   "source": [
    "Pandas是一个开源的Python数据分析库，它提供了高效的数据结构和数据分析工具，使得数据处理变得更加简单、快速和灵活。Pandas主要包含两种数据结构：Series和DataFrame。\n",
    "\n",
    "Pandas提供了丰富的数据操作和处理功能，包括数据清洗、数据筛选、数据分组、数据聚合、数据合并、数据重塑等。同时，Pandas还支持多种数据格式的读写，包括CSV、Excel、SQL、JSON等。"
   ]
  },
  {
   "cell_type": "code",
   "execution_count": 1,
   "id": "ce5f1a69",
   "metadata": {},
   "outputs": [],
   "source": [
    "import pandas as pd"
   ]
  },
  {
   "cell_type": "markdown",
   "id": "f3d7c209",
   "metadata": {},
   "source": [
    "# 生成对象"
   ]
  },
  {
   "cell_type": "markdown",
   "id": "37176fcf",
   "metadata": {},
   "source": [
    "Series是一种一维数组，可以存储任意类型的数据，每个元素都有一个索引，可以通过索引来访问元素。\n",
    "\n",
    "生成Series时，pandas默认自动生成整数索引"
   ]
  },
  {
   "cell_type": "code",
   "execution_count": 2,
   "id": "e8d11d3c",
   "metadata": {},
   "outputs": [
    {
     "name": "stdout",
     "output_type": "stream",
     "text": [
      "0    10\n",
      "1    20\n",
      "2    30\n",
      "3    40\n",
      "4    50\n",
      "dtype: int64\n"
     ]
    }
   ],
   "source": [
    "# 从列表创建Series\n",
    "my_list = [10, 20, 30, 40, 50]\n",
    "my_series = pd.Series(my_list)\n",
    "print(my_series)"
   ]
  },
  {
   "cell_type": "code",
   "execution_count": 3,
   "id": "1ce8d62f",
   "metadata": {},
   "outputs": [
    {
     "name": "stdout",
     "output_type": "stream",
     "text": [
      "a    10\n",
      "b    20\n",
      "c    30\n",
      "d    40\n",
      "e    50\n",
      "dtype: int64\n"
     ]
    }
   ],
   "source": [
    "# 从字典创建Series\n",
    "my_dict = {'a': 10, 'b': 20, 'c': 30, 'd': 40, 'e': 50}\n",
    "my_series = pd.Series(my_dict)\n",
    "print(my_series)"
   ]
  },
  {
   "cell_type": "code",
   "execution_count": 4,
   "id": "787e6127",
   "metadata": {},
   "outputs": [
    {
     "name": "stdout",
     "output_type": "stream",
     "text": [
      "0    10\n",
      "1    20\n",
      "2    30\n",
      "3    40\n",
      "4    50\n",
      "dtype: int64\n"
     ]
    }
   ],
   "source": [
    "# 从NumPy数组创建Series\n",
    "import numpy as np\n",
    "my_array = np.array([10, 20, 30, 40, 50])\n",
    "my_series = pd.Series(my_array)\n",
    "print(my_series)"
   ]
  },
  {
   "cell_type": "markdown",
   "id": "41c114f8",
   "metadata": {},
   "source": [
    "DataFrame是一种二维表格，可以看作是由多个Series组成的，每个Series代表一列数据，每列数据可以是不同的数据类型，每行数据都有一个索引，可以通过索引来访问元素。"
   ]
  },
  {
   "cell_type": "code",
   "execution_count": 6,
   "id": "7ce8b97a",
   "metadata": {},
   "outputs": [
    {
     "data": {
      "text/plain": [
       "DatetimeIndex(['2013-01-01', '2013-01-02', '2013-01-03', '2013-01-04',\n",
       "               '2013-01-05', '2013-01-06'],\n",
       "              dtype='datetime64[ns]', freq='D')"
      ]
     },
     "execution_count": 6,
     "metadata": {},
     "output_type": "execute_result"
    }
   ],
   "source": [
    "#用含日期时间索引与标签的 NumPy 数组生成 DataFrame\n",
    "dates = pd.date_range('20130101', periods=6)#`periods` 参数用于指定时间序列的长度，即包含多少个时间点\n",
    "dates\n",
    "#freq是指时间序列的频率或间隔。在这个例子中，时间序列的频率是'D'，表示每个日期之间的间隔为一天\n",
    "#dtype='datetime64[ns]表示数据类型为日期时间类型，数据类型的精度为64位，其中[ns]表示时间精度为纳秒级别"
   ]
  },
  {
   "cell_type": "code",
   "execution_count": 7,
   "id": "74956e6a",
   "metadata": {},
   "outputs": [
    {
     "data": {
      "text/html": [
       "<div>\n",
       "<style scoped>\n",
       "    .dataframe tbody tr th:only-of-type {\n",
       "        vertical-align: middle;\n",
       "    }\n",
       "\n",
       "    .dataframe tbody tr th {\n",
       "        vertical-align: top;\n",
       "    }\n",
       "\n",
       "    .dataframe thead th {\n",
       "        text-align: right;\n",
       "    }\n",
       "</style>\n",
       "<table border=\"1\" class=\"dataframe\">\n",
       "  <thead>\n",
       "    <tr style=\"text-align: right;\">\n",
       "      <th></th>\n",
       "      <th>A</th>\n",
       "      <th>B</th>\n",
       "      <th>C</th>\n",
       "      <th>D</th>\n",
       "    </tr>\n",
       "  </thead>\n",
       "  <tbody>\n",
       "    <tr>\n",
       "      <th>2013-01-01</th>\n",
       "      <td>-0.067052</td>\n",
       "      <td>-0.705840</td>\n",
       "      <td>-0.642275</td>\n",
       "      <td>0.380692</td>\n",
       "    </tr>\n",
       "    <tr>\n",
       "      <th>2013-01-02</th>\n",
       "      <td>2.153731</td>\n",
       "      <td>-1.542218</td>\n",
       "      <td>-0.851476</td>\n",
       "      <td>0.371424</td>\n",
       "    </tr>\n",
       "    <tr>\n",
       "      <th>2013-01-03</th>\n",
       "      <td>1.183724</td>\n",
       "      <td>0.684146</td>\n",
       "      <td>0.603775</td>\n",
       "      <td>-1.719785</td>\n",
       "    </tr>\n",
       "    <tr>\n",
       "      <th>2013-01-04</th>\n",
       "      <td>0.308195</td>\n",
       "      <td>-0.248869</td>\n",
       "      <td>0.242976</td>\n",
       "      <td>0.596211</td>\n",
       "    </tr>\n",
       "    <tr>\n",
       "      <th>2013-01-05</th>\n",
       "      <td>-2.112417</td>\n",
       "      <td>0.156748</td>\n",
       "      <td>-1.955114</td>\n",
       "      <td>0.340336</td>\n",
       "    </tr>\n",
       "    <tr>\n",
       "      <th>2013-01-06</th>\n",
       "      <td>-0.973022</td>\n",
       "      <td>0.350092</td>\n",
       "      <td>-0.069854</td>\n",
       "      <td>-0.851402</td>\n",
       "    </tr>\n",
       "  </tbody>\n",
       "</table>\n",
       "</div>"
      ],
      "text/plain": [
       "                   A         B         C         D\n",
       "2013-01-01 -0.067052 -0.705840 -0.642275  0.380692\n",
       "2013-01-02  2.153731 -1.542218 -0.851476  0.371424\n",
       "2013-01-03  1.183724  0.684146  0.603775 -1.719785\n",
       "2013-01-04  0.308195 -0.248869  0.242976  0.596211\n",
       "2013-01-05 -2.112417  0.156748 -1.955114  0.340336\n",
       "2013-01-06 -0.973022  0.350092 -0.069854 -0.851402"
      ]
     },
     "execution_count": 7,
     "metadata": {},
     "output_type": "execute_result"
    }
   ],
   "source": [
    "df = pd.DataFrame(np.random.randn(6, 4), index=dates, columns=list('ABCD'))\n",
    "#生成一个6行4列的Pandas DataFrame，行索引为dates变量中的日期，列索引为A、B、C、D。\n",
    "df"
   ]
  },
  {
   "cell_type": "code",
   "execution_count": 14,
   "id": "04689fd8",
   "metadata": {},
   "outputs": [
    {
     "data": {
      "text/html": [
       "<div>\n",
       "<style scoped>\n",
       "    .dataframe tbody tr th:only-of-type {\n",
       "        vertical-align: middle;\n",
       "    }\n",
       "\n",
       "    .dataframe tbody tr th {\n",
       "        vertical-align: top;\n",
       "    }\n",
       "\n",
       "    .dataframe thead th {\n",
       "        text-align: right;\n",
       "    }\n",
       "</style>\n",
       "<table border=\"1\" class=\"dataframe\">\n",
       "  <thead>\n",
       "    <tr style=\"text-align: right;\">\n",
       "      <th></th>\n",
       "      <th>A</th>\n",
       "      <th>B</th>\n",
       "      <th>C</th>\n",
       "      <th>D</th>\n",
       "      <th>E</th>\n",
       "      <th>F</th>\n",
       "    </tr>\n",
       "  </thead>\n",
       "  <tbody>\n",
       "    <tr>\n",
       "      <th>0</th>\n",
       "      <td>1.0</td>\n",
       "      <td>2013-01-02</td>\n",
       "      <td>1.0</td>\n",
       "      <td>3</td>\n",
       "      <td>test</td>\n",
       "      <td>foo</td>\n",
       "    </tr>\n",
       "    <tr>\n",
       "      <th>1</th>\n",
       "      <td>1.0</td>\n",
       "      <td>2013-01-02</td>\n",
       "      <td>1.0</td>\n",
       "      <td>3</td>\n",
       "      <td>train</td>\n",
       "      <td>foo</td>\n",
       "    </tr>\n",
       "    <tr>\n",
       "      <th>2</th>\n",
       "      <td>1.0</td>\n",
       "      <td>2013-01-02</td>\n",
       "      <td>1.0</td>\n",
       "      <td>3</td>\n",
       "      <td>test</td>\n",
       "      <td>foo</td>\n",
       "    </tr>\n",
       "    <tr>\n",
       "      <th>3</th>\n",
       "      <td>1.0</td>\n",
       "      <td>2013-01-02</td>\n",
       "      <td>1.0</td>\n",
       "      <td>3</td>\n",
       "      <td>train</td>\n",
       "      <td>foo</td>\n",
       "    </tr>\n",
       "  </tbody>\n",
       "</table>\n",
       "</div>"
      ],
      "text/plain": [
       "     A          B    C  D      E    F\n",
       "0  1.0 2013-01-02  1.0  3   test  foo\n",
       "1  1.0 2013-01-02  1.0  3  train  foo\n",
       "2  1.0 2013-01-02  1.0  3   test  foo\n",
       "3  1.0 2013-01-02  1.0  3  train  foo"
      ]
     },
     "execution_count": 14,
     "metadata": {},
     "output_type": "execute_result"
    }
   ],
   "source": [
    "#用Series字典对象生成DataFrame\n",
    "df2 = pd.DataFrame({'A': 1.,\n",
    "                    'B': pd.Timestamp('20130102'),\n",
    "                    'C': pd.Series(1, index=list(range(4)), dtype='float32'),\n",
    "                    'D': np.array([3] * 4, dtype='int32'),\n",
    "                    'E': pd.Categorical([\"test\", \"train\", \"test\", \"train\"]),\n",
    "                    'F': 'foo'})\n",
    "df2"
   ]
  },
  {
   "cell_type": "markdown",
   "id": "c63439a8",
   "metadata": {},
   "source": [
    "列A的所有值都为1.0\n",
    "\n",
    "列B的值为时间戳\n",
    "\n",
    "列C的值为一个长度为4的float32类型的Series\n",
    "\n",
    "列D的值为一个长度为4的int32类型的数组\n",
    "\n",
    "列E的值为一个长度为4的分类变量\n",
    "\n",
    "列F的值为字符串“foo”。"
   ]
  },
  {
   "cell_type": "markdown",
   "id": "bd148728",
   "metadata": {},
   "source": [
    "pd.Categorical是Pandas库中的一个数据类型，用于表示有限数量的离散值或分类变量。它可以将一组数据转换为分类变量，并为每个值分配一个唯一的整数编码。这个数据类型可以用于数据分析、可视化和建模等方面。它的主要优点是可以减少内存使用和提高计算效率。\n",
    "\n",
    "pd.Timestamp是Pandas库中的一个类，用于表示时间戳。它可以表示一个具体的日期和时间，精确到纳秒级别。"
   ]
  },
  {
   "cell_type": "code",
   "execution_count": 17,
   "id": "ce2b1cba",
   "metadata": {},
   "outputs": [
    {
     "data": {
      "text/plain": [
       "A           float64\n",
       "B    datetime64[ns]\n",
       "C           float32\n",
       "D             int32\n",
       "E          category\n",
       "F            object\n",
       "dtype: object"
      ]
     },
     "execution_count": 17,
     "metadata": {},
     "output_type": "execute_result"
    }
   ],
   "source": [
    "#DataFrame 的列有不同数据类型\n",
    "df2.dtypes"
   ]
  },
  {
   "cell_type": "markdown",
   "id": "4b6b5274",
   "metadata": {},
   "source": [
    "category：分类变量(分类变量是一种离散变量，其取值只能是有限的一组可能值)\n",
    "\n",
    "object：对象类型，通常表示字符串或混合类型数据"
   ]
  },
  {
   "cell_type": "code",
   "execution_count": null,
   "id": "bf550cc3",
   "metadata": {},
   "outputs": [],
   "source": [
    "df2."
   ]
  },
  {
   "cell_type": "markdown",
   "id": "128e3f9a",
   "metadata": {},
   "source": [
    "#IPython支持 tab 键自动补全列名与公共属性。下面是可自动补全的属性：\n",
    "1. DataFrame.columns：列名\n",
    "2. DataFrame.index：行索引\n",
    "3. DataFrame.shape：数据框形状\n",
    "4. DataFrame.info()：数据框信息\n",
    "5. DataFrame.describe()：数据框描述性统计信息\n",
    "6. DataFrame.head()：前几行数据\n",
    "7. DataFrame.tail()：后几行数据\n",
    "8. DataFrame.drop()：删除指定行或列\n",
    "9. DataFrame.groupby()：按指定列分组\n",
    "10. DataFrame.merge()：按指定列合并数据框\n",
    "11. DataFrame.sort_values()：按指定列排序\n",
    "12. DataFrame.isnull()：检查缺失值\n",
    "13. DataFrame.fillna()：填充缺失值\n",
    "14. DataFrame.drop_duplicates()：删除重复行\n",
    "15. DataFrame.apply()：按行或列应用函数\n",
    "16. DataFrame.plot()：绘制数据图表\n",
    "17. DataFrame.to_csv()：将数据框保存为CSV文件\n",
    "18. DataFrame.to_excel()：将数据框保存为Excel文件\n",
    "19. DataFrame.to_sql()：将数据框保存到SQL数据库中\n",
    "20. DataFrame.pivot_table()：生成数据透视表"
   ]
  },
  {
   "cell_type": "markdown",
   "id": "0df57b2b",
   "metadata": {},
   "source": [
    "# 查看数据"
   ]
  },
  {
   "cell_type": "markdown",
   "id": "8448c1f4",
   "metadata": {},
   "source": [
    "可以使用 DataFrame 的 `head()` 和 `tail()` 方法来查看 DataFrame 的头部和尾部数据。\n",
    "\n",
    "`head()` 方法默认返回 DataFrame 的前五行数据，可以通过传入参数来指定返回的行数。例如，要返回前十行数据，可以使用 `df.head(10)`。\n",
    "\n",
    "`tail()` 方法默认返回 DataFrame 的后五行数据，也可以通过传入参数来指定返回的行数。例如，要返回后十行数据，可以使用 `df.tail(10)`。"
   ]
  },
  {
   "cell_type": "code",
   "execution_count": 22,
   "id": "3e291ba9",
   "metadata": {},
   "outputs": [
    {
     "data": {
      "text/html": [
       "<div>\n",
       "<style scoped>\n",
       "    .dataframe tbody tr th:only-of-type {\n",
       "        vertical-align: middle;\n",
       "    }\n",
       "\n",
       "    .dataframe tbody tr th {\n",
       "        vertical-align: top;\n",
       "    }\n",
       "\n",
       "    .dataframe thead th {\n",
       "        text-align: right;\n",
       "    }\n",
       "</style>\n",
       "<table border=\"1\" class=\"dataframe\">\n",
       "  <thead>\n",
       "    <tr style=\"text-align: right;\">\n",
       "      <th></th>\n",
       "      <th>A</th>\n",
       "      <th>B</th>\n",
       "      <th>C</th>\n",
       "      <th>D</th>\n",
       "    </tr>\n",
       "  </thead>\n",
       "  <tbody>\n",
       "    <tr>\n",
       "      <th>2013-01-01</th>\n",
       "      <td>-0.067052</td>\n",
       "      <td>-0.705840</td>\n",
       "      <td>-0.642275</td>\n",
       "      <td>0.380692</td>\n",
       "    </tr>\n",
       "    <tr>\n",
       "      <th>2013-01-02</th>\n",
       "      <td>2.153731</td>\n",
       "      <td>-1.542218</td>\n",
       "      <td>-0.851476</td>\n",
       "      <td>0.371424</td>\n",
       "    </tr>\n",
       "    <tr>\n",
       "      <th>2013-01-03</th>\n",
       "      <td>1.183724</td>\n",
       "      <td>0.684146</td>\n",
       "      <td>0.603775</td>\n",
       "      <td>-1.719785</td>\n",
       "    </tr>\n",
       "    <tr>\n",
       "      <th>2013-01-04</th>\n",
       "      <td>0.308195</td>\n",
       "      <td>-0.248869</td>\n",
       "      <td>0.242976</td>\n",
       "      <td>0.596211</td>\n",
       "    </tr>\n",
       "    <tr>\n",
       "      <th>2013-01-05</th>\n",
       "      <td>-2.112417</td>\n",
       "      <td>0.156748</td>\n",
       "      <td>-1.955114</td>\n",
       "      <td>0.340336</td>\n",
       "    </tr>\n",
       "  </tbody>\n",
       "</table>\n",
       "</div>"
      ],
      "text/plain": [
       "                   A         B         C         D\n",
       "2013-01-01 -0.067052 -0.705840 -0.642275  0.380692\n",
       "2013-01-02  2.153731 -1.542218 -0.851476  0.371424\n",
       "2013-01-03  1.183724  0.684146  0.603775 -1.719785\n",
       "2013-01-04  0.308195 -0.248869  0.242976  0.596211\n",
       "2013-01-05 -2.112417  0.156748 -1.955114  0.340336"
      ]
     },
     "execution_count": 22,
     "metadata": {},
     "output_type": "execute_result"
    }
   ],
   "source": [
    "df.head()"
   ]
  },
  {
   "cell_type": "code",
   "execution_count": 23,
   "id": "919c5f0f",
   "metadata": {},
   "outputs": [
    {
     "data": {
      "text/html": [
       "<div>\n",
       "<style scoped>\n",
       "    .dataframe tbody tr th:only-of-type {\n",
       "        vertical-align: middle;\n",
       "    }\n",
       "\n",
       "    .dataframe tbody tr th {\n",
       "        vertical-align: top;\n",
       "    }\n",
       "\n",
       "    .dataframe thead th {\n",
       "        text-align: right;\n",
       "    }\n",
       "</style>\n",
       "<table border=\"1\" class=\"dataframe\">\n",
       "  <thead>\n",
       "    <tr style=\"text-align: right;\">\n",
       "      <th></th>\n",
       "      <th>A</th>\n",
       "      <th>B</th>\n",
       "      <th>C</th>\n",
       "      <th>D</th>\n",
       "    </tr>\n",
       "  </thead>\n",
       "  <tbody>\n",
       "    <tr>\n",
       "      <th>2013-01-04</th>\n",
       "      <td>0.308195</td>\n",
       "      <td>-0.248869</td>\n",
       "      <td>0.242976</td>\n",
       "      <td>0.596211</td>\n",
       "    </tr>\n",
       "    <tr>\n",
       "      <th>2013-01-05</th>\n",
       "      <td>-2.112417</td>\n",
       "      <td>0.156748</td>\n",
       "      <td>-1.955114</td>\n",
       "      <td>0.340336</td>\n",
       "    </tr>\n",
       "    <tr>\n",
       "      <th>2013-01-06</th>\n",
       "      <td>-0.973022</td>\n",
       "      <td>0.350092</td>\n",
       "      <td>-0.069854</td>\n",
       "      <td>-0.851402</td>\n",
       "    </tr>\n",
       "  </tbody>\n",
       "</table>\n",
       "</div>"
      ],
      "text/plain": [
       "                   A         B         C         D\n",
       "2013-01-04  0.308195 -0.248869  0.242976  0.596211\n",
       "2013-01-05 -2.112417  0.156748 -1.955114  0.340336\n",
       "2013-01-06 -0.973022  0.350092 -0.069854 -0.851402"
      ]
     },
     "execution_count": 23,
     "metadata": {},
     "output_type": "execute_result"
    }
   ],
   "source": [
    "df.tail(3)"
   ]
  },
  {
   "cell_type": "code",
   "execution_count": null,
   "id": "078ac7b7",
   "metadata": {},
   "outputs": [],
   "source": [
    "要显示索引和列名，可以使用df.head()(该方法将显示前5行数据，包括索引和列名。)\n",
    "也可以使用df.index(返回索引)、df.columns(返回列名)"
   ]
  },
  {
   "cell_type": "code",
   "execution_count": 24,
   "id": "f044198d",
   "metadata": {},
   "outputs": [
    {
     "data": {
      "text/plain": [
       "DatetimeIndex(['2013-01-01', '2013-01-02', '2013-01-03', '2013-01-04',\n",
       "               '2013-01-05', '2013-01-06'],\n",
       "              dtype='datetime64[ns]', freq='D')"
      ]
     },
     "execution_count": 24,
     "metadata": {},
     "output_type": "execute_result"
    }
   ],
   "source": [
    "df.index"
   ]
  },
  {
   "cell_type": "code",
   "execution_count": 25,
   "id": "fbf09def",
   "metadata": {},
   "outputs": [
    {
     "data": {
      "text/plain": [
       "Index(['A', 'B', 'C', 'D'], dtype='object')"
      ]
     },
     "execution_count": 25,
     "metadata": {},
     "output_type": "execute_result"
    }
   ],
   "source": [
    "df.columns"
   ]
  },
  {
   "cell_type": "code",
   "execution_count": 26,
   "id": "49dbd8a8",
   "metadata": {},
   "outputs": [
    {
     "data": {
      "text/html": [
       "<div>\n",
       "<style scoped>\n",
       "    .dataframe tbody tr th:only-of-type {\n",
       "        vertical-align: middle;\n",
       "    }\n",
       "\n",
       "    .dataframe tbody tr th {\n",
       "        vertical-align: top;\n",
       "    }\n",
       "\n",
       "    .dataframe thead th {\n",
       "        text-align: right;\n",
       "    }\n",
       "</style>\n",
       "<table border=\"1\" class=\"dataframe\">\n",
       "  <thead>\n",
       "    <tr style=\"text-align: right;\">\n",
       "      <th></th>\n",
       "      <th>A</th>\n",
       "      <th>B</th>\n",
       "      <th>C</th>\n",
       "      <th>D</th>\n",
       "    </tr>\n",
       "  </thead>\n",
       "  <tbody>\n",
       "    <tr>\n",
       "      <th>2013-01-01</th>\n",
       "      <td>-0.067052</td>\n",
       "      <td>-0.705840</td>\n",
       "      <td>-0.642275</td>\n",
       "      <td>0.380692</td>\n",
       "    </tr>\n",
       "    <tr>\n",
       "      <th>2013-01-02</th>\n",
       "      <td>2.153731</td>\n",
       "      <td>-1.542218</td>\n",
       "      <td>-0.851476</td>\n",
       "      <td>0.371424</td>\n",
       "    </tr>\n",
       "    <tr>\n",
       "      <th>2013-01-03</th>\n",
       "      <td>1.183724</td>\n",
       "      <td>0.684146</td>\n",
       "      <td>0.603775</td>\n",
       "      <td>-1.719785</td>\n",
       "    </tr>\n",
       "    <tr>\n",
       "      <th>2013-01-04</th>\n",
       "      <td>0.308195</td>\n",
       "      <td>-0.248869</td>\n",
       "      <td>0.242976</td>\n",
       "      <td>0.596211</td>\n",
       "    </tr>\n",
       "    <tr>\n",
       "      <th>2013-01-05</th>\n",
       "      <td>-2.112417</td>\n",
       "      <td>0.156748</td>\n",
       "      <td>-1.955114</td>\n",
       "      <td>0.340336</td>\n",
       "    </tr>\n",
       "  </tbody>\n",
       "</table>\n",
       "</div>"
      ],
      "text/plain": [
       "                   A         B         C         D\n",
       "2013-01-01 -0.067052 -0.705840 -0.642275  0.380692\n",
       "2013-01-02  2.153731 -1.542218 -0.851476  0.371424\n",
       "2013-01-03  1.183724  0.684146  0.603775 -1.719785\n",
       "2013-01-04  0.308195 -0.248869  0.242976  0.596211\n",
       "2013-01-05 -2.112417  0.156748 -1.955114  0.340336"
      ]
     },
     "execution_count": 26,
     "metadata": {},
     "output_type": "execute_result"
    }
   ],
   "source": [
    "df.head()"
   ]
  },
  {
   "cell_type": "markdown",
   "id": "68001b38",
   "metadata": {},
   "source": [
    "# DataFrame.to_numpy()"
   ]
  },
  {
   "cell_type": "markdown",
   "id": "a0b3935c",
   "metadata": {},
   "source": [
    "DataFrame.to_numpy() 方法将 DataFrame 转换为 NumPy 数组。它返回一个 NumPy 数组，其中包含 DataFrame 中的所有数据。这个方法可以用于将 DataFrame 转换为 NumPy 数组，以便在 NumPy 中进行计算和操作。\n",
    "\n",
    "当 DataFrame 的列由多种数据类型组成时，Pandas 需要对每个元素进行类型检查和转换，这会导致操作耗费更多的系统资源。这也是 Pandas 和 NumPy 的本质区别：NumPy 数组只有一种数据类型，DataFrame 每列的数据类型各不相同。此外，由于不同的数据类型需要不同的内存空间，这也会增加内存的使用量。\n",
    "\n",
    "以下是使用 DataFrame.to_numpy() 时需要注意的几点：\n",
    "\n",
    "1. DataFrame.to_numpy() 方法返回一个 NumPy 数组，其中包含 DataFrame 中的所有数据。这个数组是一个视图，而不是副本。因此，对返回的数组进行修改会影响原始 DataFrame 中的数据。\n",
    "\n",
    "2. 如果 DataFrame 中包含不同的数据类型，to_numpy() 方法会将它们转换为一种通用的数据类型。这可能会导致数据类型的损失，因此需要谨慎使用。\n",
    "\n",
    "3. 如果 DataFrame 中包含缺失值（NaN），to_numpy() 方法会将它们转换为浮点数类型的 NaN 值。这可能会导致数据类型的不一致，因此需要谨慎使用。\n",
    "\n",
    "4. 如果 DataFrame 中包含字符串类型的数据，to_numpy() 方法会将它们转换为 object 类型的 NumPy 数组。这可能会导致数据类型的不一致，因此需要谨慎使用。\n",
    "\n",
    "5. 如果 DataFrame 中包含日期时间类型的数据，to_numpy() 方法会将它们转换为 datetime64 类型的 NumPy 数组。这可能会导致数据类型的不一致，因此需要谨慎使用。"
   ]
  },
  {
   "cell_type": "markdown",
   "id": "14d10455",
   "metadata": {},
   "source": [
    "Pandas 查找支持 DataFrame 里所有数据类型的 NumPy 数据类型。如下"
   ]
  },
  {
   "cell_type": "markdown",
   "id": "9ba9b36a",
   "metadata": {},
   "source": [
    "| Pandas 数据类型 | NumPy 数据类型 |\n",
    "| --- | --- |\n",
    "| object | object |\n",
    "| int64 | int_ |\n",
    "| float64 | float_ |\n",
    "| bool | bool_ |\n",
    "| datetime64 | datetime64 |\n",
    "| timedelta[ns] | timedelta64 |\n",
    "| category | int_ 或 object |"
   ]
  },
  {
   "cell_type": "code",
   "execution_count": 28,
   "id": "42e0ed88",
   "metadata": {},
   "outputs": [
    {
     "data": {
      "text/plain": [
       "array([[-0.06705184, -0.70584015, -0.64227536,  0.38069202],\n",
       "       [ 2.15373064, -1.5422178 , -0.8514761 ,  0.37142447],\n",
       "       [ 1.18372436,  0.6841458 ,  0.6037746 , -1.71978481],\n",
       "       [ 0.30819459, -0.24886879,  0.24297577,  0.59621138],\n",
       "       [-2.1124171 ,  0.15674782, -1.95511426,  0.34033563],\n",
       "       [-0.97302186,  0.35009151, -0.06985386, -0.85140157]])"
      ]
     },
     "execution_count": 28,
     "metadata": {},
     "output_type": "execute_result"
    }
   ],
   "source": [
    "df.to_numpy()"
   ]
  },
  {
   "cell_type": "code",
   "execution_count": 29,
   "id": "0782edf2",
   "metadata": {},
   "outputs": [
    {
     "data": {
      "text/plain": [
       "array([[1.0, Timestamp('2013-01-02 00:00:00'), 1.0, 3, 'test', 'foo'],\n",
       "       [1.0, Timestamp('2013-01-02 00:00:00'), 1.0, 3, 'train', 'foo'],\n",
       "       [1.0, Timestamp('2013-01-02 00:00:00'), 1.0, 3, 'test', 'foo'],\n",
       "       [1.0, Timestamp('2013-01-02 00:00:00'), 1.0, 3, 'train', 'foo']],\n",
       "      dtype=object)"
      ]
     },
     "execution_count": 29,
     "metadata": {},
     "output_type": "execute_result"
    }
   ],
   "source": [
    "#df2 这个 DataFrame 包含了多种类型，DataFrame.to_numpy() 操作就会耗费较多资源。\n",
    "df2.to_numpy()"
   ]
  },
  {
   "cell_type": "markdown",
   "id": "16cb98de",
   "metadata": {},
   "source": [
    "还有一种数据类型是 object,可以使用 pandas 的 astype() 方法将 DataFrame 列的数据类型转换为 object 类型。"
   ]
  },
  {
   "cell_type": "code",
   "execution_count": 51,
   "id": "8b492653",
   "metadata": {},
   "outputs": [
    {
     "data": {
      "text/html": [
       "<div>\n",
       "<style scoped>\n",
       "    .dataframe tbody tr th:only-of-type {\n",
       "        vertical-align: middle;\n",
       "    }\n",
       "\n",
       "    .dataframe tbody tr th {\n",
       "        vertical-align: top;\n",
       "    }\n",
       "\n",
       "    .dataframe thead th {\n",
       "        text-align: right;\n",
       "    }\n",
       "</style>\n",
       "<table border=\"1\" class=\"dataframe\">\n",
       "  <thead>\n",
       "    <tr style=\"text-align: right;\">\n",
       "      <th></th>\n",
       "      <th>A</th>\n",
       "      <th>B</th>\n",
       "    </tr>\n",
       "  </thead>\n",
       "  <tbody>\n",
       "    <tr>\n",
       "      <th>0</th>\n",
       "      <td>1</td>\n",
       "      <td>a</td>\n",
       "    </tr>\n",
       "    <tr>\n",
       "      <th>1</th>\n",
       "      <td>2</td>\n",
       "      <td>b</td>\n",
       "    </tr>\n",
       "    <tr>\n",
       "      <th>2</th>\n",
       "      <td>3</td>\n",
       "      <td>c</td>\n",
       "    </tr>\n",
       "  </tbody>\n",
       "</table>\n",
       "</div>"
      ],
      "text/plain": [
       "   A  B\n",
       "0  1  a\n",
       "1  2  b\n",
       "2  3  c"
      ]
     },
     "execution_count": 51,
     "metadata": {},
     "output_type": "execute_result"
    }
   ],
   "source": [
    "df3 = pd.DataFrame({'A': [1, 2, 3], 'B': ['a', 'b', 'c']})\n",
    "df3"
   ]
  },
  {
   "cell_type": "code",
   "execution_count": 52,
   "id": "48166e12",
   "metadata": {},
   "outputs": [
    {
     "data": {
      "text/plain": [
       "A     int64\n",
       "B    object\n",
       "dtype: object"
      ]
     },
     "execution_count": 52,
     "metadata": {},
     "output_type": "execute_result"
    }
   ],
   "source": [
    "df3.dtypes"
   ]
  },
  {
   "cell_type": "code",
   "execution_count": 53,
   "id": "fa18f956",
   "metadata": {},
   "outputs": [
    {
     "data": {
      "text/plain": [
       "A    object\n",
       "B    object\n",
       "dtype: object"
      ]
     },
     "execution_count": 53,
     "metadata": {},
     "output_type": "execute_result"
    }
   ],
   "source": [
    "df3['A'] = df3['A'].astype('object')\n",
    "df3.dtypes"
   ]
  },
  {
   "cell_type": "markdown",
   "id": "50027911",
   "metadata": {},
   "source": [
    "DataFrame.to_numpy() 的输出是一个 NumPy 数组，其中不包含行索引和列标签。它只包含数据本身。"
   ]
  },
  {
   "cell_type": "code",
   "execution_count": 215,
   "id": "b2a3d28a",
   "metadata": {},
   "outputs": [
    {
     "name": "stdout",
     "output_type": "stream",
     "text": [
      "[[ 1  5  9]\n",
      " [ 2  6 10]\n",
      " [ 3  7 11]\n",
      " [ 4  8 12]]\n"
     ]
    }
   ],
   "source": [
    "df4 = pd.DataFrame({'A': [1, 2, 3, 4], 'B': [5, 6, 7, 8], 'C': [9, 10, 11, 12]}, index=['a', 'b', 'c','d'])\n",
    "array = df4.to_numpy()\n",
    "print(array)"
   ]
  },
  {
   "cell_type": "code",
   "execution_count": 216,
   "id": "b70c3cef",
   "metadata": {},
   "outputs": [
    {
     "data": {
      "text/html": [
       "<div>\n",
       "<style scoped>\n",
       "    .dataframe tbody tr th:only-of-type {\n",
       "        vertical-align: middle;\n",
       "    }\n",
       "\n",
       "    .dataframe tbody tr th {\n",
       "        vertical-align: top;\n",
       "    }\n",
       "\n",
       "    .dataframe thead th {\n",
       "        text-align: right;\n",
       "    }\n",
       "</style>\n",
       "<table border=\"1\" class=\"dataframe\">\n",
       "  <thead>\n",
       "    <tr style=\"text-align: right;\">\n",
       "      <th></th>\n",
       "      <th>A</th>\n",
       "      <th>B</th>\n",
       "      <th>C</th>\n",
       "    </tr>\n",
       "  </thead>\n",
       "  <tbody>\n",
       "    <tr>\n",
       "      <th>a</th>\n",
       "      <td>1</td>\n",
       "      <td>5</td>\n",
       "      <td>9</td>\n",
       "    </tr>\n",
       "    <tr>\n",
       "      <th>b</th>\n",
       "      <td>2</td>\n",
       "      <td>6</td>\n",
       "      <td>10</td>\n",
       "    </tr>\n",
       "    <tr>\n",
       "      <th>c</th>\n",
       "      <td>3</td>\n",
       "      <td>7</td>\n",
       "      <td>11</td>\n",
       "    </tr>\n",
       "    <tr>\n",
       "      <th>d</th>\n",
       "      <td>4</td>\n",
       "      <td>8</td>\n",
       "      <td>12</td>\n",
       "    </tr>\n",
       "  </tbody>\n",
       "</table>\n",
       "</div>"
      ],
      "text/plain": [
       "   A  B   C\n",
       "a  1  5   9\n",
       "b  2  6  10\n",
       "c  3  7  11\n",
       "d  4  8  12"
      ]
     },
     "execution_count": 216,
     "metadata": {},
     "output_type": "execute_result"
    }
   ],
   "source": [
    "df4"
   ]
  },
  {
   "cell_type": "code",
   "execution_count": 217,
   "id": "584dc3b3",
   "metadata": {},
   "outputs": [
    {
     "data": {
      "text/html": [
       "<div>\n",
       "<style scoped>\n",
       "    .dataframe tbody tr th:only-of-type {\n",
       "        vertical-align: middle;\n",
       "    }\n",
       "\n",
       "    .dataframe tbody tr th {\n",
       "        vertical-align: top;\n",
       "    }\n",
       "\n",
       "    .dataframe thead th {\n",
       "        text-align: right;\n",
       "    }\n",
       "</style>\n",
       "<table border=\"1\" class=\"dataframe\">\n",
       "  <thead>\n",
       "    <tr style=\"text-align: right;\">\n",
       "      <th></th>\n",
       "      <th>A</th>\n",
       "      <th>B</th>\n",
       "      <th>C</th>\n",
       "    </tr>\n",
       "  </thead>\n",
       "  <tbody>\n",
       "    <tr>\n",
       "      <th>count</th>\n",
       "      <td>4.000000</td>\n",
       "      <td>4.000000</td>\n",
       "      <td>4.000000</td>\n",
       "    </tr>\n",
       "    <tr>\n",
       "      <th>mean</th>\n",
       "      <td>2.500000</td>\n",
       "      <td>6.500000</td>\n",
       "      <td>10.500000</td>\n",
       "    </tr>\n",
       "    <tr>\n",
       "      <th>std</th>\n",
       "      <td>1.290994</td>\n",
       "      <td>1.290994</td>\n",
       "      <td>1.290994</td>\n",
       "    </tr>\n",
       "    <tr>\n",
       "      <th>min</th>\n",
       "      <td>1.000000</td>\n",
       "      <td>5.000000</td>\n",
       "      <td>9.000000</td>\n",
       "    </tr>\n",
       "    <tr>\n",
       "      <th>25%</th>\n",
       "      <td>1.750000</td>\n",
       "      <td>5.750000</td>\n",
       "      <td>9.750000</td>\n",
       "    </tr>\n",
       "    <tr>\n",
       "      <th>50%</th>\n",
       "      <td>2.500000</td>\n",
       "      <td>6.500000</td>\n",
       "      <td>10.500000</td>\n",
       "    </tr>\n",
       "    <tr>\n",
       "      <th>75%</th>\n",
       "      <td>3.250000</td>\n",
       "      <td>7.250000</td>\n",
       "      <td>11.250000</td>\n",
       "    </tr>\n",
       "    <tr>\n",
       "      <th>max</th>\n",
       "      <td>4.000000</td>\n",
       "      <td>8.000000</td>\n",
       "      <td>12.000000</td>\n",
       "    </tr>\n",
       "  </tbody>\n",
       "</table>\n",
       "</div>"
      ],
      "text/plain": [
       "              A         B          C\n",
       "count  4.000000  4.000000   4.000000\n",
       "mean   2.500000  6.500000  10.500000\n",
       "std    1.290994  1.290994   1.290994\n",
       "min    1.000000  5.000000   9.000000\n",
       "25%    1.750000  5.750000   9.750000\n",
       "50%    2.500000  6.500000  10.500000\n",
       "75%    3.250000  7.250000  11.250000\n",
       "max    4.000000  8.000000  12.000000"
      ]
     },
     "execution_count": 217,
     "metadata": {},
     "output_type": "execute_result"
    }
   ],
   "source": [
    "#describe() 快速查看数据的统计摘要\n",
    "df4.describe()"
   ]
  },
  {
   "cell_type": "markdown",
   "id": "488f13ff",
   "metadata": {},
   "source": [
    "count计算非NA/空观测的数量\n",
    "\n",
    "mean表示数据的平均值\n",
    "\n",
    "std表示数据的标准差\n",
    "\n",
    "25%、50%、75%分别表示数据的第一四分位数、中位数和第三四分位数"
   ]
  },
  {
   "cell_type": "code",
   "execution_count": 218,
   "id": "1361d2c9",
   "metadata": {},
   "outputs": [
    {
     "data": {
      "text/html": [
       "<div>\n",
       "<style scoped>\n",
       "    .dataframe tbody tr th:only-of-type {\n",
       "        vertical-align: middle;\n",
       "    }\n",
       "\n",
       "    .dataframe tbody tr th {\n",
       "        vertical-align: top;\n",
       "    }\n",
       "\n",
       "    .dataframe thead th {\n",
       "        text-align: right;\n",
       "    }\n",
       "</style>\n",
       "<table border=\"1\" class=\"dataframe\">\n",
       "  <thead>\n",
       "    <tr style=\"text-align: right;\">\n",
       "      <th></th>\n",
       "      <th>a</th>\n",
       "      <th>b</th>\n",
       "      <th>c</th>\n",
       "      <th>d</th>\n",
       "    </tr>\n",
       "  </thead>\n",
       "  <tbody>\n",
       "    <tr>\n",
       "      <th>A</th>\n",
       "      <td>1</td>\n",
       "      <td>2</td>\n",
       "      <td>3</td>\n",
       "      <td>4</td>\n",
       "    </tr>\n",
       "    <tr>\n",
       "      <th>B</th>\n",
       "      <td>5</td>\n",
       "      <td>6</td>\n",
       "      <td>7</td>\n",
       "      <td>8</td>\n",
       "    </tr>\n",
       "    <tr>\n",
       "      <th>C</th>\n",
       "      <td>9</td>\n",
       "      <td>10</td>\n",
       "      <td>11</td>\n",
       "      <td>12</td>\n",
       "    </tr>\n",
       "  </tbody>\n",
       "</table>\n",
       "</div>"
      ],
      "text/plain": [
       "   a   b   c   d\n",
       "A  1   2   3   4\n",
       "B  5   6   7   8\n",
       "C  9  10  11  12"
      ]
     },
     "execution_count": 218,
     "metadata": {},
     "output_type": "execute_result"
    }
   ],
   "source": [
    "df4.T#转置"
   ]
  },
  {
   "cell_type": "code",
   "execution_count": 219,
   "id": "7afb7573",
   "metadata": {},
   "outputs": [
    {
     "data": {
      "text/html": [
       "<div>\n",
       "<style scoped>\n",
       "    .dataframe tbody tr th:only-of-type {\n",
       "        vertical-align: middle;\n",
       "    }\n",
       "\n",
       "    .dataframe tbody tr th {\n",
       "        vertical-align: top;\n",
       "    }\n",
       "\n",
       "    .dataframe thead th {\n",
       "        text-align: right;\n",
       "    }\n",
       "</style>\n",
       "<table border=\"1\" class=\"dataframe\">\n",
       "  <thead>\n",
       "    <tr style=\"text-align: right;\">\n",
       "      <th></th>\n",
       "      <th>C</th>\n",
       "      <th>B</th>\n",
       "      <th>A</th>\n",
       "    </tr>\n",
       "  </thead>\n",
       "  <tbody>\n",
       "    <tr>\n",
       "      <th>a</th>\n",
       "      <td>9</td>\n",
       "      <td>5</td>\n",
       "      <td>1</td>\n",
       "    </tr>\n",
       "    <tr>\n",
       "      <th>b</th>\n",
       "      <td>10</td>\n",
       "      <td>6</td>\n",
       "      <td>2</td>\n",
       "    </tr>\n",
       "    <tr>\n",
       "      <th>c</th>\n",
       "      <td>11</td>\n",
       "      <td>7</td>\n",
       "      <td>3</td>\n",
       "    </tr>\n",
       "    <tr>\n",
       "      <th>d</th>\n",
       "      <td>12</td>\n",
       "      <td>8</td>\n",
       "      <td>4</td>\n",
       "    </tr>\n",
       "  </tbody>\n",
       "</table>\n",
       "</div>"
      ],
      "text/plain": [
       "    C  B  A\n",
       "a   9  5  1\n",
       "b  10  6  2\n",
       "c  11  7  3\n",
       "d  12  8  4"
      ]
     },
     "execution_count": 219,
     "metadata": {},
     "output_type": "execute_result"
    }
   ],
   "source": [
    "#按轴排序\n",
    "df4.sort_index(axis=1, ascending=False)#ascending=False表示降序排列"
   ]
  },
  {
   "cell_type": "code",
   "execution_count": 220,
   "id": "721fb283",
   "metadata": {},
   "outputs": [
    {
     "data": {
      "text/html": [
       "<div>\n",
       "<style scoped>\n",
       "    .dataframe tbody tr th:only-of-type {\n",
       "        vertical-align: middle;\n",
       "    }\n",
       "\n",
       "    .dataframe tbody tr th {\n",
       "        vertical-align: top;\n",
       "    }\n",
       "\n",
       "    .dataframe thead th {\n",
       "        text-align: right;\n",
       "    }\n",
       "</style>\n",
       "<table border=\"1\" class=\"dataframe\">\n",
       "  <thead>\n",
       "    <tr style=\"text-align: right;\">\n",
       "      <th></th>\n",
       "      <th>A</th>\n",
       "      <th>B</th>\n",
       "      <th>C</th>\n",
       "    </tr>\n",
       "  </thead>\n",
       "  <tbody>\n",
       "    <tr>\n",
       "      <th>a</th>\n",
       "      <td>1</td>\n",
       "      <td>5</td>\n",
       "      <td>13</td>\n",
       "    </tr>\n",
       "    <tr>\n",
       "      <th>b</th>\n",
       "      <td>13</td>\n",
       "      <td>9</td>\n",
       "      <td>10</td>\n",
       "    </tr>\n",
       "    <tr>\n",
       "      <th>c</th>\n",
       "      <td>3</td>\n",
       "      <td>7</td>\n",
       "      <td>11</td>\n",
       "    </tr>\n",
       "    <tr>\n",
       "      <th>d</th>\n",
       "      <td>4</td>\n",
       "      <td>8</td>\n",
       "      <td>12</td>\n",
       "    </tr>\n",
       "  </tbody>\n",
       "</table>\n",
       "</div>"
      ],
      "text/plain": [
       "    A  B   C\n",
       "a   1  5  13\n",
       "b  13  9  10\n",
       "c   3  7  11\n",
       "d   4  8  12"
      ]
     },
     "execution_count": 220,
     "metadata": {},
     "output_type": "execute_result"
    }
   ],
   "source": [
    "#按值排序\n",
    "df4 = pd.DataFrame({'A': [1, 13, 3, 4], 'B': [5, 9, 7, 8], 'C': [13, 10, 11, 12]}, index=['a', 'b', 'c','d'])\n",
    "df4"
   ]
  },
  {
   "cell_type": "code",
   "execution_count": 221,
   "id": "1c0dcdc0",
   "metadata": {},
   "outputs": [
    {
     "data": {
      "text/html": [
       "<div>\n",
       "<style scoped>\n",
       "    .dataframe tbody tr th:only-of-type {\n",
       "        vertical-align: middle;\n",
       "    }\n",
       "\n",
       "    .dataframe tbody tr th {\n",
       "        vertical-align: top;\n",
       "    }\n",
       "\n",
       "    .dataframe thead th {\n",
       "        text-align: right;\n",
       "    }\n",
       "</style>\n",
       "<table border=\"1\" class=\"dataframe\">\n",
       "  <thead>\n",
       "    <tr style=\"text-align: right;\">\n",
       "      <th></th>\n",
       "      <th>A</th>\n",
       "      <th>B</th>\n",
       "      <th>C</th>\n",
       "    </tr>\n",
       "  </thead>\n",
       "  <tbody>\n",
       "    <tr>\n",
       "      <th>a</th>\n",
       "      <td>1</td>\n",
       "      <td>5</td>\n",
       "      <td>13</td>\n",
       "    </tr>\n",
       "    <tr>\n",
       "      <th>c</th>\n",
       "      <td>3</td>\n",
       "      <td>7</td>\n",
       "      <td>11</td>\n",
       "    </tr>\n",
       "    <tr>\n",
       "      <th>d</th>\n",
       "      <td>4</td>\n",
       "      <td>8</td>\n",
       "      <td>12</td>\n",
       "    </tr>\n",
       "    <tr>\n",
       "      <th>b</th>\n",
       "      <td>13</td>\n",
       "      <td>9</td>\n",
       "      <td>10</td>\n",
       "    </tr>\n",
       "  </tbody>\n",
       "</table>\n",
       "</div>"
      ],
      "text/plain": [
       "    A  B   C\n",
       "a   1  5  13\n",
       "c   3  7  11\n",
       "d   4  8  12\n",
       "b  13  9  10"
      ]
     },
     "execution_count": 221,
     "metadata": {},
     "output_type": "execute_result"
    }
   ],
   "source": [
    "df4.sort_values(by='A')#指定行/列的值进行排序，会改变行索引的顺序，因此会对其他行/列产生影响"
   ]
  },
  {
   "cell_type": "markdown",
   "id": "46a284ac",
   "metadata": {},
   "source": [
    "# 选择数据"
   ]
  },
  {
   "cell_type": "markdown",
   "id": "623a7b2d",
   "metadata": {},
   "source": [
    "## 获取数据"
   ]
  },
  {
   "cell_type": "code",
   "execution_count": 222,
   "id": "a9095da2",
   "metadata": {},
   "outputs": [
    {
     "data": {
      "text/plain": [
       "a     1\n",
       "b    13\n",
       "c     3\n",
       "d     4\n",
       "Name: A, dtype: int64"
      ]
     },
     "execution_count": 222,
     "metadata": {},
     "output_type": "execute_result"
    }
   ],
   "source": [
    "#选择单列，产生 Series，与 df.A 等效\n",
    "df4['A']"
   ]
  },
  {
   "cell_type": "code",
   "execution_count": 223,
   "id": "13225717",
   "metadata": {},
   "outputs": [
    {
     "data": {
      "text/plain": [
       "a     1\n",
       "b    13\n",
       "c     3\n",
       "d     4\n",
       "Name: A, dtype: int64"
      ]
     },
     "execution_count": 223,
     "metadata": {},
     "output_type": "execute_result"
    }
   ],
   "source": [
    "df4.A"
   ]
  },
  {
   "cell_type": "code",
   "execution_count": 224,
   "id": "8b025727",
   "metadata": {},
   "outputs": [
    {
     "data": {
      "text/html": [
       "<div>\n",
       "<style scoped>\n",
       "    .dataframe tbody tr th:only-of-type {\n",
       "        vertical-align: middle;\n",
       "    }\n",
       "\n",
       "    .dataframe tbody tr th {\n",
       "        vertical-align: top;\n",
       "    }\n",
       "\n",
       "    .dataframe thead th {\n",
       "        text-align: right;\n",
       "    }\n",
       "</style>\n",
       "<table border=\"1\" class=\"dataframe\">\n",
       "  <thead>\n",
       "    <tr style=\"text-align: right;\">\n",
       "      <th></th>\n",
       "      <th>A</th>\n",
       "      <th>B</th>\n",
       "      <th>C</th>\n",
       "    </tr>\n",
       "  </thead>\n",
       "  <tbody>\n",
       "    <tr>\n",
       "      <th>a</th>\n",
       "      <td>1</td>\n",
       "      <td>5</td>\n",
       "      <td>13</td>\n",
       "    </tr>\n",
       "    <tr>\n",
       "      <th>b</th>\n",
       "      <td>13</td>\n",
       "      <td>9</td>\n",
       "      <td>10</td>\n",
       "    </tr>\n",
       "    <tr>\n",
       "      <th>c</th>\n",
       "      <td>3</td>\n",
       "      <td>7</td>\n",
       "      <td>11</td>\n",
       "    </tr>\n",
       "  </tbody>\n",
       "</table>\n",
       "</div>"
      ],
      "text/plain": [
       "    A  B   C\n",
       "a   1  5  13\n",
       "b  13  9  10\n",
       "c   3  7  11"
      ]
     },
     "execution_count": 224,
     "metadata": {},
     "output_type": "execute_result"
    }
   ],
   "source": [
    "#用 [ ] 切片行\n",
    "df4[0:3]"
   ]
  },
  {
   "cell_type": "code",
   "execution_count": 225,
   "id": "7420ae35",
   "metadata": {},
   "outputs": [
    {
     "data": {
      "text/html": [
       "<div>\n",
       "<style scoped>\n",
       "    .dataframe tbody tr th:only-of-type {\n",
       "        vertical-align: middle;\n",
       "    }\n",
       "\n",
       "    .dataframe tbody tr th {\n",
       "        vertical-align: top;\n",
       "    }\n",
       "\n",
       "    .dataframe thead th {\n",
       "        text-align: right;\n",
       "    }\n",
       "</style>\n",
       "<table border=\"1\" class=\"dataframe\">\n",
       "  <thead>\n",
       "    <tr style=\"text-align: right;\">\n",
       "      <th></th>\n",
       "      <th>A</th>\n",
       "      <th>B</th>\n",
       "      <th>C</th>\n",
       "    </tr>\n",
       "  </thead>\n",
       "  <tbody>\n",
       "    <tr>\n",
       "      <th>a</th>\n",
       "      <td>1</td>\n",
       "      <td>5</td>\n",
       "      <td>13</td>\n",
       "    </tr>\n",
       "    <tr>\n",
       "      <th>b</th>\n",
       "      <td>13</td>\n",
       "      <td>9</td>\n",
       "      <td>10</td>\n",
       "    </tr>\n",
       "    <tr>\n",
       "      <th>c</th>\n",
       "      <td>3</td>\n",
       "      <td>7</td>\n",
       "      <td>11</td>\n",
       "    </tr>\n",
       "  </tbody>\n",
       "</table>\n",
       "</div>"
      ],
      "text/plain": [
       "    A  B   C\n",
       "a   1  5  13\n",
       "b  13  9  10\n",
       "c   3  7  11"
      ]
     },
     "execution_count": 225,
     "metadata": {},
     "output_type": "execute_result"
    }
   ],
   "source": [
    "df4['a':'c']"
   ]
  },
  {
   "cell_type": "markdown",
   "id": "ba163a0d",
   "metadata": {},
   "source": [
    "## 按标签选择数据DataFrame.loc()"
   ]
  },
  {
   "cell_type": "code",
   "execution_count": 339,
   "id": "d2d7f68d",
   "metadata": {},
   "outputs": [
    {
     "data": {
      "text/html": [
       "<div>\n",
       "<style scoped>\n",
       "    .dataframe tbody tr th:only-of-type {\n",
       "        vertical-align: middle;\n",
       "    }\n",
       "\n",
       "    .dataframe tbody tr th {\n",
       "        vertical-align: top;\n",
       "    }\n",
       "\n",
       "    .dataframe thead th {\n",
       "        text-align: right;\n",
       "    }\n",
       "</style>\n",
       "<table border=\"1\" class=\"dataframe\">\n",
       "  <thead>\n",
       "    <tr style=\"text-align: right;\">\n",
       "      <th></th>\n",
       "      <th>A</th>\n",
       "      <th>B</th>\n",
       "      <th>C</th>\n",
       "      <th>D</th>\n",
       "    </tr>\n",
       "  </thead>\n",
       "  <tbody>\n",
       "    <tr>\n",
       "      <th>2013-01-01</th>\n",
       "      <td>0.714287</td>\n",
       "      <td>0.775568</td>\n",
       "      <td>-0.495897</td>\n",
       "      <td>-0.010776</td>\n",
       "    </tr>\n",
       "    <tr>\n",
       "      <th>2013-01-02</th>\n",
       "      <td>-1.128176</td>\n",
       "      <td>1.364633</td>\n",
       "      <td>0.445825</td>\n",
       "      <td>-0.277324</td>\n",
       "    </tr>\n",
       "    <tr>\n",
       "      <th>2013-01-03</th>\n",
       "      <td>-0.750977</td>\n",
       "      <td>1.976593</td>\n",
       "      <td>1.125147</td>\n",
       "      <td>0.572404</td>\n",
       "    </tr>\n",
       "    <tr>\n",
       "      <th>2013-01-04</th>\n",
       "      <td>2.006577</td>\n",
       "      <td>0.365397</td>\n",
       "      <td>-0.327764</td>\n",
       "      <td>-1.533695</td>\n",
       "    </tr>\n",
       "    <tr>\n",
       "      <th>2013-01-05</th>\n",
       "      <td>-0.570798</td>\n",
       "      <td>-0.499030</td>\n",
       "      <td>-1.600058</td>\n",
       "      <td>-0.597340</td>\n",
       "    </tr>\n",
       "    <tr>\n",
       "      <th>2013-01-06</th>\n",
       "      <td>0.635551</td>\n",
       "      <td>-0.403946</td>\n",
       "      <td>1.255290</td>\n",
       "      <td>0.519406</td>\n",
       "    </tr>\n",
       "  </tbody>\n",
       "</table>\n",
       "</div>"
      ],
      "text/plain": [
       "                   A         B         C         D\n",
       "2013-01-01  0.714287  0.775568 -0.495897 -0.010776\n",
       "2013-01-02 -1.128176  1.364633  0.445825 -0.277324\n",
       "2013-01-03 -0.750977  1.976593  1.125147  0.572404\n",
       "2013-01-04  2.006577  0.365397 -0.327764 -1.533695\n",
       "2013-01-05 -0.570798 -0.499030 -1.600058 -0.597340\n",
       "2013-01-06  0.635551 -0.403946  1.255290  0.519406"
      ]
     },
     "execution_count": 339,
     "metadata": {},
     "output_type": "execute_result"
    }
   ],
   "source": [
    "df5 = pd.DataFrame(np.random.randn(6, 4), index=dates, columns=list('ABCD'))\n",
    "df5"
   ]
  },
  {
   "cell_type": "code",
   "execution_count": 340,
   "id": "5ecaef54",
   "metadata": {},
   "outputs": [
    {
     "data": {
      "text/plain": [
       "A    0.714287\n",
       "B    0.775568\n",
       "C   -0.495897\n",
       "D   -0.010776\n",
       "Name: 2013-01-01 00:00:00, dtype: float64"
      ]
     },
     "execution_count": 340,
     "metadata": {},
     "output_type": "execute_result"
    }
   ],
   "source": [
    "#用标签提取一行数据\n",
    "df5.loc[dates[0]]#日期时间索引为0的行数据"
   ]
  },
  {
   "cell_type": "code",
   "execution_count": 341,
   "id": "cbacfadc",
   "metadata": {},
   "outputs": [
    {
     "data": {
      "text/html": [
       "<div>\n",
       "<style scoped>\n",
       "    .dataframe tbody tr th:only-of-type {\n",
       "        vertical-align: middle;\n",
       "    }\n",
       "\n",
       "    .dataframe tbody tr th {\n",
       "        vertical-align: top;\n",
       "    }\n",
       "\n",
       "    .dataframe thead th {\n",
       "        text-align: right;\n",
       "    }\n",
       "</style>\n",
       "<table border=\"1\" class=\"dataframe\">\n",
       "  <thead>\n",
       "    <tr style=\"text-align: right;\">\n",
       "      <th></th>\n",
       "      <th>A</th>\n",
       "    </tr>\n",
       "  </thead>\n",
       "  <tbody>\n",
       "    <tr>\n",
       "      <th>2013-01-01</th>\n",
       "      <td>0.714287</td>\n",
       "    </tr>\n",
       "    <tr>\n",
       "      <th>2013-01-02</th>\n",
       "      <td>-1.128176</td>\n",
       "    </tr>\n",
       "    <tr>\n",
       "      <th>2013-01-03</th>\n",
       "      <td>-0.750977</td>\n",
       "    </tr>\n",
       "    <tr>\n",
       "      <th>2013-01-04</th>\n",
       "      <td>2.006577</td>\n",
       "    </tr>\n",
       "    <tr>\n",
       "      <th>2013-01-05</th>\n",
       "      <td>-0.570798</td>\n",
       "    </tr>\n",
       "    <tr>\n",
       "      <th>2013-01-06</th>\n",
       "      <td>0.635551</td>\n",
       "    </tr>\n",
       "  </tbody>\n",
       "</table>\n",
       "</div>"
      ],
      "text/plain": [
       "                   A\n",
       "2013-01-01  0.714287\n",
       "2013-01-02 -1.128176\n",
       "2013-01-03 -0.750977\n",
       "2013-01-04  2.006577\n",
       "2013-01-05 -0.570798\n",
       "2013-01-06  0.635551"
      ]
     },
     "execution_count": 341,
     "metadata": {},
     "output_type": "execute_result"
    }
   ],
   "source": [
    "df5.loc[:,['A']]"
   ]
  },
  {
   "cell_type": "code",
   "execution_count": 342,
   "id": "611c87cc",
   "metadata": {},
   "outputs": [
    {
     "data": {
      "text/html": [
       "<div>\n",
       "<style scoped>\n",
       "    .dataframe tbody tr th:only-of-type {\n",
       "        vertical-align: middle;\n",
       "    }\n",
       "\n",
       "    .dataframe tbody tr th {\n",
       "        vertical-align: top;\n",
       "    }\n",
       "\n",
       "    .dataframe thead th {\n",
       "        text-align: right;\n",
       "    }\n",
       "</style>\n",
       "<table border=\"1\" class=\"dataframe\">\n",
       "  <thead>\n",
       "    <tr style=\"text-align: right;\">\n",
       "      <th></th>\n",
       "      <th>A</th>\n",
       "      <th>B</th>\n",
       "    </tr>\n",
       "  </thead>\n",
       "  <tbody>\n",
       "    <tr>\n",
       "      <th>2013-01-01</th>\n",
       "      <td>0.714287</td>\n",
       "      <td>0.775568</td>\n",
       "    </tr>\n",
       "    <tr>\n",
       "      <th>2013-01-02</th>\n",
       "      <td>-1.128176</td>\n",
       "      <td>1.364633</td>\n",
       "    </tr>\n",
       "    <tr>\n",
       "      <th>2013-01-03</th>\n",
       "      <td>-0.750977</td>\n",
       "      <td>1.976593</td>\n",
       "    </tr>\n",
       "    <tr>\n",
       "      <th>2013-01-04</th>\n",
       "      <td>2.006577</td>\n",
       "      <td>0.365397</td>\n",
       "    </tr>\n",
       "    <tr>\n",
       "      <th>2013-01-05</th>\n",
       "      <td>-0.570798</td>\n",
       "      <td>-0.499030</td>\n",
       "    </tr>\n",
       "    <tr>\n",
       "      <th>2013-01-06</th>\n",
       "      <td>0.635551</td>\n",
       "      <td>-0.403946</td>\n",
       "    </tr>\n",
       "  </tbody>\n",
       "</table>\n",
       "</div>"
      ],
      "text/plain": [
       "                   A         B\n",
       "2013-01-01  0.714287  0.775568\n",
       "2013-01-02 -1.128176  1.364633\n",
       "2013-01-03 -0.750977  1.976593\n",
       "2013-01-04  2.006577  0.365397\n",
       "2013-01-05 -0.570798 -0.499030\n",
       "2013-01-06  0.635551 -0.403946"
      ]
     },
     "execution_count": 342,
     "metadata": {},
     "output_type": "execute_result"
    }
   ],
   "source": [
    "#用标签选择多列数据\n",
    "df5.loc[:,['A','B']]"
   ]
  },
  {
   "cell_type": "code",
   "execution_count": 343,
   "id": "cf8553c8",
   "metadata": {},
   "outputs": [
    {
     "data": {
      "text/html": [
       "<div>\n",
       "<style scoped>\n",
       "    .dataframe tbody tr th:only-of-type {\n",
       "        vertical-align: middle;\n",
       "    }\n",
       "\n",
       "    .dataframe tbody tr th {\n",
       "        vertical-align: top;\n",
       "    }\n",
       "\n",
       "    .dataframe thead th {\n",
       "        text-align: right;\n",
       "    }\n",
       "</style>\n",
       "<table border=\"1\" class=\"dataframe\">\n",
       "  <thead>\n",
       "    <tr style=\"text-align: right;\">\n",
       "      <th></th>\n",
       "      <th>A</th>\n",
       "      <th>B</th>\n",
       "    </tr>\n",
       "  </thead>\n",
       "  <tbody>\n",
       "    <tr>\n",
       "      <th>2013-01-02</th>\n",
       "      <td>-1.128176</td>\n",
       "      <td>1.364633</td>\n",
       "    </tr>\n",
       "    <tr>\n",
       "      <th>2013-01-03</th>\n",
       "      <td>-0.750977</td>\n",
       "      <td>1.976593</td>\n",
       "    </tr>\n",
       "    <tr>\n",
       "      <th>2013-01-04</th>\n",
       "      <td>2.006577</td>\n",
       "      <td>0.365397</td>\n",
       "    </tr>\n",
       "  </tbody>\n",
       "</table>\n",
       "</div>"
      ],
      "text/plain": [
       "                   A         B\n",
       "2013-01-02 -1.128176  1.364633\n",
       "2013-01-03 -0.750977  1.976593\n",
       "2013-01-04  2.006577  0.365397"
      ]
     },
     "execution_count": 343,
     "metadata": {},
     "output_type": "execute_result"
    }
   ],
   "source": [
    "#用标签切片，包含行与列结束点\n",
    "df5.loc['20130102':'20130104', ['A', 'B']]"
   ]
  },
  {
   "cell_type": "code",
   "execution_count": 344,
   "id": "00f5afe6",
   "metadata": {},
   "outputs": [
    {
     "data": {
      "text/plain": [
       "A   -1.128176\n",
       "B    1.364633\n",
       "Name: 2013-01-02 00:00:00, dtype: float64"
      ]
     },
     "execution_count": 344,
     "metadata": {},
     "output_type": "execute_result"
    }
   ],
   "source": [
    "#返回对象降维\n",
    "df5.loc['20130102', ['A', 'B']]#返回Series对象且只有一维"
   ]
  },
  {
   "cell_type": "code",
   "execution_count": 345,
   "id": "66af744b",
   "metadata": {},
   "outputs": [
    {
     "data": {
      "text/html": [
       "<div>\n",
       "<style scoped>\n",
       "    .dataframe tbody tr th:only-of-type {\n",
       "        vertical-align: middle;\n",
       "    }\n",
       "\n",
       "    .dataframe tbody tr th {\n",
       "        vertical-align: top;\n",
       "    }\n",
       "\n",
       "    .dataframe thead th {\n",
       "        text-align: right;\n",
       "    }\n",
       "</style>\n",
       "<table border=\"1\" class=\"dataframe\">\n",
       "  <thead>\n",
       "    <tr style=\"text-align: right;\">\n",
       "      <th></th>\n",
       "      <th>A</th>\n",
       "      <th>B</th>\n",
       "    </tr>\n",
       "  </thead>\n",
       "  <tbody>\n",
       "    <tr>\n",
       "      <th>2013-01-02</th>\n",
       "      <td>-1.128176</td>\n",
       "      <td>1.364633</td>\n",
       "    </tr>\n",
       "  </tbody>\n",
       "</table>\n",
       "</div>"
      ],
      "text/plain": [
       "                   A         B\n",
       "2013-01-02 -1.128176  1.364633"
      ]
     },
     "execution_count": 345,
     "metadata": {},
     "output_type": "execute_result"
    }
   ],
   "source": [
    "df5.loc[['20130102'], ['A', 'B']]#返回DataFrame对象"
   ]
  },
  {
   "cell_type": "code",
   "execution_count": 346,
   "id": "072a906c",
   "metadata": {},
   "outputs": [
    {
     "data": {
      "text/plain": [
       "0.7142867335835624"
      ]
     },
     "execution_count": 346,
     "metadata": {},
     "output_type": "execute_result"
    }
   ],
   "source": [
    "#提取标量值\n",
    "df5.loc[dates[0], 'A']"
   ]
  },
  {
   "cell_type": "code",
   "execution_count": 347,
   "id": "c5cdc458",
   "metadata": {},
   "outputs": [
    {
     "data": {
      "text/plain": [
       "0.7142867335835624"
      ]
     },
     "execution_count": 347,
     "metadata": {},
     "output_type": "execute_result"
    }
   ],
   "source": [
    "#快速访问标量，与上述方法等效\n",
    "df5.at[dates[0], 'A']\n",
    "#DataFrame的at方法是用于获取或设置单个元素的方法"
   ]
  },
  {
   "cell_type": "markdown",
   "id": "c1eabfa2",
   "metadata": {},
   "source": [
    "## 按位置选择DataFrame.iloc()"
   ]
  },
  {
   "cell_type": "code",
   "execution_count": 348,
   "id": "cdb5a8b7",
   "metadata": {
    "scrolled": false
   },
   "outputs": [
    {
     "data": {
      "text/html": [
       "<div>\n",
       "<style scoped>\n",
       "    .dataframe tbody tr th:only-of-type {\n",
       "        vertical-align: middle;\n",
       "    }\n",
       "\n",
       "    .dataframe tbody tr th {\n",
       "        vertical-align: top;\n",
       "    }\n",
       "\n",
       "    .dataframe thead th {\n",
       "        text-align: right;\n",
       "    }\n",
       "</style>\n",
       "<table border=\"1\" class=\"dataframe\">\n",
       "  <thead>\n",
       "    <tr style=\"text-align: right;\">\n",
       "      <th></th>\n",
       "      <th>A</th>\n",
       "      <th>B</th>\n",
       "      <th>C</th>\n",
       "      <th>D</th>\n",
       "    </tr>\n",
       "  </thead>\n",
       "  <tbody>\n",
       "    <tr>\n",
       "      <th>2013-01-01</th>\n",
       "      <td>0.714287</td>\n",
       "      <td>0.775568</td>\n",
       "      <td>-0.495897</td>\n",
       "      <td>-0.010776</td>\n",
       "    </tr>\n",
       "    <tr>\n",
       "      <th>2013-01-02</th>\n",
       "      <td>-1.128176</td>\n",
       "      <td>1.364633</td>\n",
       "      <td>0.445825</td>\n",
       "      <td>-0.277324</td>\n",
       "    </tr>\n",
       "    <tr>\n",
       "      <th>2013-01-03</th>\n",
       "      <td>-0.750977</td>\n",
       "      <td>1.976593</td>\n",
       "      <td>1.125147</td>\n",
       "      <td>0.572404</td>\n",
       "    </tr>\n",
       "    <tr>\n",
       "      <th>2013-01-04</th>\n",
       "      <td>2.006577</td>\n",
       "      <td>0.365397</td>\n",
       "      <td>-0.327764</td>\n",
       "      <td>-1.533695</td>\n",
       "    </tr>\n",
       "    <tr>\n",
       "      <th>2013-01-05</th>\n",
       "      <td>-0.570798</td>\n",
       "      <td>-0.499030</td>\n",
       "      <td>-1.600058</td>\n",
       "      <td>-0.597340</td>\n",
       "    </tr>\n",
       "    <tr>\n",
       "      <th>2013-01-06</th>\n",
       "      <td>0.635551</td>\n",
       "      <td>-0.403946</td>\n",
       "      <td>1.255290</td>\n",
       "      <td>0.519406</td>\n",
       "    </tr>\n",
       "  </tbody>\n",
       "</table>\n",
       "</div>"
      ],
      "text/plain": [
       "                   A         B         C         D\n",
       "2013-01-01  0.714287  0.775568 -0.495897 -0.010776\n",
       "2013-01-02 -1.128176  1.364633  0.445825 -0.277324\n",
       "2013-01-03 -0.750977  1.976593  1.125147  0.572404\n",
       "2013-01-04  2.006577  0.365397 -0.327764 -1.533695\n",
       "2013-01-05 -0.570798 -0.499030 -1.600058 -0.597340\n",
       "2013-01-06  0.635551 -0.403946  1.255290  0.519406"
      ]
     },
     "execution_count": 348,
     "metadata": {},
     "output_type": "execute_result"
    }
   ],
   "source": [
    "df5"
   ]
  },
  {
   "cell_type": "code",
   "execution_count": 349,
   "id": "384e655e",
   "metadata": {},
   "outputs": [
    {
     "data": {
      "text/plain": [
       "A    2.006577\n",
       "B    0.365397\n",
       "C   -0.327764\n",
       "D   -1.533695\n",
       "Name: 2013-01-04 00:00:00, dtype: float64"
      ]
     },
     "execution_count": 349,
     "metadata": {},
     "output_type": "execute_result"
    }
   ],
   "source": [
    "#用整数位置选择\n",
    "df5.iloc[3]"
   ]
  },
  {
   "cell_type": "code",
   "execution_count": 350,
   "id": "9e63b182",
   "metadata": {},
   "outputs": [
    {
     "data": {
      "text/html": [
       "<div>\n",
       "<style scoped>\n",
       "    .dataframe tbody tr th:only-of-type {\n",
       "        vertical-align: middle;\n",
       "    }\n",
       "\n",
       "    .dataframe tbody tr th {\n",
       "        vertical-align: top;\n",
       "    }\n",
       "\n",
       "    .dataframe thead th {\n",
       "        text-align: right;\n",
       "    }\n",
       "</style>\n",
       "<table border=\"1\" class=\"dataframe\">\n",
       "  <thead>\n",
       "    <tr style=\"text-align: right;\">\n",
       "      <th></th>\n",
       "      <th>A</th>\n",
       "      <th>B</th>\n",
       "    </tr>\n",
       "  </thead>\n",
       "  <tbody>\n",
       "    <tr>\n",
       "      <th>2013-01-04</th>\n",
       "      <td>2.006577</td>\n",
       "      <td>0.365397</td>\n",
       "    </tr>\n",
       "    <tr>\n",
       "      <th>2013-01-05</th>\n",
       "      <td>-0.570798</td>\n",
       "      <td>-0.499030</td>\n",
       "    </tr>\n",
       "  </tbody>\n",
       "</table>\n",
       "</div>"
      ],
      "text/plain": [
       "                   A         B\n",
       "2013-01-04  2.006577  0.365397\n",
       "2013-01-05 -0.570798 -0.499030"
      ]
     },
     "execution_count": 350,
     "metadata": {},
     "output_type": "execute_result"
    }
   ],
   "source": [
    "#类似 NumPy / Python，用整数切片\n",
    "df5.iloc[3:5, 0:2]"
   ]
  },
  {
   "cell_type": "code",
   "execution_count": 351,
   "id": "1459ef43",
   "metadata": {},
   "outputs": [
    {
     "data": {
      "text/html": [
       "<div>\n",
       "<style scoped>\n",
       "    .dataframe tbody tr th:only-of-type {\n",
       "        vertical-align: middle;\n",
       "    }\n",
       "\n",
       "    .dataframe tbody tr th {\n",
       "        vertical-align: top;\n",
       "    }\n",
       "\n",
       "    .dataframe thead th {\n",
       "        text-align: right;\n",
       "    }\n",
       "</style>\n",
       "<table border=\"1\" class=\"dataframe\">\n",
       "  <thead>\n",
       "    <tr style=\"text-align: right;\">\n",
       "      <th></th>\n",
       "      <th>A</th>\n",
       "      <th>C</th>\n",
       "    </tr>\n",
       "  </thead>\n",
       "  <tbody>\n",
       "    <tr>\n",
       "      <th>2013-01-02</th>\n",
       "      <td>-1.128176</td>\n",
       "      <td>0.445825</td>\n",
       "    </tr>\n",
       "    <tr>\n",
       "      <th>2013-01-03</th>\n",
       "      <td>-0.750977</td>\n",
       "      <td>1.125147</td>\n",
       "    </tr>\n",
       "    <tr>\n",
       "      <th>2013-01-05</th>\n",
       "      <td>-0.570798</td>\n",
       "      <td>-1.600058</td>\n",
       "    </tr>\n",
       "  </tbody>\n",
       "</table>\n",
       "</div>"
      ],
      "text/plain": [
       "                   A         C\n",
       "2013-01-02 -1.128176  0.445825\n",
       "2013-01-03 -0.750977  1.125147\n",
       "2013-01-05 -0.570798 -1.600058"
      ]
     },
     "execution_count": 351,
     "metadata": {},
     "output_type": "execute_result"
    }
   ],
   "source": [
    "#类似 NumPy / Python，用整数列表按位置切片\n",
    "df5.iloc[[1, 2, 4], [0, 2]]"
   ]
  },
  {
   "cell_type": "code",
   "execution_count": 352,
   "id": "26badd08",
   "metadata": {},
   "outputs": [
    {
     "data": {
      "text/html": [
       "<div>\n",
       "<style scoped>\n",
       "    .dataframe tbody tr th:only-of-type {\n",
       "        vertical-align: middle;\n",
       "    }\n",
       "\n",
       "    .dataframe tbody tr th {\n",
       "        vertical-align: top;\n",
       "    }\n",
       "\n",
       "    .dataframe thead th {\n",
       "        text-align: right;\n",
       "    }\n",
       "</style>\n",
       "<table border=\"1\" class=\"dataframe\">\n",
       "  <thead>\n",
       "    <tr style=\"text-align: right;\">\n",
       "      <th></th>\n",
       "      <th>A</th>\n",
       "      <th>B</th>\n",
       "      <th>C</th>\n",
       "      <th>D</th>\n",
       "    </tr>\n",
       "  </thead>\n",
       "  <tbody>\n",
       "    <tr>\n",
       "      <th>2013-01-02</th>\n",
       "      <td>-1.128176</td>\n",
       "      <td>1.364633</td>\n",
       "      <td>0.445825</td>\n",
       "      <td>-0.277324</td>\n",
       "    </tr>\n",
       "    <tr>\n",
       "      <th>2013-01-03</th>\n",
       "      <td>-0.750977</td>\n",
       "      <td>1.976593</td>\n",
       "      <td>1.125147</td>\n",
       "      <td>0.572404</td>\n",
       "    </tr>\n",
       "  </tbody>\n",
       "</table>\n",
       "</div>"
      ],
      "text/plain": [
       "                   A         B         C         D\n",
       "2013-01-02 -1.128176  1.364633  0.445825 -0.277324\n",
       "2013-01-03 -0.750977  1.976593  1.125147  0.572404"
      ]
     },
     "execution_count": 352,
     "metadata": {},
     "output_type": "execute_result"
    }
   ],
   "source": [
    "#显式整行切片\n",
    "df5.iloc[1:3,:]"
   ]
  },
  {
   "cell_type": "code",
   "execution_count": 353,
   "id": "36d761fc",
   "metadata": {},
   "outputs": [
    {
     "data": {
      "text/html": [
       "<div>\n",
       "<style scoped>\n",
       "    .dataframe tbody tr th:only-of-type {\n",
       "        vertical-align: middle;\n",
       "    }\n",
       "\n",
       "    .dataframe tbody tr th {\n",
       "        vertical-align: top;\n",
       "    }\n",
       "\n",
       "    .dataframe thead th {\n",
       "        text-align: right;\n",
       "    }\n",
       "</style>\n",
       "<table border=\"1\" class=\"dataframe\">\n",
       "  <thead>\n",
       "    <tr style=\"text-align: right;\">\n",
       "      <th></th>\n",
       "      <th>B</th>\n",
       "      <th>C</th>\n",
       "    </tr>\n",
       "  </thead>\n",
       "  <tbody>\n",
       "    <tr>\n",
       "      <th>2013-01-01</th>\n",
       "      <td>0.775568</td>\n",
       "      <td>-0.495897</td>\n",
       "    </tr>\n",
       "    <tr>\n",
       "      <th>2013-01-02</th>\n",
       "      <td>1.364633</td>\n",
       "      <td>0.445825</td>\n",
       "    </tr>\n",
       "    <tr>\n",
       "      <th>2013-01-03</th>\n",
       "      <td>1.976593</td>\n",
       "      <td>1.125147</td>\n",
       "    </tr>\n",
       "    <tr>\n",
       "      <th>2013-01-04</th>\n",
       "      <td>0.365397</td>\n",
       "      <td>-0.327764</td>\n",
       "    </tr>\n",
       "    <tr>\n",
       "      <th>2013-01-05</th>\n",
       "      <td>-0.499030</td>\n",
       "      <td>-1.600058</td>\n",
       "    </tr>\n",
       "    <tr>\n",
       "      <th>2013-01-06</th>\n",
       "      <td>-0.403946</td>\n",
       "      <td>1.255290</td>\n",
       "    </tr>\n",
       "  </tbody>\n",
       "</table>\n",
       "</div>"
      ],
      "text/plain": [
       "                   B         C\n",
       "2013-01-01  0.775568 -0.495897\n",
       "2013-01-02  1.364633  0.445825\n",
       "2013-01-03  1.976593  1.125147\n",
       "2013-01-04  0.365397 -0.327764\n",
       "2013-01-05 -0.499030 -1.600058\n",
       "2013-01-06 -0.403946  1.255290"
      ]
     },
     "execution_count": 353,
     "metadata": {},
     "output_type": "execute_result"
    }
   ],
   "source": [
    "#显式整列切片\n",
    "df5.iloc[:, 1:3]"
   ]
  },
  {
   "cell_type": "code",
   "execution_count": 354,
   "id": "49b9ee21",
   "metadata": {},
   "outputs": [
    {
     "data": {
      "text/plain": [
       "1.3646325014898617"
      ]
     },
     "execution_count": 354,
     "metadata": {},
     "output_type": "execute_result"
    }
   ],
   "source": [
    "#显式提取值\n",
    "df5.iloc[1, 1]"
   ]
  },
  {
   "cell_type": "code",
   "execution_count": 355,
   "id": "8d72c3ad",
   "metadata": {},
   "outputs": [
    {
     "data": {
      "text/plain": [
       "1.3646325014898617"
      ]
     },
     "execution_count": 355,
     "metadata": {},
     "output_type": "execute_result"
    }
   ],
   "source": [
    "#快速访问标量，与上述方法等效\n",
    "df5.iat[1, 1]\n",
    "#DataFrame.iat()访问指定位置的元素"
   ]
  },
  {
   "cell_type": "markdown",
   "id": "4536f1d6",
   "metadata": {},
   "source": [
    "## 布尔索引"
   ]
  },
  {
   "cell_type": "code",
   "execution_count": 356,
   "id": "47a0ca95",
   "metadata": {},
   "outputs": [
    {
     "data": {
      "text/html": [
       "<div>\n",
       "<style scoped>\n",
       "    .dataframe tbody tr th:only-of-type {\n",
       "        vertical-align: middle;\n",
       "    }\n",
       "\n",
       "    .dataframe tbody tr th {\n",
       "        vertical-align: top;\n",
       "    }\n",
       "\n",
       "    .dataframe thead th {\n",
       "        text-align: right;\n",
       "    }\n",
       "</style>\n",
       "<table border=\"1\" class=\"dataframe\">\n",
       "  <thead>\n",
       "    <tr style=\"text-align: right;\">\n",
       "      <th></th>\n",
       "      <th>A</th>\n",
       "      <th>B</th>\n",
       "      <th>C</th>\n",
       "      <th>D</th>\n",
       "    </tr>\n",
       "  </thead>\n",
       "  <tbody>\n",
       "    <tr>\n",
       "      <th>2013-01-01</th>\n",
       "      <td>0.714287</td>\n",
       "      <td>0.775568</td>\n",
       "      <td>-0.495897</td>\n",
       "      <td>-0.010776</td>\n",
       "    </tr>\n",
       "    <tr>\n",
       "      <th>2013-01-04</th>\n",
       "      <td>2.006577</td>\n",
       "      <td>0.365397</td>\n",
       "      <td>-0.327764</td>\n",
       "      <td>-1.533695</td>\n",
       "    </tr>\n",
       "    <tr>\n",
       "      <th>2013-01-06</th>\n",
       "      <td>0.635551</td>\n",
       "      <td>-0.403946</td>\n",
       "      <td>1.255290</td>\n",
       "      <td>0.519406</td>\n",
       "    </tr>\n",
       "  </tbody>\n",
       "</table>\n",
       "</div>"
      ],
      "text/plain": [
       "                   A         B         C         D\n",
       "2013-01-01  0.714287  0.775568 -0.495897 -0.010776\n",
       "2013-01-04  2.006577  0.365397 -0.327764 -1.533695\n",
       "2013-01-06  0.635551 -0.403946  1.255290  0.519406"
      ]
     },
     "execution_count": 356,
     "metadata": {},
     "output_type": "execute_result"
    }
   ],
   "source": [
    "#用单列的值选择数据\n",
    "df5[df5.A > 0]"
   ]
  },
  {
   "cell_type": "code",
   "execution_count": 357,
   "id": "186ed350",
   "metadata": {},
   "outputs": [
    {
     "data": {
      "text/html": [
       "<div>\n",
       "<style scoped>\n",
       "    .dataframe tbody tr th:only-of-type {\n",
       "        vertical-align: middle;\n",
       "    }\n",
       "\n",
       "    .dataframe tbody tr th {\n",
       "        vertical-align: top;\n",
       "    }\n",
       "\n",
       "    .dataframe thead th {\n",
       "        text-align: right;\n",
       "    }\n",
       "</style>\n",
       "<table border=\"1\" class=\"dataframe\">\n",
       "  <thead>\n",
       "    <tr style=\"text-align: right;\">\n",
       "      <th></th>\n",
       "      <th>A</th>\n",
       "      <th>B</th>\n",
       "      <th>C</th>\n",
       "      <th>D</th>\n",
       "    </tr>\n",
       "  </thead>\n",
       "  <tbody>\n",
       "    <tr>\n",
       "      <th>2013-01-01</th>\n",
       "      <td>0.714287</td>\n",
       "      <td>0.775568</td>\n",
       "      <td>NaN</td>\n",
       "      <td>NaN</td>\n",
       "    </tr>\n",
       "    <tr>\n",
       "      <th>2013-01-02</th>\n",
       "      <td>NaN</td>\n",
       "      <td>1.364633</td>\n",
       "      <td>0.445825</td>\n",
       "      <td>NaN</td>\n",
       "    </tr>\n",
       "    <tr>\n",
       "      <th>2013-01-03</th>\n",
       "      <td>NaN</td>\n",
       "      <td>1.976593</td>\n",
       "      <td>1.125147</td>\n",
       "      <td>0.572404</td>\n",
       "    </tr>\n",
       "    <tr>\n",
       "      <th>2013-01-04</th>\n",
       "      <td>2.006577</td>\n",
       "      <td>0.365397</td>\n",
       "      <td>NaN</td>\n",
       "      <td>NaN</td>\n",
       "    </tr>\n",
       "    <tr>\n",
       "      <th>2013-01-05</th>\n",
       "      <td>NaN</td>\n",
       "      <td>NaN</td>\n",
       "      <td>NaN</td>\n",
       "      <td>NaN</td>\n",
       "    </tr>\n",
       "    <tr>\n",
       "      <th>2013-01-06</th>\n",
       "      <td>0.635551</td>\n",
       "      <td>NaN</td>\n",
       "      <td>1.255290</td>\n",
       "      <td>0.519406</td>\n",
       "    </tr>\n",
       "  </tbody>\n",
       "</table>\n",
       "</div>"
      ],
      "text/plain": [
       "                   A         B         C         D\n",
       "2013-01-01  0.714287  0.775568       NaN       NaN\n",
       "2013-01-02       NaN  1.364633  0.445825       NaN\n",
       "2013-01-03       NaN  1.976593  1.125147  0.572404\n",
       "2013-01-04  2.006577  0.365397       NaN       NaN\n",
       "2013-01-05       NaN       NaN       NaN       NaN\n",
       "2013-01-06  0.635551       NaN  1.255290  0.519406"
      ]
     },
     "execution_count": 357,
     "metadata": {},
     "output_type": "execute_result"
    }
   ],
   "source": [
    "#选择 DataFrame 里满足条件的值\n",
    "df5[df5 > 0]"
   ]
  },
  {
   "cell_type": "code",
   "execution_count": 358,
   "id": "37aee34c",
   "metadata": {},
   "outputs": [
    {
     "data": {
      "text/html": [
       "<div>\n",
       "<style scoped>\n",
       "    .dataframe tbody tr th:only-of-type {\n",
       "        vertical-align: middle;\n",
       "    }\n",
       "\n",
       "    .dataframe tbody tr th {\n",
       "        vertical-align: top;\n",
       "    }\n",
       "\n",
       "    .dataframe thead th {\n",
       "        text-align: right;\n",
       "    }\n",
       "</style>\n",
       "<table border=\"1\" class=\"dataframe\">\n",
       "  <thead>\n",
       "    <tr style=\"text-align: right;\">\n",
       "      <th></th>\n",
       "      <th>A</th>\n",
       "      <th>B</th>\n",
       "      <th>C</th>\n",
       "      <th>D</th>\n",
       "    </tr>\n",
       "  </thead>\n",
       "  <tbody>\n",
       "    <tr>\n",
       "      <th>2013-01-01</th>\n",
       "      <td>0.714287</td>\n",
       "      <td>0.775568</td>\n",
       "      <td>-0.495897</td>\n",
       "      <td>-0.010776</td>\n",
       "    </tr>\n",
       "    <tr>\n",
       "      <th>2013-01-02</th>\n",
       "      <td>-1.128176</td>\n",
       "      <td>1.364633</td>\n",
       "      <td>0.445825</td>\n",
       "      <td>-0.277324</td>\n",
       "    </tr>\n",
       "    <tr>\n",
       "      <th>2013-01-03</th>\n",
       "      <td>-0.750977</td>\n",
       "      <td>1.976593</td>\n",
       "      <td>1.125147</td>\n",
       "      <td>0.572404</td>\n",
       "    </tr>\n",
       "    <tr>\n",
       "      <th>2013-01-04</th>\n",
       "      <td>2.006577</td>\n",
       "      <td>0.365397</td>\n",
       "      <td>-0.327764</td>\n",
       "      <td>-1.533695</td>\n",
       "    </tr>\n",
       "    <tr>\n",
       "      <th>2013-01-05</th>\n",
       "      <td>-0.570798</td>\n",
       "      <td>-0.499030</td>\n",
       "      <td>-1.600058</td>\n",
       "      <td>-0.597340</td>\n",
       "    </tr>\n",
       "    <tr>\n",
       "      <th>2013-01-06</th>\n",
       "      <td>0.635551</td>\n",
       "      <td>-0.403946</td>\n",
       "      <td>1.255290</td>\n",
       "      <td>0.519406</td>\n",
       "    </tr>\n",
       "  </tbody>\n",
       "</table>\n",
       "</div>"
      ],
      "text/plain": [
       "                   A         B         C         D\n",
       "2013-01-01  0.714287  0.775568 -0.495897 -0.010776\n",
       "2013-01-02 -1.128176  1.364633  0.445825 -0.277324\n",
       "2013-01-03 -0.750977  1.976593  1.125147  0.572404\n",
       "2013-01-04  2.006577  0.365397 -0.327764 -1.533695\n",
       "2013-01-05 -0.570798 -0.499030 -1.600058 -0.597340\n",
       "2013-01-06  0.635551 -0.403946  1.255290  0.519406"
      ]
     },
     "execution_count": 358,
     "metadata": {},
     "output_type": "execute_result"
    }
   ],
   "source": [
    "df5"
   ]
  },
  {
   "cell_type": "code",
   "execution_count": 359,
   "id": "8a636705",
   "metadata": {},
   "outputs": [
    {
     "data": {
      "text/html": [
       "<div>\n",
       "<style scoped>\n",
       "    .dataframe tbody tr th:only-of-type {\n",
       "        vertical-align: middle;\n",
       "    }\n",
       "\n",
       "    .dataframe tbody tr th {\n",
       "        vertical-align: top;\n",
       "    }\n",
       "\n",
       "    .dataframe thead th {\n",
       "        text-align: right;\n",
       "    }\n",
       "</style>\n",
       "<table border=\"1\" class=\"dataframe\">\n",
       "  <thead>\n",
       "    <tr style=\"text-align: right;\">\n",
       "      <th></th>\n",
       "      <th>A</th>\n",
       "      <th>B</th>\n",
       "      <th>C</th>\n",
       "      <th>D</th>\n",
       "      <th>E</th>\n",
       "    </tr>\n",
       "  </thead>\n",
       "  <tbody>\n",
       "    <tr>\n",
       "      <th>2013-01-01</th>\n",
       "      <td>0.714287</td>\n",
       "      <td>0.775568</td>\n",
       "      <td>-0.495897</td>\n",
       "      <td>-0.010776</td>\n",
       "      <td>1</td>\n",
       "    </tr>\n",
       "    <tr>\n",
       "      <th>2013-01-02</th>\n",
       "      <td>-1.128176</td>\n",
       "      <td>1.364633</td>\n",
       "      <td>0.445825</td>\n",
       "      <td>-0.277324</td>\n",
       "      <td>2</td>\n",
       "    </tr>\n",
       "    <tr>\n",
       "      <th>2013-01-03</th>\n",
       "      <td>-0.750977</td>\n",
       "      <td>1.976593</td>\n",
       "      <td>1.125147</td>\n",
       "      <td>0.572404</td>\n",
       "      <td>3</td>\n",
       "    </tr>\n",
       "    <tr>\n",
       "      <th>2013-01-04</th>\n",
       "      <td>2.006577</td>\n",
       "      <td>0.365397</td>\n",
       "      <td>-0.327764</td>\n",
       "      <td>-1.533695</td>\n",
       "      <td>4</td>\n",
       "    </tr>\n",
       "    <tr>\n",
       "      <th>2013-01-05</th>\n",
       "      <td>-0.570798</td>\n",
       "      <td>-0.499030</td>\n",
       "      <td>-1.600058</td>\n",
       "      <td>-0.597340</td>\n",
       "      <td>5</td>\n",
       "    </tr>\n",
       "    <tr>\n",
       "      <th>2013-01-06</th>\n",
       "      <td>0.635551</td>\n",
       "      <td>-0.403946</td>\n",
       "      <td>1.255290</td>\n",
       "      <td>0.519406</td>\n",
       "      <td>6</td>\n",
       "    </tr>\n",
       "  </tbody>\n",
       "</table>\n",
       "</div>"
      ],
      "text/plain": [
       "                   A         B         C         D  E\n",
       "2013-01-01  0.714287  0.775568 -0.495897 -0.010776  1\n",
       "2013-01-02 -1.128176  1.364633  0.445825 -0.277324  2\n",
       "2013-01-03 -0.750977  1.976593  1.125147  0.572404  3\n",
       "2013-01-04  2.006577  0.365397 -0.327764 -1.533695  4\n",
       "2013-01-05 -0.570798 -0.499030 -1.600058 -0.597340  5\n",
       "2013-01-06  0.635551 -0.403946  1.255290  0.519406  6"
      ]
     },
     "execution_count": 359,
     "metadata": {},
     "output_type": "execute_result"
    }
   ],
   "source": [
    "#用 isin() 筛选\n",
    "df6=df5.copy()\n",
    "df6['E']=[1,2,3,4,5,6]\n",
    "df6"
   ]
  },
  {
   "cell_type": "code",
   "execution_count": 360,
   "id": "7c1a3001",
   "metadata": {},
   "outputs": [
    {
     "data": {
      "text/html": [
       "<div>\n",
       "<style scoped>\n",
       "    .dataframe tbody tr th:only-of-type {\n",
       "        vertical-align: middle;\n",
       "    }\n",
       "\n",
       "    .dataframe tbody tr th {\n",
       "        vertical-align: top;\n",
       "    }\n",
       "\n",
       "    .dataframe thead th {\n",
       "        text-align: right;\n",
       "    }\n",
       "</style>\n",
       "<table border=\"1\" class=\"dataframe\">\n",
       "  <thead>\n",
       "    <tr style=\"text-align: right;\">\n",
       "      <th></th>\n",
       "      <th>A</th>\n",
       "      <th>B</th>\n",
       "      <th>C</th>\n",
       "      <th>D</th>\n",
       "      <th>E</th>\n",
       "    </tr>\n",
       "  </thead>\n",
       "  <tbody>\n",
       "    <tr>\n",
       "      <th>2013-01-02</th>\n",
       "      <td>-1.128176</td>\n",
       "      <td>1.364633</td>\n",
       "      <td>0.445825</td>\n",
       "      <td>-0.277324</td>\n",
       "      <td>2</td>\n",
       "    </tr>\n",
       "    <tr>\n",
       "      <th>2013-01-04</th>\n",
       "      <td>2.006577</td>\n",
       "      <td>0.365397</td>\n",
       "      <td>-0.327764</td>\n",
       "      <td>-1.533695</td>\n",
       "      <td>4</td>\n",
       "    </tr>\n",
       "  </tbody>\n",
       "</table>\n",
       "</div>"
      ],
      "text/plain": [
       "                   A         B         C         D  E\n",
       "2013-01-02 -1.128176  1.364633  0.445825 -0.277324  2\n",
       "2013-01-04  2.006577  0.365397 -0.327764 -1.533695  4"
      ]
     },
     "execution_count": 360,
     "metadata": {},
     "output_type": "execute_result"
    }
   ],
   "source": [
    "df6[df6['E'].isin([2, 4])]"
   ]
  },
  {
   "cell_type": "markdown",
   "id": "28e1a26c",
   "metadata": {},
   "source": [
    "## 赋值"
   ]
  },
  {
   "cell_type": "code",
   "execution_count": 361,
   "id": "93766571",
   "metadata": {},
   "outputs": [
    {
     "data": {
      "text/plain": [
       "2013-01-02    1\n",
       "2013-01-03    2\n",
       "2013-01-04    3\n",
       "2013-01-05    4\n",
       "2013-01-06    5\n",
       "2013-01-07    6\n",
       "Freq: D, dtype: int64"
      ]
     },
     "execution_count": 361,
     "metadata": {},
     "output_type": "execute_result"
    }
   ],
   "source": [
    "#用索引自动对齐新增列的数据\n",
    "s1 = pd.Series([1, 2, 3, 4, 5, 6], index=pd.date_range('20130102', periods=6))\n",
    "s1"
   ]
  },
  {
   "cell_type": "code",
   "execution_count": 362,
   "id": "b345399f",
   "metadata": {},
   "outputs": [
    {
     "data": {
      "text/html": [
       "<div>\n",
       "<style scoped>\n",
       "    .dataframe tbody tr th:only-of-type {\n",
       "        vertical-align: middle;\n",
       "    }\n",
       "\n",
       "    .dataframe tbody tr th {\n",
       "        vertical-align: top;\n",
       "    }\n",
       "\n",
       "    .dataframe thead th {\n",
       "        text-align: right;\n",
       "    }\n",
       "</style>\n",
       "<table border=\"1\" class=\"dataframe\">\n",
       "  <thead>\n",
       "    <tr style=\"text-align: right;\">\n",
       "      <th></th>\n",
       "      <th>A</th>\n",
       "      <th>B</th>\n",
       "      <th>C</th>\n",
       "      <th>D</th>\n",
       "      <th>F</th>\n",
       "    </tr>\n",
       "  </thead>\n",
       "  <tbody>\n",
       "    <tr>\n",
       "      <th>2013-01-01</th>\n",
       "      <td>0.714287</td>\n",
       "      <td>0.775568</td>\n",
       "      <td>-0.495897</td>\n",
       "      <td>-0.010776</td>\n",
       "      <td>NaN</td>\n",
       "    </tr>\n",
       "    <tr>\n",
       "      <th>2013-01-02</th>\n",
       "      <td>-1.128176</td>\n",
       "      <td>1.364633</td>\n",
       "      <td>0.445825</td>\n",
       "      <td>-0.277324</td>\n",
       "      <td>1.0</td>\n",
       "    </tr>\n",
       "    <tr>\n",
       "      <th>2013-01-03</th>\n",
       "      <td>-0.750977</td>\n",
       "      <td>1.976593</td>\n",
       "      <td>1.125147</td>\n",
       "      <td>0.572404</td>\n",
       "      <td>2.0</td>\n",
       "    </tr>\n",
       "    <tr>\n",
       "      <th>2013-01-04</th>\n",
       "      <td>2.006577</td>\n",
       "      <td>0.365397</td>\n",
       "      <td>-0.327764</td>\n",
       "      <td>-1.533695</td>\n",
       "      <td>3.0</td>\n",
       "    </tr>\n",
       "    <tr>\n",
       "      <th>2013-01-05</th>\n",
       "      <td>-0.570798</td>\n",
       "      <td>-0.499030</td>\n",
       "      <td>-1.600058</td>\n",
       "      <td>-0.597340</td>\n",
       "      <td>4.0</td>\n",
       "    </tr>\n",
       "    <tr>\n",
       "      <th>2013-01-06</th>\n",
       "      <td>0.635551</td>\n",
       "      <td>-0.403946</td>\n",
       "      <td>1.255290</td>\n",
       "      <td>0.519406</td>\n",
       "      <td>5.0</td>\n",
       "    </tr>\n",
       "  </tbody>\n",
       "</table>\n",
       "</div>"
      ],
      "text/plain": [
       "                   A         B         C         D    F\n",
       "2013-01-01  0.714287  0.775568 -0.495897 -0.010776  NaN\n",
       "2013-01-02 -1.128176  1.364633  0.445825 -0.277324  1.0\n",
       "2013-01-03 -0.750977  1.976593  1.125147  0.572404  2.0\n",
       "2013-01-04  2.006577  0.365397 -0.327764 -1.533695  3.0\n",
       "2013-01-05 -0.570798 -0.499030 -1.600058 -0.597340  4.0\n",
       "2013-01-06  0.635551 -0.403946  1.255290  0.519406  5.0"
      ]
     },
     "execution_count": 362,
     "metadata": {},
     "output_type": "execute_result"
    }
   ],
   "source": [
    "df5['F'] = s1\n",
    "df5"
   ]
  },
  {
   "cell_type": "code",
   "execution_count": 363,
   "id": "62606015",
   "metadata": {},
   "outputs": [
    {
     "data": {
      "text/html": [
       "<div>\n",
       "<style scoped>\n",
       "    .dataframe tbody tr th:only-of-type {\n",
       "        vertical-align: middle;\n",
       "    }\n",
       "\n",
       "    .dataframe tbody tr th {\n",
       "        vertical-align: top;\n",
       "    }\n",
       "\n",
       "    .dataframe thead th {\n",
       "        text-align: right;\n",
       "    }\n",
       "</style>\n",
       "<table border=\"1\" class=\"dataframe\">\n",
       "  <thead>\n",
       "    <tr style=\"text-align: right;\">\n",
       "      <th></th>\n",
       "      <th>A</th>\n",
       "      <th>B</th>\n",
       "      <th>C</th>\n",
       "      <th>D</th>\n",
       "      <th>F</th>\n",
       "    </tr>\n",
       "  </thead>\n",
       "  <tbody>\n",
       "    <tr>\n",
       "      <th>2013-01-01</th>\n",
       "      <td>0.000000</td>\n",
       "      <td>0.775568</td>\n",
       "      <td>-0.495897</td>\n",
       "      <td>-0.010776</td>\n",
       "      <td>NaN</td>\n",
       "    </tr>\n",
       "    <tr>\n",
       "      <th>2013-01-02</th>\n",
       "      <td>-1.128176</td>\n",
       "      <td>1.364633</td>\n",
       "      <td>0.445825</td>\n",
       "      <td>-0.277324</td>\n",
       "      <td>1.0</td>\n",
       "    </tr>\n",
       "    <tr>\n",
       "      <th>2013-01-03</th>\n",
       "      <td>-0.750977</td>\n",
       "      <td>1.976593</td>\n",
       "      <td>1.125147</td>\n",
       "      <td>0.572404</td>\n",
       "      <td>2.0</td>\n",
       "    </tr>\n",
       "    <tr>\n",
       "      <th>2013-01-04</th>\n",
       "      <td>2.006577</td>\n",
       "      <td>0.365397</td>\n",
       "      <td>-0.327764</td>\n",
       "      <td>-1.533695</td>\n",
       "      <td>3.0</td>\n",
       "    </tr>\n",
       "    <tr>\n",
       "      <th>2013-01-05</th>\n",
       "      <td>-0.570798</td>\n",
       "      <td>-0.499030</td>\n",
       "      <td>-1.600058</td>\n",
       "      <td>-0.597340</td>\n",
       "      <td>4.0</td>\n",
       "    </tr>\n",
       "    <tr>\n",
       "      <th>2013-01-06</th>\n",
       "      <td>0.635551</td>\n",
       "      <td>-0.403946</td>\n",
       "      <td>1.255290</td>\n",
       "      <td>0.519406</td>\n",
       "      <td>5.0</td>\n",
       "    </tr>\n",
       "  </tbody>\n",
       "</table>\n",
       "</div>"
      ],
      "text/plain": [
       "                   A         B         C         D    F\n",
       "2013-01-01  0.000000  0.775568 -0.495897 -0.010776  NaN\n",
       "2013-01-02 -1.128176  1.364633  0.445825 -0.277324  1.0\n",
       "2013-01-03 -0.750977  1.976593  1.125147  0.572404  2.0\n",
       "2013-01-04  2.006577  0.365397 -0.327764 -1.533695  3.0\n",
       "2013-01-05 -0.570798 -0.499030 -1.600058 -0.597340  4.0\n",
       "2013-01-06  0.635551 -0.403946  1.255290  0.519406  5.0"
      ]
     },
     "execution_count": 363,
     "metadata": {},
     "output_type": "execute_result"
    }
   ],
   "source": [
    "#按标签赋值\n",
    "df5.at[dates[0], 'A'] = 0\n",
    "df5"
   ]
  },
  {
   "cell_type": "code",
   "execution_count": 364,
   "id": "c7d5e218",
   "metadata": {},
   "outputs": [
    {
     "data": {
      "text/html": [
       "<div>\n",
       "<style scoped>\n",
       "    .dataframe tbody tr th:only-of-type {\n",
       "        vertical-align: middle;\n",
       "    }\n",
       "\n",
       "    .dataframe tbody tr th {\n",
       "        vertical-align: top;\n",
       "    }\n",
       "\n",
       "    .dataframe thead th {\n",
       "        text-align: right;\n",
       "    }\n",
       "</style>\n",
       "<table border=\"1\" class=\"dataframe\">\n",
       "  <thead>\n",
       "    <tr style=\"text-align: right;\">\n",
       "      <th></th>\n",
       "      <th>A</th>\n",
       "      <th>B</th>\n",
       "      <th>C</th>\n",
       "      <th>D</th>\n",
       "      <th>F</th>\n",
       "    </tr>\n",
       "  </thead>\n",
       "  <tbody>\n",
       "    <tr>\n",
       "      <th>2013-01-01</th>\n",
       "      <td>0.000000</td>\n",
       "      <td>0.775568</td>\n",
       "      <td>-0.495897</td>\n",
       "      <td>-0.010776</td>\n",
       "      <td>NaN</td>\n",
       "    </tr>\n",
       "    <tr>\n",
       "      <th>2013-01-02</th>\n",
       "      <td>-1.128176</td>\n",
       "      <td>1.364633</td>\n",
       "      <td>0.445825</td>\n",
       "      <td>-0.277324</td>\n",
       "      <td>1.0</td>\n",
       "    </tr>\n",
       "    <tr>\n",
       "      <th>2013-01-03</th>\n",
       "      <td>-0.750977</td>\n",
       "      <td>1.976593</td>\n",
       "      <td>1.125147</td>\n",
       "      <td>0.000000</td>\n",
       "      <td>2.0</td>\n",
       "    </tr>\n",
       "    <tr>\n",
       "      <th>2013-01-04</th>\n",
       "      <td>2.006577</td>\n",
       "      <td>0.365397</td>\n",
       "      <td>-0.327764</td>\n",
       "      <td>-1.533695</td>\n",
       "      <td>3.0</td>\n",
       "    </tr>\n",
       "    <tr>\n",
       "      <th>2013-01-05</th>\n",
       "      <td>-0.570798</td>\n",
       "      <td>-0.499030</td>\n",
       "      <td>-1.600058</td>\n",
       "      <td>-0.597340</td>\n",
       "      <td>4.0</td>\n",
       "    </tr>\n",
       "    <tr>\n",
       "      <th>2013-01-06</th>\n",
       "      <td>0.635551</td>\n",
       "      <td>-0.403946</td>\n",
       "      <td>1.255290</td>\n",
       "      <td>0.519406</td>\n",
       "      <td>5.0</td>\n",
       "    </tr>\n",
       "  </tbody>\n",
       "</table>\n",
       "</div>"
      ],
      "text/plain": [
       "                   A         B         C         D    F\n",
       "2013-01-01  0.000000  0.775568 -0.495897 -0.010776  NaN\n",
       "2013-01-02 -1.128176  1.364633  0.445825 -0.277324  1.0\n",
       "2013-01-03 -0.750977  1.976593  1.125147  0.000000  2.0\n",
       "2013-01-04  2.006577  0.365397 -0.327764 -1.533695  3.0\n",
       "2013-01-05 -0.570798 -0.499030 -1.600058 -0.597340  4.0\n",
       "2013-01-06  0.635551 -0.403946  1.255290  0.519406  5.0"
      ]
     },
     "execution_count": 364,
     "metadata": {},
     "output_type": "execute_result"
    }
   ],
   "source": [
    "#按位置赋值\n",
    "df5.iat[2, 3] = 0\n",
    "df5"
   ]
  },
  {
   "cell_type": "code",
   "execution_count": 365,
   "id": "02d3d922",
   "metadata": {},
   "outputs": [],
   "source": [
    "#按 NumPy 数组赋值\n",
    "df5.loc[:, 'D'] = np.array([5] * len(df5))\n",
    "#将df5中D列的所有值设置成5"
   ]
  },
  {
   "cell_type": "code",
   "execution_count": 366,
   "id": "331a1053",
   "metadata": {},
   "outputs": [
    {
     "data": {
      "text/html": [
       "<div>\n",
       "<style scoped>\n",
       "    .dataframe tbody tr th:only-of-type {\n",
       "        vertical-align: middle;\n",
       "    }\n",
       "\n",
       "    .dataframe tbody tr th {\n",
       "        vertical-align: top;\n",
       "    }\n",
       "\n",
       "    .dataframe thead th {\n",
       "        text-align: right;\n",
       "    }\n",
       "</style>\n",
       "<table border=\"1\" class=\"dataframe\">\n",
       "  <thead>\n",
       "    <tr style=\"text-align: right;\">\n",
       "      <th></th>\n",
       "      <th>A</th>\n",
       "      <th>B</th>\n",
       "      <th>C</th>\n",
       "      <th>D</th>\n",
       "      <th>F</th>\n",
       "    </tr>\n",
       "  </thead>\n",
       "  <tbody>\n",
       "    <tr>\n",
       "      <th>2013-01-01</th>\n",
       "      <td>0.000000</td>\n",
       "      <td>0.775568</td>\n",
       "      <td>-0.495897</td>\n",
       "      <td>5</td>\n",
       "      <td>NaN</td>\n",
       "    </tr>\n",
       "    <tr>\n",
       "      <th>2013-01-02</th>\n",
       "      <td>-1.128176</td>\n",
       "      <td>1.364633</td>\n",
       "      <td>0.445825</td>\n",
       "      <td>5</td>\n",
       "      <td>1.0</td>\n",
       "    </tr>\n",
       "    <tr>\n",
       "      <th>2013-01-03</th>\n",
       "      <td>-0.750977</td>\n",
       "      <td>1.976593</td>\n",
       "      <td>1.125147</td>\n",
       "      <td>5</td>\n",
       "      <td>2.0</td>\n",
       "    </tr>\n",
       "    <tr>\n",
       "      <th>2013-01-04</th>\n",
       "      <td>2.006577</td>\n",
       "      <td>0.365397</td>\n",
       "      <td>-0.327764</td>\n",
       "      <td>5</td>\n",
       "      <td>3.0</td>\n",
       "    </tr>\n",
       "    <tr>\n",
       "      <th>2013-01-05</th>\n",
       "      <td>-0.570798</td>\n",
       "      <td>-0.499030</td>\n",
       "      <td>-1.600058</td>\n",
       "      <td>5</td>\n",
       "      <td>4.0</td>\n",
       "    </tr>\n",
       "    <tr>\n",
       "      <th>2013-01-06</th>\n",
       "      <td>0.635551</td>\n",
       "      <td>-0.403946</td>\n",
       "      <td>1.255290</td>\n",
       "      <td>5</td>\n",
       "      <td>5.0</td>\n",
       "    </tr>\n",
       "  </tbody>\n",
       "</table>\n",
       "</div>"
      ],
      "text/plain": [
       "                   A         B         C  D    F\n",
       "2013-01-01  0.000000  0.775568 -0.495897  5  NaN\n",
       "2013-01-02 -1.128176  1.364633  0.445825  5  1.0\n",
       "2013-01-03 -0.750977  1.976593  1.125147  5  2.0\n",
       "2013-01-04  2.006577  0.365397 -0.327764  5  3.0\n",
       "2013-01-05 -0.570798 -0.499030 -1.600058  5  4.0\n",
       "2013-01-06  0.635551 -0.403946  1.255290  5  5.0"
      ]
     },
     "execution_count": 366,
     "metadata": {},
     "output_type": "execute_result"
    }
   ],
   "source": [
    "df5"
   ]
  },
  {
   "cell_type": "code",
   "execution_count": 367,
   "id": "6cccf6c1",
   "metadata": {},
   "outputs": [
    {
     "data": {
      "text/html": [
       "<div>\n",
       "<style scoped>\n",
       "    .dataframe tbody tr th:only-of-type {\n",
       "        vertical-align: middle;\n",
       "    }\n",
       "\n",
       "    .dataframe tbody tr th {\n",
       "        vertical-align: top;\n",
       "    }\n",
       "\n",
       "    .dataframe thead th {\n",
       "        text-align: right;\n",
       "    }\n",
       "</style>\n",
       "<table border=\"1\" class=\"dataframe\">\n",
       "  <thead>\n",
       "    <tr style=\"text-align: right;\">\n",
       "      <th></th>\n",
       "      <th>A</th>\n",
       "      <th>B</th>\n",
       "      <th>C</th>\n",
       "      <th>D</th>\n",
       "      <th>F</th>\n",
       "    </tr>\n",
       "  </thead>\n",
       "  <tbody>\n",
       "    <tr>\n",
       "      <th>2013-01-01</th>\n",
       "      <td>0.000000</td>\n",
       "      <td>-0.775568</td>\n",
       "      <td>-0.495897</td>\n",
       "      <td>-5</td>\n",
       "      <td>NaN</td>\n",
       "    </tr>\n",
       "    <tr>\n",
       "      <th>2013-01-02</th>\n",
       "      <td>-1.128176</td>\n",
       "      <td>-1.364633</td>\n",
       "      <td>-0.445825</td>\n",
       "      <td>-5</td>\n",
       "      <td>-1.0</td>\n",
       "    </tr>\n",
       "    <tr>\n",
       "      <th>2013-01-03</th>\n",
       "      <td>-0.750977</td>\n",
       "      <td>-1.976593</td>\n",
       "      <td>-1.125147</td>\n",
       "      <td>-5</td>\n",
       "      <td>-2.0</td>\n",
       "    </tr>\n",
       "    <tr>\n",
       "      <th>2013-01-04</th>\n",
       "      <td>-2.006577</td>\n",
       "      <td>-0.365397</td>\n",
       "      <td>-0.327764</td>\n",
       "      <td>-5</td>\n",
       "      <td>-3.0</td>\n",
       "    </tr>\n",
       "    <tr>\n",
       "      <th>2013-01-05</th>\n",
       "      <td>-0.570798</td>\n",
       "      <td>-0.499030</td>\n",
       "      <td>-1.600058</td>\n",
       "      <td>-5</td>\n",
       "      <td>-4.0</td>\n",
       "    </tr>\n",
       "    <tr>\n",
       "      <th>2013-01-06</th>\n",
       "      <td>-0.635551</td>\n",
       "      <td>-0.403946</td>\n",
       "      <td>-1.255290</td>\n",
       "      <td>-5</td>\n",
       "      <td>-5.0</td>\n",
       "    </tr>\n",
       "  </tbody>\n",
       "</table>\n",
       "</div>"
      ],
      "text/plain": [
       "                   A         B         C  D    F\n",
       "2013-01-01  0.000000 -0.775568 -0.495897 -5  NaN\n",
       "2013-01-02 -1.128176 -1.364633 -0.445825 -5 -1.0\n",
       "2013-01-03 -0.750977 -1.976593 -1.125147 -5 -2.0\n",
       "2013-01-04 -2.006577 -0.365397 -0.327764 -5 -3.0\n",
       "2013-01-05 -0.570798 -0.499030 -1.600058 -5 -4.0\n",
       "2013-01-06 -0.635551 -0.403946 -1.255290 -5 -5.0"
      ]
     },
     "execution_count": 367,
     "metadata": {},
     "output_type": "execute_result"
    }
   ],
   "source": [
    "#用 where 条件赋值\n",
    "df7 = df5.copy()\n",
    "df7[df7 > 0] = -df7\n",
    "df7"
   ]
  },
  {
   "cell_type": "markdown",
   "id": "39113925",
   "metadata": {},
   "source": [
    "## 缺失值"
   ]
  },
  {
   "cell_type": "markdown",
   "id": "7547bc1b",
   "metadata": {},
   "source": [
    "Pandas 主要用 np.nan 表示缺失数据。 计算时，默认不包含空值"
   ]
  },
  {
   "cell_type": "code",
   "execution_count": 369,
   "id": "59890683",
   "metadata": {
    "scrolled": true
   },
   "outputs": [
    {
     "data": {
      "text/html": [
       "<div>\n",
       "<style scoped>\n",
       "    .dataframe tbody tr th:only-of-type {\n",
       "        vertical-align: middle;\n",
       "    }\n",
       "\n",
       "    .dataframe tbody tr th {\n",
       "        vertical-align: top;\n",
       "    }\n",
       "\n",
       "    .dataframe thead th {\n",
       "        text-align: right;\n",
       "    }\n",
       "</style>\n",
       "<table border=\"1\" class=\"dataframe\">\n",
       "  <thead>\n",
       "    <tr style=\"text-align: right;\">\n",
       "      <th></th>\n",
       "      <th>A</th>\n",
       "      <th>B</th>\n",
       "      <th>C</th>\n",
       "      <th>D</th>\n",
       "      <th>F</th>\n",
       "      <th>E</th>\n",
       "    </tr>\n",
       "  </thead>\n",
       "  <tbody>\n",
       "    <tr>\n",
       "      <th>2013-01-01</th>\n",
       "      <td>0.000000</td>\n",
       "      <td>0.775568</td>\n",
       "      <td>-0.495897</td>\n",
       "      <td>5</td>\n",
       "      <td>NaN</td>\n",
       "      <td>1.0</td>\n",
       "    </tr>\n",
       "    <tr>\n",
       "      <th>2013-01-02</th>\n",
       "      <td>-1.128176</td>\n",
       "      <td>1.364633</td>\n",
       "      <td>0.445825</td>\n",
       "      <td>5</td>\n",
       "      <td>1.0</td>\n",
       "      <td>1.0</td>\n",
       "    </tr>\n",
       "    <tr>\n",
       "      <th>2013-01-03</th>\n",
       "      <td>-0.750977</td>\n",
       "      <td>1.976593</td>\n",
       "      <td>1.125147</td>\n",
       "      <td>5</td>\n",
       "      <td>2.0</td>\n",
       "      <td>NaN</td>\n",
       "    </tr>\n",
       "    <tr>\n",
       "      <th>2013-01-04</th>\n",
       "      <td>2.006577</td>\n",
       "      <td>0.365397</td>\n",
       "      <td>-0.327764</td>\n",
       "      <td>5</td>\n",
       "      <td>3.0</td>\n",
       "      <td>NaN</td>\n",
       "    </tr>\n",
       "  </tbody>\n",
       "</table>\n",
       "</div>"
      ],
      "text/plain": [
       "                   A         B         C  D    F    E\n",
       "2013-01-01  0.000000  0.775568 -0.495897  5  NaN  1.0\n",
       "2013-01-02 -1.128176  1.364633  0.445825  5  1.0  1.0\n",
       "2013-01-03 -0.750977  1.976593  1.125147  5  2.0  NaN\n",
       "2013-01-04  2.006577  0.365397 -0.327764  5  3.0  NaN"
      ]
     },
     "execution_count": 369,
     "metadata": {},
     "output_type": "execute_result"
    }
   ],
   "source": [
    "#重建索引（reindex）可以更改、添加、删除指定轴的索引，并返回数据副本，即不更改原数据。\n",
    "df1 = df5.reindex(index=dates[0:4], columns=list(df5.columns) + ['E'])#取1到4行，增加E列\n",
    "df1.loc[dates[0]:dates[1], 'E'] = 1#选择dates[0]到dates[1]的行，并将E列的值设置为1\n",
    "df1"
   ]
  },
  {
   "cell_type": "code",
   "execution_count": 371,
   "id": "4d2003f9",
   "metadata": {},
   "outputs": [
    {
     "data": {
      "text/html": [
       "<div>\n",
       "<style scoped>\n",
       "    .dataframe tbody tr th:only-of-type {\n",
       "        vertical-align: middle;\n",
       "    }\n",
       "\n",
       "    .dataframe tbody tr th {\n",
       "        vertical-align: top;\n",
       "    }\n",
       "\n",
       "    .dataframe thead th {\n",
       "        text-align: right;\n",
       "    }\n",
       "</style>\n",
       "<table border=\"1\" class=\"dataframe\">\n",
       "  <thead>\n",
       "    <tr style=\"text-align: right;\">\n",
       "      <th></th>\n",
       "      <th>A</th>\n",
       "      <th>B</th>\n",
       "      <th>C</th>\n",
       "      <th>D</th>\n",
       "      <th>F</th>\n",
       "      <th>E</th>\n",
       "    </tr>\n",
       "  </thead>\n",
       "  <tbody>\n",
       "    <tr>\n",
       "      <th>2013-01-01</th>\n",
       "      <td>0.000000</td>\n",
       "      <td>0.775568</td>\n",
       "      <td>-0.495897</td>\n",
       "      <td>5</td>\n",
       "      <td>NaN</td>\n",
       "      <td>1.0</td>\n",
       "    </tr>\n",
       "    <tr>\n",
       "      <th>2013-01-02</th>\n",
       "      <td>-1.128176</td>\n",
       "      <td>1.364633</td>\n",
       "      <td>0.445825</td>\n",
       "      <td>5</td>\n",
       "      <td>1.0</td>\n",
       "      <td>1.0</td>\n",
       "    </tr>\n",
       "    <tr>\n",
       "      <th>2013-01-03</th>\n",
       "      <td>-0.750977</td>\n",
       "      <td>1.976593</td>\n",
       "      <td>1.125147</td>\n",
       "      <td>5</td>\n",
       "      <td>2.0</td>\n",
       "      <td>NaN</td>\n",
       "    </tr>\n",
       "    <tr>\n",
       "      <th>2013-01-04</th>\n",
       "      <td>2.006577</td>\n",
       "      <td>0.365397</td>\n",
       "      <td>-0.327764</td>\n",
       "      <td>5</td>\n",
       "      <td>3.0</td>\n",
       "      <td>NaN</td>\n",
       "    </tr>\n",
       "  </tbody>\n",
       "</table>\n",
       "</div>"
      ],
      "text/plain": [
       "                   A         B         C  D    F    E\n",
       "2013-01-01  0.000000  0.775568 -0.495897  5  NaN  1.0\n",
       "2013-01-02 -1.128176  1.364633  0.445825  5  1.0  1.0\n",
       "2013-01-03 -0.750977  1.976593  1.125147  5  2.0  NaN\n",
       "2013-01-04  2.006577  0.365397 -0.327764  5  3.0  NaN"
      ]
     },
     "execution_count": 371,
     "metadata": {},
     "output_type": "execute_result"
    }
   ],
   "source": [
    "#删除所有含缺失值的行\n",
    "df1.dropna(how='any')\n",
    "#参数how='any'表示只要该行中存在任何一个缺失值，就将该行删除。如果想要删除所有值是缺失值的行，可以使用how='all'参数。"
   ]
  },
  {
   "cell_type": "code",
   "execution_count": 372,
   "id": "50cc1311",
   "metadata": {
    "scrolled": true
   },
   "outputs": [
    {
     "data": {
      "text/html": [
       "<div>\n",
       "<style scoped>\n",
       "    .dataframe tbody tr th:only-of-type {\n",
       "        vertical-align: middle;\n",
       "    }\n",
       "\n",
       "    .dataframe tbody tr th {\n",
       "        vertical-align: top;\n",
       "    }\n",
       "\n",
       "    .dataframe thead th {\n",
       "        text-align: right;\n",
       "    }\n",
       "</style>\n",
       "<table border=\"1\" class=\"dataframe\">\n",
       "  <thead>\n",
       "    <tr style=\"text-align: right;\">\n",
       "      <th></th>\n",
       "      <th>A</th>\n",
       "      <th>B</th>\n",
       "      <th>C</th>\n",
       "      <th>D</th>\n",
       "      <th>F</th>\n",
       "      <th>E</th>\n",
       "    </tr>\n",
       "  </thead>\n",
       "  <tbody>\n",
       "    <tr>\n",
       "      <th>2013-01-01</th>\n",
       "      <td>0.000000</td>\n",
       "      <td>0.775568</td>\n",
       "      <td>-0.495897</td>\n",
       "      <td>5</td>\n",
       "      <td>5.0</td>\n",
       "      <td>1.0</td>\n",
       "    </tr>\n",
       "    <tr>\n",
       "      <th>2013-01-02</th>\n",
       "      <td>-1.128176</td>\n",
       "      <td>1.364633</td>\n",
       "      <td>0.445825</td>\n",
       "      <td>5</td>\n",
       "      <td>1.0</td>\n",
       "      <td>1.0</td>\n",
       "    </tr>\n",
       "    <tr>\n",
       "      <th>2013-01-03</th>\n",
       "      <td>-0.750977</td>\n",
       "      <td>1.976593</td>\n",
       "      <td>1.125147</td>\n",
       "      <td>5</td>\n",
       "      <td>2.0</td>\n",
       "      <td>5.0</td>\n",
       "    </tr>\n",
       "    <tr>\n",
       "      <th>2013-01-04</th>\n",
       "      <td>2.006577</td>\n",
       "      <td>0.365397</td>\n",
       "      <td>-0.327764</td>\n",
       "      <td>5</td>\n",
       "      <td>3.0</td>\n",
       "      <td>5.0</td>\n",
       "    </tr>\n",
       "  </tbody>\n",
       "</table>\n",
       "</div>"
      ],
      "text/plain": [
       "                   A         B         C  D    F    E\n",
       "2013-01-01  0.000000  0.775568 -0.495897  5  5.0  1.0\n",
       "2013-01-02 -1.128176  1.364633  0.445825  5  1.0  1.0\n",
       "2013-01-03 -0.750977  1.976593  1.125147  5  2.0  5.0\n",
       "2013-01-04  2.006577  0.365397 -0.327764  5  3.0  5.0"
      ]
     },
     "execution_count": 372,
     "metadata": {},
     "output_type": "execute_result"
    }
   ],
   "source": [
    "#填充缺失值\n",
    "df1.fillna(value=5)"
   ]
  },
  {
   "cell_type": "code",
   "execution_count": 373,
   "id": "fb11ee00",
   "metadata": {},
   "outputs": [
    {
     "data": {
      "text/html": [
       "<div>\n",
       "<style scoped>\n",
       "    .dataframe tbody tr th:only-of-type {\n",
       "        vertical-align: middle;\n",
       "    }\n",
       "\n",
       "    .dataframe tbody tr th {\n",
       "        vertical-align: top;\n",
       "    }\n",
       "\n",
       "    .dataframe thead th {\n",
       "        text-align: right;\n",
       "    }\n",
       "</style>\n",
       "<table border=\"1\" class=\"dataframe\">\n",
       "  <thead>\n",
       "    <tr style=\"text-align: right;\">\n",
       "      <th></th>\n",
       "      <th>A</th>\n",
       "      <th>B</th>\n",
       "      <th>C</th>\n",
       "      <th>D</th>\n",
       "      <th>F</th>\n",
       "      <th>E</th>\n",
       "    </tr>\n",
       "  </thead>\n",
       "  <tbody>\n",
       "    <tr>\n",
       "      <th>2013-01-01</th>\n",
       "      <td>False</td>\n",
       "      <td>False</td>\n",
       "      <td>False</td>\n",
       "      <td>False</td>\n",
       "      <td>True</td>\n",
       "      <td>False</td>\n",
       "    </tr>\n",
       "    <tr>\n",
       "      <th>2013-01-02</th>\n",
       "      <td>False</td>\n",
       "      <td>False</td>\n",
       "      <td>False</td>\n",
       "      <td>False</td>\n",
       "      <td>False</td>\n",
       "      <td>False</td>\n",
       "    </tr>\n",
       "    <tr>\n",
       "      <th>2013-01-03</th>\n",
       "      <td>False</td>\n",
       "      <td>False</td>\n",
       "      <td>False</td>\n",
       "      <td>False</td>\n",
       "      <td>False</td>\n",
       "      <td>True</td>\n",
       "    </tr>\n",
       "    <tr>\n",
       "      <th>2013-01-04</th>\n",
       "      <td>False</td>\n",
       "      <td>False</td>\n",
       "      <td>False</td>\n",
       "      <td>False</td>\n",
       "      <td>False</td>\n",
       "      <td>True</td>\n",
       "    </tr>\n",
       "  </tbody>\n",
       "</table>\n",
       "</div>"
      ],
      "text/plain": [
       "                A      B      C      D      F      E\n",
       "2013-01-01  False  False  False  False   True  False\n",
       "2013-01-02  False  False  False  False  False  False\n",
       "2013-01-03  False  False  False  False  False   True\n",
       "2013-01-04  False  False  False  False  False   True"
      ]
     },
     "execution_count": 373,
     "metadata": {},
     "output_type": "execute_result"
    }
   ],
   "source": [
    "#提取 nan 值的布尔掩码\n",
    "pd.isna(df1)\n",
    "#pd.isna()检查每个元素是否为缺失值，并返回布尔值"
   ]
  },
  {
   "cell_type": "markdown",
   "id": "2ad1ee06",
   "metadata": {},
   "source": [
    "布尔掩码是一种用于过滤数据的技术，它是一个由True和False组成的布尔值数组，其中True表示要保留的数据，False表示要删除的数据。在Pandas中，可以使用布尔掩码来选择DataFrame或Series中的特定行或列，或者用于计算统计量，如平均值或标准差。"
   ]
  },
  {
   "cell_type": "markdown",
   "id": "23324bb9",
   "metadata": {},
   "source": [
    "# 运算"
   ]
  },
  {
   "cell_type": "markdown",
   "id": "89db6807",
   "metadata": {},
   "source": [
    "## 统计"
   ]
  },
  {
   "cell_type": "code",
   "execution_count": 374,
   "id": "6801174b",
   "metadata": {},
   "outputs": [
    {
     "data": {
      "text/plain": [
       "A    0.032030\n",
       "B    0.596536\n",
       "C    0.067090\n",
       "D    5.000000\n",
       "F    3.000000\n",
       "dtype: float64"
      ]
     },
     "execution_count": 374,
     "metadata": {},
     "output_type": "execute_result"
    }
   ],
   "source": [
    "#一般情况下，运算时排除缺失值\n",
    "#描述性统计(用于描述和总结数据集的特征和属性)：\n",
    "df5.mean()#计算平均值"
   ]
  },
  {
   "cell_type": "code",
   "execution_count": 375,
   "id": "f7b4c67f",
   "metadata": {},
   "outputs": [
    {
     "data": {
      "text/html": [
       "<div>\n",
       "<style scoped>\n",
       "    .dataframe tbody tr th:only-of-type {\n",
       "        vertical-align: middle;\n",
       "    }\n",
       "\n",
       "    .dataframe tbody tr th {\n",
       "        vertical-align: top;\n",
       "    }\n",
       "\n",
       "    .dataframe thead th {\n",
       "        text-align: right;\n",
       "    }\n",
       "</style>\n",
       "<table border=\"1\" class=\"dataframe\">\n",
       "  <thead>\n",
       "    <tr style=\"text-align: right;\">\n",
       "      <th></th>\n",
       "      <th>A</th>\n",
       "      <th>B</th>\n",
       "      <th>C</th>\n",
       "      <th>D</th>\n",
       "      <th>F</th>\n",
       "    </tr>\n",
       "  </thead>\n",
       "  <tbody>\n",
       "    <tr>\n",
       "      <th>2013-01-01</th>\n",
       "      <td>0.000000</td>\n",
       "      <td>0.775568</td>\n",
       "      <td>-0.495897</td>\n",
       "      <td>5</td>\n",
       "      <td>NaN</td>\n",
       "    </tr>\n",
       "    <tr>\n",
       "      <th>2013-01-02</th>\n",
       "      <td>-1.128176</td>\n",
       "      <td>1.364633</td>\n",
       "      <td>0.445825</td>\n",
       "      <td>5</td>\n",
       "      <td>1.0</td>\n",
       "    </tr>\n",
       "    <tr>\n",
       "      <th>2013-01-03</th>\n",
       "      <td>-0.750977</td>\n",
       "      <td>1.976593</td>\n",
       "      <td>1.125147</td>\n",
       "      <td>5</td>\n",
       "      <td>2.0</td>\n",
       "    </tr>\n",
       "    <tr>\n",
       "      <th>2013-01-04</th>\n",
       "      <td>2.006577</td>\n",
       "      <td>0.365397</td>\n",
       "      <td>-0.327764</td>\n",
       "      <td>5</td>\n",
       "      <td>3.0</td>\n",
       "    </tr>\n",
       "    <tr>\n",
       "      <th>2013-01-05</th>\n",
       "      <td>-0.570798</td>\n",
       "      <td>-0.499030</td>\n",
       "      <td>-1.600058</td>\n",
       "      <td>5</td>\n",
       "      <td>4.0</td>\n",
       "    </tr>\n",
       "    <tr>\n",
       "      <th>2013-01-06</th>\n",
       "      <td>0.635551</td>\n",
       "      <td>-0.403946</td>\n",
       "      <td>1.255290</td>\n",
       "      <td>5</td>\n",
       "      <td>5.0</td>\n",
       "    </tr>\n",
       "  </tbody>\n",
       "</table>\n",
       "</div>"
      ],
      "text/plain": [
       "                   A         B         C  D    F\n",
       "2013-01-01  0.000000  0.775568 -0.495897  5  NaN\n",
       "2013-01-02 -1.128176  1.364633  0.445825  5  1.0\n",
       "2013-01-03 -0.750977  1.976593  1.125147  5  2.0\n",
       "2013-01-04  2.006577  0.365397 -0.327764  5  3.0\n",
       "2013-01-05 -0.570798 -0.499030 -1.600058  5  4.0\n",
       "2013-01-06  0.635551 -0.403946  1.255290  5  5.0"
      ]
     },
     "execution_count": 375,
     "metadata": {},
     "output_type": "execute_result"
    }
   ],
   "source": [
    "df5"
   ]
  },
  {
   "cell_type": "code",
   "execution_count": 376,
   "id": "f4997292",
   "metadata": {},
   "outputs": [
    {
     "data": {
      "text/plain": [
       "2013-01-01    1.319918\n",
       "2013-01-02    1.336456\n",
       "2013-01-03    1.870153\n",
       "2013-01-04    2.008842\n",
       "2013-01-05    1.266023\n",
       "2013-01-06    2.297379\n",
       "Freq: D, dtype: float64"
      ]
     },
     "execution_count": 376,
     "metadata": {},
     "output_type": "execute_result"
    }
   ],
   "source": [
    "#在另一个轴(即，行)上执行同样的操作\n",
    "df5.mean(1)"
   ]
  },
  {
   "cell_type": "code",
   "execution_count": 377,
   "id": "c70b1f77",
   "metadata": {},
   "outputs": [
    {
     "data": {
      "text/plain": [
       "2013-01-01    NaN\n",
       "2013-01-02    NaN\n",
       "2013-01-03    1.0\n",
       "2013-01-04    3.0\n",
       "2013-01-05    5.0\n",
       "2013-01-06    NaN\n",
       "Freq: D, dtype: float64"
      ]
     },
     "execution_count": 377,
     "metadata": {},
     "output_type": "execute_result"
    }
   ],
   "source": [
    "#不同维度对象运算时，要先对齐，此外，pandas自动沿指定维度广播\n",
    "s = pd.Series([1, 3, 5, np.nan, 6, 8], index=dates).shift(2)\n",
    "#shift(2) 表示将这个 Series 对象中的所有值向后移动两个位置，即将前两个位置填充为 NaN。这个操作可以用于时间序列数据中的滞后计算。\n",
    "s"
   ]
  },
  {
   "cell_type": "code",
   "execution_count": 379,
   "id": "daca6f4a",
   "metadata": {},
   "outputs": [
    {
     "data": {
      "text/html": [
       "<div>\n",
       "<style scoped>\n",
       "    .dataframe tbody tr th:only-of-type {\n",
       "        vertical-align: middle;\n",
       "    }\n",
       "\n",
       "    .dataframe tbody tr th {\n",
       "        vertical-align: top;\n",
       "    }\n",
       "\n",
       "    .dataframe thead th {\n",
       "        text-align: right;\n",
       "    }\n",
       "</style>\n",
       "<table border=\"1\" class=\"dataframe\">\n",
       "  <thead>\n",
       "    <tr style=\"text-align: right;\">\n",
       "      <th></th>\n",
       "      <th>A</th>\n",
       "      <th>B</th>\n",
       "      <th>C</th>\n",
       "      <th>D</th>\n",
       "      <th>F</th>\n",
       "    </tr>\n",
       "  </thead>\n",
       "  <tbody>\n",
       "    <tr>\n",
       "      <th>2013-01-01</th>\n",
       "      <td>NaN</td>\n",
       "      <td>NaN</td>\n",
       "      <td>NaN</td>\n",
       "      <td>NaN</td>\n",
       "      <td>NaN</td>\n",
       "    </tr>\n",
       "    <tr>\n",
       "      <th>2013-01-02</th>\n",
       "      <td>NaN</td>\n",
       "      <td>NaN</td>\n",
       "      <td>NaN</td>\n",
       "      <td>NaN</td>\n",
       "      <td>NaN</td>\n",
       "    </tr>\n",
       "    <tr>\n",
       "      <th>2013-01-03</th>\n",
       "      <td>-1.750977</td>\n",
       "      <td>0.976593</td>\n",
       "      <td>0.125147</td>\n",
       "      <td>4.0</td>\n",
       "      <td>1.0</td>\n",
       "    </tr>\n",
       "    <tr>\n",
       "      <th>2013-01-04</th>\n",
       "      <td>-0.993423</td>\n",
       "      <td>-2.634603</td>\n",
       "      <td>-3.327764</td>\n",
       "      <td>2.0</td>\n",
       "      <td>0.0</td>\n",
       "    </tr>\n",
       "    <tr>\n",
       "      <th>2013-01-05</th>\n",
       "      <td>-5.570798</td>\n",
       "      <td>-5.499030</td>\n",
       "      <td>-6.600058</td>\n",
       "      <td>0.0</td>\n",
       "      <td>-1.0</td>\n",
       "    </tr>\n",
       "    <tr>\n",
       "      <th>2013-01-06</th>\n",
       "      <td>NaN</td>\n",
       "      <td>NaN</td>\n",
       "      <td>NaN</td>\n",
       "      <td>NaN</td>\n",
       "      <td>NaN</td>\n",
       "    </tr>\n",
       "  </tbody>\n",
       "</table>\n",
       "</div>"
      ],
      "text/plain": [
       "                   A         B         C    D    F\n",
       "2013-01-01       NaN       NaN       NaN  NaN  NaN\n",
       "2013-01-02       NaN       NaN       NaN  NaN  NaN\n",
       "2013-01-03 -1.750977  0.976593  0.125147  4.0  1.0\n",
       "2013-01-04 -0.993423 -2.634603 -3.327764  2.0  0.0\n",
       "2013-01-05 -5.570798 -5.499030 -6.600058  0.0 -1.0\n",
       "2013-01-06       NaN       NaN       NaN  NaN  NaN"
      ]
     },
     "execution_count": 379,
     "metadata": {},
     "output_type": "execute_result"
    }
   ],
   "source": [
    "df5.sub(s, axis='index')\n",
    "#用于将 二维表格 中的每个元素减去一个 一维数组 中对应的元素\n",
    "#如果 DataFrame 和 Series 的形状不匹配，则会自动进行广播操作，使得它们的形状相同。"
   ]
  },
  {
   "cell_type": "markdown",
   "id": "436ae5b9",
   "metadata": {},
   "source": [
    "## Apply函数"
   ]
  },
  {
   "cell_type": "markdown",
   "id": "b55d31ef",
   "metadata": {},
   "source": [
    "apply函数是Python中的一个内置函数，它的作用是将一个函数应用于一个序列或者一个可迭代对象中的每个元素，并返回一个包含结果的列表。\n",
    "\n",
    "（Python内置函数是Python解释器中已经预定义的函数，可以直接使用而无需导入任何模块。这些函数包括数学函数、字符串函数、列表函数、字典函数、文件函数等等。）"
   ]
  },
  {
   "cell_type": "code",
   "execution_count": 380,
   "id": "cf9b0360",
   "metadata": {},
   "outputs": [
    {
     "data": {
      "text/html": [
       "<div>\n",
       "<style scoped>\n",
       "    .dataframe tbody tr th:only-of-type {\n",
       "        vertical-align: middle;\n",
       "    }\n",
       "\n",
       "    .dataframe tbody tr th {\n",
       "        vertical-align: top;\n",
       "    }\n",
       "\n",
       "    .dataframe thead th {\n",
       "        text-align: right;\n",
       "    }\n",
       "</style>\n",
       "<table border=\"1\" class=\"dataframe\">\n",
       "  <thead>\n",
       "    <tr style=\"text-align: right;\">\n",
       "      <th></th>\n",
       "      <th>A</th>\n",
       "      <th>B</th>\n",
       "      <th>C</th>\n",
       "      <th>D</th>\n",
       "      <th>F</th>\n",
       "    </tr>\n",
       "  </thead>\n",
       "  <tbody>\n",
       "    <tr>\n",
       "      <th>2013-01-01</th>\n",
       "      <td>0.000000</td>\n",
       "      <td>0.775568</td>\n",
       "      <td>-0.495897</td>\n",
       "      <td>5</td>\n",
       "      <td>NaN</td>\n",
       "    </tr>\n",
       "    <tr>\n",
       "      <th>2013-01-02</th>\n",
       "      <td>-1.128176</td>\n",
       "      <td>2.140200</td>\n",
       "      <td>-0.050071</td>\n",
       "      <td>10</td>\n",
       "      <td>1.0</td>\n",
       "    </tr>\n",
       "    <tr>\n",
       "      <th>2013-01-03</th>\n",
       "      <td>-1.879154</td>\n",
       "      <td>4.116793</td>\n",
       "      <td>1.075076</td>\n",
       "      <td>15</td>\n",
       "      <td>3.0</td>\n",
       "    </tr>\n",
       "    <tr>\n",
       "      <th>2013-01-04</th>\n",
       "      <td>0.127423</td>\n",
       "      <td>4.482190</td>\n",
       "      <td>0.747312</td>\n",
       "      <td>20</td>\n",
       "      <td>6.0</td>\n",
       "    </tr>\n",
       "    <tr>\n",
       "      <th>2013-01-05</th>\n",
       "      <td>-0.443374</td>\n",
       "      <td>3.983160</td>\n",
       "      <td>-0.852747</td>\n",
       "      <td>25</td>\n",
       "      <td>10.0</td>\n",
       "    </tr>\n",
       "    <tr>\n",
       "      <th>2013-01-06</th>\n",
       "      <td>0.192177</td>\n",
       "      <td>3.579214</td>\n",
       "      <td>0.402543</td>\n",
       "      <td>30</td>\n",
       "      <td>15.0</td>\n",
       "    </tr>\n",
       "  </tbody>\n",
       "</table>\n",
       "</div>"
      ],
      "text/plain": [
       "                   A         B         C   D     F\n",
       "2013-01-01  0.000000  0.775568 -0.495897   5   NaN\n",
       "2013-01-02 -1.128176  2.140200 -0.050071  10   1.0\n",
       "2013-01-03 -1.879154  4.116793  1.075076  15   3.0\n",
       "2013-01-04  0.127423  4.482190  0.747312  20   6.0\n",
       "2013-01-05 -0.443374  3.983160 -0.852747  25  10.0\n",
       "2013-01-06  0.192177  3.579214  0.402543  30  15.0"
      ]
     },
     "execution_count": 380,
     "metadata": {},
     "output_type": "execute_result"
    }
   ],
   "source": [
    "df5.apply(np.cumsum)\n",
    "#对每一行进行累加操作"
   ]
  },
  {
   "cell_type": "code",
   "execution_count": 382,
   "id": "06263fd4",
   "metadata": {},
   "outputs": [
    {
     "data": {
      "text/plain": [
       "A    3.134753\n",
       "B    2.475624\n",
       "C    2.855348\n",
       "D    0.000000\n",
       "F    4.000000\n",
       "dtype: float64"
      ]
     },
     "execution_count": 382,
     "metadata": {},
     "output_type": "execute_result"
    }
   ],
   "source": [
    "df5.apply(lambda x: x.max() - x.min())\n",
    "#计算每一列的极差（即最大值和最小值之差）"
   ]
  },
  {
   "cell_type": "markdown",
   "id": "034cb5ac",
   "metadata": {},
   "source": [
    "## 直方图"
   ]
  },
  {
   "cell_type": "code",
   "execution_count": 383,
   "id": "4070af95",
   "metadata": {},
   "outputs": [
    {
     "data": {
      "text/plain": [
       "0    6\n",
       "1    1\n",
       "2    0\n",
       "3    1\n",
       "4    6\n",
       "5    1\n",
       "6    4\n",
       "7    0\n",
       "8    2\n",
       "9    4\n",
       "dtype: int64"
      ]
     },
     "execution_count": 383,
     "metadata": {},
     "output_type": "execute_result"
    }
   ],
   "source": [
    "s = pd.Series(np.random.randint(0, 7, size=10))\n",
    "s"
   ]
  },
  {
   "cell_type": "code",
   "execution_count": 384,
   "id": "f3149d24",
   "metadata": {},
   "outputs": [
    {
     "data": {
      "text/plain": [
       "1    3\n",
       "6    2\n",
       "0    2\n",
       "4    2\n",
       "2    1\n",
       "dtype: int64"
      ]
     },
     "execution_count": 384,
     "metadata": {},
     "output_type": "execute_result"
    }
   ],
   "source": [
    "s.value_counts()#用于计算Series中每个唯一值的出现次数，并返回一个新的Series对象，其中每个唯一值作为索引，其出现次数作为值"
   ]
  },
  {
   "cell_type": "markdown",
   "id": "dcef081e",
   "metadata": {},
   "source": [
    "## 字符串方法"
   ]
  },
  {
   "cell_type": "markdown",
   "id": "6dee610b",
   "metadata": {},
   "source": [
    "Series 的 str 属性是用于对字符串类型的 Series 进行操作的属性。它包含了一系列的字符串处理方法，例如字符串的拼接、替换、切片、查找、大小写转换等等。使用 Series 的 str 属性可以方便地对字符串类型的数据进行处理和分析。以下是常用的Series的str属性方法\n",
    "- str.cat(): 将多个字符串拼接成一个字符串。\n",
    "- str.contains(): 判断字符串是否包含某个子串。\n",
    "- str.replace(): 将字符串中的某个子串替换为另一个字符串。\n",
    "- str.split(): 将字符串按照某个分隔符进行分割。\n",
    "- str.strip(): 去除字符串两端的空格。\n",
    "- str.upper(): 将字符串转换为大写。\n",
    "- str.lower(): 将字符串转换为小写。\n",
    "- str.title(): 将字符串中每个单词的首字母大写。"
   ]
  },
  {
   "cell_type": "code",
   "execution_count": 387,
   "id": "548ddc1a",
   "metadata": {},
   "outputs": [
    {
     "data": {
      "text/plain": [
       "0       A\n",
       "1       B\n",
       "2       C\n",
       "3    Aaba\n",
       "4    Baca\n",
       "5     NaN\n",
       "6    CABA\n",
       "7     dog\n",
       "8     cat\n",
       "dtype: object"
      ]
     },
     "execution_count": 387,
     "metadata": {},
     "output_type": "execute_result"
    }
   ],
   "source": [
    "s = pd.Series(['A', 'B', 'C', 'Aaba', 'Baca', np.nan, 'CABA', 'dog', 'cat'])\n",
    "s"
   ]
  },
  {
   "cell_type": "code",
   "execution_count": 391,
   "id": "e04e0362",
   "metadata": {},
   "outputs": [
    {
     "data": {
      "text/plain": [
       "0    False\n",
       "1    False\n",
       "2    False\n",
       "3     True\n",
       "4     True\n",
       "5      NaN\n",
       "6    False\n",
       "7    False\n",
       "8     True\n",
       "dtype: object"
      ]
     },
     "execution_count": 391,
     "metadata": {},
     "output_type": "execute_result"
    }
   ],
   "source": [
    "s.str.contains('a')"
   ]
  },
  {
   "cell_type": "code",
   "execution_count": 392,
   "id": "c0126c92",
   "metadata": {},
   "outputs": [
    {
     "data": {
      "text/plain": [
       "0       A\n",
       "1       B\n",
       "2       C\n",
       "3    Aobo\n",
       "4    Boco\n",
       "5     NaN\n",
       "6    CABA\n",
       "7     dog\n",
       "8     cot\n",
       "dtype: object"
      ]
     },
     "execution_count": 392,
     "metadata": {},
     "output_type": "execute_result"
    }
   ],
   "source": [
    "s.str.replace('a', 'o')"
   ]
  },
  {
   "cell_type": "markdown",
   "id": "62f75ca7",
   "metadata": {},
   "source": [
    "# 合并"
   ]
  },
  {
   "cell_type": "markdown",
   "id": "1e767c81",
   "metadata": {},
   "source": [
    "Pandas 提供了多种将 Series、DataFrame 对象组合在一起的功能，用索引与关联代数功能的多种设置逻辑可执行连接（join）与合并（merge）操作。"
   ]
  },
  {
   "cell_type": "markdown",
   "id": "d1ac23ba",
   "metadata": {},
   "source": [
    "## 结合"
   ]
  },
  {
   "cell_type": "code",
   "execution_count": 394,
   "id": "7443e222",
   "metadata": {},
   "outputs": [
    {
     "data": {
      "text/html": [
       "<div>\n",
       "<style scoped>\n",
       "    .dataframe tbody tr th:only-of-type {\n",
       "        vertical-align: middle;\n",
       "    }\n",
       "\n",
       "    .dataframe tbody tr th {\n",
       "        vertical-align: top;\n",
       "    }\n",
       "\n",
       "    .dataframe thead th {\n",
       "        text-align: right;\n",
       "    }\n",
       "</style>\n",
       "<table border=\"1\" class=\"dataframe\">\n",
       "  <thead>\n",
       "    <tr style=\"text-align: right;\">\n",
       "      <th></th>\n",
       "      <th>0</th>\n",
       "      <th>1</th>\n",
       "      <th>2</th>\n",
       "      <th>3</th>\n",
       "    </tr>\n",
       "  </thead>\n",
       "  <tbody>\n",
       "    <tr>\n",
       "      <th>0</th>\n",
       "      <td>-0.407771</td>\n",
       "      <td>-0.625835</td>\n",
       "      <td>-1.181337</td>\n",
       "      <td>1.141708</td>\n",
       "    </tr>\n",
       "    <tr>\n",
       "      <th>1</th>\n",
       "      <td>-0.105748</td>\n",
       "      <td>-0.145052</td>\n",
       "      <td>0.314179</td>\n",
       "      <td>-1.792773</td>\n",
       "    </tr>\n",
       "    <tr>\n",
       "      <th>2</th>\n",
       "      <td>0.793153</td>\n",
       "      <td>1.285525</td>\n",
       "      <td>0.590980</td>\n",
       "      <td>-1.175739</td>\n",
       "    </tr>\n",
       "    <tr>\n",
       "      <th>3</th>\n",
       "      <td>2.066640</td>\n",
       "      <td>-0.798458</td>\n",
       "      <td>-0.512160</td>\n",
       "      <td>1.268114</td>\n",
       "    </tr>\n",
       "    <tr>\n",
       "      <th>4</th>\n",
       "      <td>-0.750226</td>\n",
       "      <td>-0.906254</td>\n",
       "      <td>-0.331603</td>\n",
       "      <td>0.290200</td>\n",
       "    </tr>\n",
       "    <tr>\n",
       "      <th>5</th>\n",
       "      <td>1.214896</td>\n",
       "      <td>0.151071</td>\n",
       "      <td>0.866594</td>\n",
       "      <td>-0.445455</td>\n",
       "    </tr>\n",
       "    <tr>\n",
       "      <th>6</th>\n",
       "      <td>1.390298</td>\n",
       "      <td>-1.813089</td>\n",
       "      <td>0.260346</td>\n",
       "      <td>-0.152808</td>\n",
       "    </tr>\n",
       "    <tr>\n",
       "      <th>7</th>\n",
       "      <td>-1.167127</td>\n",
       "      <td>-0.704784</td>\n",
       "      <td>0.404565</td>\n",
       "      <td>-1.075521</td>\n",
       "    </tr>\n",
       "    <tr>\n",
       "      <th>8</th>\n",
       "      <td>-0.420603</td>\n",
       "      <td>-0.429581</td>\n",
       "      <td>-0.165772</td>\n",
       "      <td>-1.300182</td>\n",
       "    </tr>\n",
       "    <tr>\n",
       "      <th>9</th>\n",
       "      <td>0.179121</td>\n",
       "      <td>1.015714</td>\n",
       "      <td>0.296599</td>\n",
       "      <td>0.920599</td>\n",
       "    </tr>\n",
       "  </tbody>\n",
       "</table>\n",
       "</div>"
      ],
      "text/plain": [
       "          0         1         2         3\n",
       "0 -0.407771 -0.625835 -1.181337  1.141708\n",
       "1 -0.105748 -0.145052  0.314179 -1.792773\n",
       "2  0.793153  1.285525  0.590980 -1.175739\n",
       "3  2.066640 -0.798458 -0.512160  1.268114\n",
       "4 -0.750226 -0.906254 -0.331603  0.290200\n",
       "5  1.214896  0.151071  0.866594 -0.445455\n",
       "6  1.390298 -1.813089  0.260346 -0.152808\n",
       "7 -1.167127 -0.704784  0.404565 -1.075521\n",
       "8 -0.420603 -0.429581 -0.165772 -1.300182\n",
       "9  0.179121  1.015714  0.296599  0.920599"
      ]
     },
     "execution_count": 394,
     "metadata": {},
     "output_type": "execute_result"
    }
   ],
   "source": [
    "df = pd.DataFrame(np.random.randn(10, 4))#生成的是标准正态分布（均值为0，标准差为1）的随机数\n",
    "df"
   ]
  },
  {
   "cell_type": "code",
   "execution_count": 396,
   "id": "14021c5e",
   "metadata": {},
   "outputs": [
    {
     "data": {
      "text/html": [
       "<div>\n",
       "<style scoped>\n",
       "    .dataframe tbody tr th:only-of-type {\n",
       "        vertical-align: middle;\n",
       "    }\n",
       "\n",
       "    .dataframe tbody tr th {\n",
       "        vertical-align: top;\n",
       "    }\n",
       "\n",
       "    .dataframe thead th {\n",
       "        text-align: right;\n",
       "    }\n",
       "</style>\n",
       "<table border=\"1\" class=\"dataframe\">\n",
       "  <thead>\n",
       "    <tr style=\"text-align: right;\">\n",
       "      <th></th>\n",
       "      <th>0</th>\n",
       "      <th>1</th>\n",
       "      <th>2</th>\n",
       "      <th>3</th>\n",
       "    </tr>\n",
       "  </thead>\n",
       "  <tbody>\n",
       "    <tr>\n",
       "      <th>0</th>\n",
       "      <td>-0.407771</td>\n",
       "      <td>-0.625835</td>\n",
       "      <td>-1.181337</td>\n",
       "      <td>1.141708</td>\n",
       "    </tr>\n",
       "    <tr>\n",
       "      <th>1</th>\n",
       "      <td>-0.105748</td>\n",
       "      <td>-0.145052</td>\n",
       "      <td>0.314179</td>\n",
       "      <td>-1.792773</td>\n",
       "    </tr>\n",
       "    <tr>\n",
       "      <th>2</th>\n",
       "      <td>0.793153</td>\n",
       "      <td>1.285525</td>\n",
       "      <td>0.590980</td>\n",
       "      <td>-1.175739</td>\n",
       "    </tr>\n",
       "    <tr>\n",
       "      <th>7</th>\n",
       "      <td>-1.167127</td>\n",
       "      <td>-0.704784</td>\n",
       "      <td>0.404565</td>\n",
       "      <td>-1.075521</td>\n",
       "    </tr>\n",
       "    <tr>\n",
       "      <th>8</th>\n",
       "      <td>-0.420603</td>\n",
       "      <td>-0.429581</td>\n",
       "      <td>-0.165772</td>\n",
       "      <td>-1.300182</td>\n",
       "    </tr>\n",
       "    <tr>\n",
       "      <th>9</th>\n",
       "      <td>0.179121</td>\n",
       "      <td>1.015714</td>\n",
       "      <td>0.296599</td>\n",
       "      <td>0.920599</td>\n",
       "    </tr>\n",
       "    <tr>\n",
       "      <th>3</th>\n",
       "      <td>2.066640</td>\n",
       "      <td>-0.798458</td>\n",
       "      <td>-0.512160</td>\n",
       "      <td>1.268114</td>\n",
       "    </tr>\n",
       "    <tr>\n",
       "      <th>4</th>\n",
       "      <td>-0.750226</td>\n",
       "      <td>-0.906254</td>\n",
       "      <td>-0.331603</td>\n",
       "      <td>0.290200</td>\n",
       "    </tr>\n",
       "    <tr>\n",
       "      <th>5</th>\n",
       "      <td>1.214896</td>\n",
       "      <td>0.151071</td>\n",
       "      <td>0.866594</td>\n",
       "      <td>-0.445455</td>\n",
       "    </tr>\n",
       "    <tr>\n",
       "      <th>6</th>\n",
       "      <td>1.390298</td>\n",
       "      <td>-1.813089</td>\n",
       "      <td>0.260346</td>\n",
       "      <td>-0.152808</td>\n",
       "    </tr>\n",
       "  </tbody>\n",
       "</table>\n",
       "</div>"
      ],
      "text/plain": [
       "          0         1         2         3\n",
       "0 -0.407771 -0.625835 -1.181337  1.141708\n",
       "1 -0.105748 -0.145052  0.314179 -1.792773\n",
       "2  0.793153  1.285525  0.590980 -1.175739\n",
       "7 -1.167127 -0.704784  0.404565 -1.075521\n",
       "8 -0.420603 -0.429581 -0.165772 -1.300182\n",
       "9  0.179121  1.015714  0.296599  0.920599\n",
       "3  2.066640 -0.798458 -0.512160  1.268114\n",
       "4 -0.750226 -0.906254 -0.331603  0.290200\n",
       "5  1.214896  0.151071  0.866594 -0.445455\n",
       "6  1.390298 -1.813089  0.260346 -0.152808"
      ]
     },
     "execution_count": 396,
     "metadata": {},
     "output_type": "execute_result"
    }
   ],
   "source": [
    "#将原始数据框df按行分成三个部分，分别是前三行、第八行到最后一行、第四行到第七行。然后使用pd.concat()函数将这三个部分重新合并成一个新的数据框，其中行的顺序不变。\n",
    "pieces = [df[:3], df[7:], df[3:7]]\n",
    "pd.concat(pieces)"
   ]
  },
  {
   "cell_type": "markdown",
   "id": "fbc7b95e",
   "metadata": {},
   "source": [
    "## 连接"
   ]
  },
  {
   "cell_type": "code",
   "execution_count": null,
   "id": "6fcffc5f",
   "metadata": {},
   "outputs": [],
   "source": [
    "SQL风格的合并，使用JOIN操作进行连接\n",
    "\n",
    "\n",
    "\n",
    "\n",
    "\n",
    "是的，UNION、UNION ALL和JOIN操作符都是SQL语言中的操作符。 \n",
    "\n",
    "UNION和UNION ALL操作符用于将两个或多个SELECT语句的结果集合并为一个结果集，其中UNION操作符会去重，而UNION ALL不会去重。\n",
    "\n",
    "JOIN操作符用于将两个或多个表中的数据连接起来，以便在一个查询中同时检索这些表中的数据。JOIN操作符可以根据指定的条件将两个表中的数据进行匹配，从而返回一个包含两个表中匹配数据的结果集。\n",
    "\n",
    "\n",
    "\n",
    "\n",
    "\n",
    "SQL风格的连接是指使用SQL语句中的JOIN关键字将两个或多个表中的数据连接起来。SQL风格的连接包括内连接、左连接、右连接和全连接。\n",
    "\n",
    "数据集风格的连接是指使用数据集工具（如Excel、Power BI等）中的连接功能将两个或多个数据集中的数据连接起来。数据集风格的连接包括内连接、左连接、右连接和全连接，与SQL风格的连接类似。\n",
    "\n",
    "两种连接方式的主要区别在于实现方式和使用场景。SQL风格的连接适用于数据库中的数据连接，需要使用SQL语句进行连接操作；而数据集风格的连接适用于数据集工具中的数据连接，可以通过可视化界面进行连接操作。"
   ]
  },
  {
   "cell_type": "code",
   "execution_count": 436,
   "id": "174747d4",
   "metadata": {},
   "outputs": [
    {
     "data": {
      "text/html": [
       "<div>\n",
       "<style scoped>\n",
       "    .dataframe tbody tr th:only-of-type {\n",
       "        vertical-align: middle;\n",
       "    }\n",
       "\n",
       "    .dataframe tbody tr th {\n",
       "        vertical-align: top;\n",
       "    }\n",
       "\n",
       "    .dataframe thead th {\n",
       "        text-align: right;\n",
       "    }\n",
       "</style>\n",
       "<table border=\"1\" class=\"dataframe\">\n",
       "  <thead>\n",
       "    <tr style=\"text-align: right;\">\n",
       "      <th></th>\n",
       "      <th>key</th>\n",
       "      <th>lval</th>\n",
       "    </tr>\n",
       "  </thead>\n",
       "  <tbody>\n",
       "    <tr>\n",
       "      <th>0</th>\n",
       "      <td>fa</td>\n",
       "      <td>9</td>\n",
       "    </tr>\n",
       "    <tr>\n",
       "      <th>1</th>\n",
       "      <td>fb</td>\n",
       "      <td>8</td>\n",
       "    </tr>\n",
       "    <tr>\n",
       "      <th>2</th>\n",
       "      <td>fc</td>\n",
       "      <td>7</td>\n",
       "    </tr>\n",
       "  </tbody>\n",
       "</table>\n",
       "</div>"
      ],
      "text/plain": [
       "  key  lval\n",
       "0  fa     9\n",
       "1  fb     8\n",
       "2  fc     7"
      ]
     },
     "execution_count": 436,
     "metadata": {},
     "output_type": "execute_result"
    }
   ],
   "source": [
    "left = pd.DataFrame({'key': ['fa','fb','fc'], 'lval': [9,8,7]})\n",
    "\n",
    "left"
   ]
  },
  {
   "cell_type": "code",
   "execution_count": 437,
   "id": "be2d691e",
   "metadata": {},
   "outputs": [
    {
     "data": {
      "text/html": [
       "<div>\n",
       "<style scoped>\n",
       "    .dataframe tbody tr th:only-of-type {\n",
       "        vertical-align: middle;\n",
       "    }\n",
       "\n",
       "    .dataframe tbody tr th {\n",
       "        vertical-align: top;\n",
       "    }\n",
       "\n",
       "    .dataframe thead th {\n",
       "        text-align: right;\n",
       "    }\n",
       "</style>\n",
       "<table border=\"1\" class=\"dataframe\">\n",
       "  <thead>\n",
       "    <tr style=\"text-align: right;\">\n",
       "      <th></th>\n",
       "      <th>key</th>\n",
       "      <th>rval</th>\n",
       "    </tr>\n",
       "  </thead>\n",
       "  <tbody>\n",
       "    <tr>\n",
       "      <th>0</th>\n",
       "      <td>foo</td>\n",
       "      <td>4</td>\n",
       "    </tr>\n",
       "    <tr>\n",
       "      <th>1</th>\n",
       "      <td>foo</td>\n",
       "      <td>5</td>\n",
       "    </tr>\n",
       "  </tbody>\n",
       "</table>\n",
       "</div>"
      ],
      "text/plain": [
       "   key  rval\n",
       "0  foo     4\n",
       "1  foo     5"
      ]
     },
     "execution_count": 437,
     "metadata": {},
     "output_type": "execute_result"
    }
   ],
   "source": [
    "right = pd.DataFrame({'key': ['foo', 'foo'], 'rval': [4, 5]})\n",
    "right"
   ]
  },
  {
   "cell_type": "code",
   "execution_count": 454,
   "id": "fa8c04ce",
   "metadata": {},
   "outputs": [
    {
     "data": {
      "text/html": [
       "<div>\n",
       "<style scoped>\n",
       "    .dataframe tbody tr th:only-of-type {\n",
       "        vertical-align: middle;\n",
       "    }\n",
       "\n",
       "    .dataframe tbody tr th {\n",
       "        vertical-align: top;\n",
       "    }\n",
       "\n",
       "    .dataframe thead th {\n",
       "        text-align: right;\n",
       "    }\n",
       "</style>\n",
       "<table border=\"1\" class=\"dataframe\">\n",
       "  <thead>\n",
       "    <tr style=\"text-align: right;\">\n",
       "      <th></th>\n",
       "      <th>key</th>\n",
       "      <th>lval</th>\n",
       "      <th>rval</th>\n",
       "    </tr>\n",
       "  </thead>\n",
       "  <tbody>\n",
       "    <tr>\n",
       "      <th>0</th>\n",
       "      <td>fa</td>\n",
       "      <td>9</td>\n",
       "      <td>NaN</td>\n",
       "    </tr>\n",
       "    <tr>\n",
       "      <th>1</th>\n",
       "      <td>fb</td>\n",
       "      <td>8</td>\n",
       "      <td>NaN</td>\n",
       "    </tr>\n",
       "    <tr>\n",
       "      <th>2</th>\n",
       "      <td>fc</td>\n",
       "      <td>7</td>\n",
       "      <td>NaN</td>\n",
       "    </tr>\n",
       "  </tbody>\n",
       "</table>\n",
       "</div>"
      ],
      "text/plain": [
       "  key  lval  rval\n",
       "0  fa     9   NaN\n",
       "1  fb     8   NaN\n",
       "2  fc     7   NaN"
      ]
     },
     "execution_count": 454,
     "metadata": {},
     "output_type": "execute_result"
    }
   ],
   "source": [
    "pd.merge(left, right, how=\"left\", on=['key'])"
   ]
  },
  {
   "cell_type": "markdown",
   "id": "a115ff75",
   "metadata": {},
   "source": [
    "1. 内连接（inner join）：只保留两个数据框中都存在的行，其他行被删除。\n",
    "2. 左连接（left join）：保留左边数据框中的所有行，右边数据框中没有匹配的行用NaN填充。\n",
    "3. 右连接（right join）：保留右边数据框中的所有行，左边数据框中没有匹配的行用NaN填充。\n",
    "4. 外连接（outer join）：保留两个数据框中的所有行，没有匹配的行用NaN填充。\n",
    "5. cross方式:指将两个数据框中的所有行进行组合，生成一个新的数据框。这种方式的合并不需要指定任何键，因为它会将两个数据框中的所有行进行组合，生成一个新的数据框。这种方式的合并通常用于数据框之间的笛卡尔积操作，即将两个数据框中的所有行进行组合，生成一个新的数据框，其中每个行都包含两个数据框中的一行。 "
   ]
  },
  {
   "cell_type": "markdown",
   "id": "3e3290e4",
   "metadata": {},
   "source": [
    "pd.merge()是pandas库中用于合并数据的函数，其参数含义如下：\n",
    "\n",
    "- left：要合并的左侧DataFrame。\n",
    "- right：要合并的右侧DataFrame。\n",
    "- how：合并方式，包括\"left\"、\"right\"、\"outer\"和\"inner\"，默认为\"inner\"。\n",
    "- on：用于合并的列名，必须在左右两个DataFrame中都存在。\n",
    "- left_on：左侧DataFrame中用于合并的列名。\n",
    "- right_on：右侧DataFrame中用于合并的列名。\n",
    "- left_index：如果为True，则使用左侧DataFrame的索引进行合并。\n",
    "- right_index：如果为True，则使用右侧DataFrame的索引进行合并。\n",
    "- sort：如果为True，则按照合并键进行排序。\n",
    "- suffixes：如果左右两个DataFrame中存在重复列名，则为它们添加后缀。\n",
    "- copy：如果为True，则复制数据，否则尝试在原始数据上进行修改。\n",
    "- indicator：如果为True，则添加一个名为_merge的列，用于指示合并方式。\n",
    "- validate：如果为\"one_to_one\"，则检查合并键是否唯一。如果为\"one_to_many\"，则检查左侧DataFrame中的合并键是否唯一。如果为\"many_to_one\"，则检查右侧DataFrame中的合并键是否唯一。如果为\"many_to_many\"，则不进行检查。默认为None。"
   ]
  },
  {
   "cell_type": "code",
   "execution_count": null,
   "id": "a594ea81",
   "metadata": {},
   "outputs": [],
   "source": [
    "SQL 风格的合并和数据库风格连接是两种不同的操作。\n",
    "\n",
    "SQL 风格的合并是指使用 SQL 语句中的 UNION 或 UNION ALL 操作符将两个或多个表中的数据合并成一个结果集。这种操作通常用于将多个表中的相似数据合并在一起，以便进行更方便的查询和分析。\n",
    "\n",
    "数据库风格连接是指使用数据库中的 JOIN 操作将两个或多个表中的数据连接在一起。这种操作通常用于将两个或多个表中的数据进行关联，以便进行更复杂的查询和分析。连接操作可以根据不同的条件进行，如 INNER JOIN、LEFT JOIN、RIGHT JOIN 等。\n",
    "\n",
    "总的来说，SQL 风格的合并和数据库风格连接都是将多个表中的数据合并在一起，但是它们的操作方式和使用场景有所不同。"
   ]
  },
  {
   "cell_type": "markdown",
   "id": "d54a79b7",
   "metadata": {},
   "source": [
    "## 追加"
   ]
  },
  {
   "cell_type": "code",
   "execution_count": 458,
   "id": "4e89a1c2",
   "metadata": {},
   "outputs": [
    {
     "data": {
      "text/html": [
       "<div>\n",
       "<style scoped>\n",
       "    .dataframe tbody tr th:only-of-type {\n",
       "        vertical-align: middle;\n",
       "    }\n",
       "\n",
       "    .dataframe tbody tr th {\n",
       "        vertical-align: top;\n",
       "    }\n",
       "\n",
       "    .dataframe thead th {\n",
       "        text-align: right;\n",
       "    }\n",
       "</style>\n",
       "<table border=\"1\" class=\"dataframe\">\n",
       "  <thead>\n",
       "    <tr style=\"text-align: right;\">\n",
       "      <th></th>\n",
       "      <th>A</th>\n",
       "      <th>B</th>\n",
       "      <th>C</th>\n",
       "      <th>D</th>\n",
       "    </tr>\n",
       "  </thead>\n",
       "  <tbody>\n",
       "    <tr>\n",
       "      <th>0</th>\n",
       "      <td>0.745354</td>\n",
       "      <td>-0.936185</td>\n",
       "      <td>-0.191220</td>\n",
       "      <td>0.585069</td>\n",
       "    </tr>\n",
       "    <tr>\n",
       "      <th>1</th>\n",
       "      <td>0.665332</td>\n",
       "      <td>0.543754</td>\n",
       "      <td>0.715556</td>\n",
       "      <td>0.314863</td>\n",
       "    </tr>\n",
       "    <tr>\n",
       "      <th>2</th>\n",
       "      <td>0.478944</td>\n",
       "      <td>0.251797</td>\n",
       "      <td>1.328815</td>\n",
       "      <td>-1.193518</td>\n",
       "    </tr>\n",
       "    <tr>\n",
       "      <th>3</th>\n",
       "      <td>0.894408</td>\n",
       "      <td>1.336346</td>\n",
       "      <td>-0.060368</td>\n",
       "      <td>-0.240897</td>\n",
       "    </tr>\n",
       "    <tr>\n",
       "      <th>4</th>\n",
       "      <td>2.352622</td>\n",
       "      <td>-0.286563</td>\n",
       "      <td>0.018372</td>\n",
       "      <td>-0.838077</td>\n",
       "    </tr>\n",
       "    <tr>\n",
       "      <th>5</th>\n",
       "      <td>-0.365273</td>\n",
       "      <td>-1.263877</td>\n",
       "      <td>0.387781</td>\n",
       "      <td>0.775846</td>\n",
       "    </tr>\n",
       "    <tr>\n",
       "      <th>6</th>\n",
       "      <td>-0.065322</td>\n",
       "      <td>1.923964</td>\n",
       "      <td>1.467536</td>\n",
       "      <td>0.619224</td>\n",
       "    </tr>\n",
       "    <tr>\n",
       "      <th>7</th>\n",
       "      <td>-0.871707</td>\n",
       "      <td>-1.259449</td>\n",
       "      <td>-1.062032</td>\n",
       "      <td>-1.347017</td>\n",
       "    </tr>\n",
       "  </tbody>\n",
       "</table>\n",
       "</div>"
      ],
      "text/plain": [
       "          A         B         C         D\n",
       "0  0.745354 -0.936185 -0.191220  0.585069\n",
       "1  0.665332  0.543754  0.715556  0.314863\n",
       "2  0.478944  0.251797  1.328815 -1.193518\n",
       "3  0.894408  1.336346 -0.060368 -0.240897\n",
       "4  2.352622 -0.286563  0.018372 -0.838077\n",
       "5 -0.365273 -1.263877  0.387781  0.775846\n",
       "6 -0.065322  1.923964  1.467536  0.619224\n",
       "7 -0.871707 -1.259449 -1.062032 -1.347017"
      ]
     },
     "execution_count": 458,
     "metadata": {},
     "output_type": "execute_result"
    }
   ],
   "source": [
    "df = pd.DataFrame(np.random.randn(8, 4), columns=['A', 'B', 'C', 'D'])\n",
    "df"
   ]
  },
  {
   "cell_type": "code",
   "execution_count": 474,
   "id": "64b5a227",
   "metadata": {},
   "outputs": [
    {
     "data": {
      "text/html": [
       "<div>\n",
       "<style scoped>\n",
       "    .dataframe tbody tr th:only-of-type {\n",
       "        vertical-align: middle;\n",
       "    }\n",
       "\n",
       "    .dataframe tbody tr th {\n",
       "        vertical-align: top;\n",
       "    }\n",
       "\n",
       "    .dataframe thead th {\n",
       "        text-align: right;\n",
       "    }\n",
       "</style>\n",
       "<table border=\"1\" class=\"dataframe\">\n",
       "  <thead>\n",
       "    <tr style=\"text-align: right;\">\n",
       "      <th></th>\n",
       "      <th>A</th>\n",
       "      <th>B</th>\n",
       "      <th>C</th>\n",
       "      <th>D</th>\n",
       "    </tr>\n",
       "  </thead>\n",
       "  <tbody>\n",
       "    <tr>\n",
       "      <th>0</th>\n",
       "      <td>0.745354</td>\n",
       "      <td>-0.936185</td>\n",
       "      <td>-0.191220</td>\n",
       "      <td>0.585069</td>\n",
       "    </tr>\n",
       "    <tr>\n",
       "      <th>1</th>\n",
       "      <td>0.665332</td>\n",
       "      <td>0.543754</td>\n",
       "      <td>0.715556</td>\n",
       "      <td>0.314863</td>\n",
       "    </tr>\n",
       "    <tr>\n",
       "      <th>2</th>\n",
       "      <td>0.478944</td>\n",
       "      <td>0.251797</td>\n",
       "      <td>1.328815</td>\n",
       "      <td>-1.193518</td>\n",
       "    </tr>\n",
       "    <tr>\n",
       "      <th>3</th>\n",
       "      <td>0.894408</td>\n",
       "      <td>1.336346</td>\n",
       "      <td>-0.060368</td>\n",
       "      <td>-0.240897</td>\n",
       "    </tr>\n",
       "    <tr>\n",
       "      <th>4</th>\n",
       "      <td>2.352622</td>\n",
       "      <td>-0.286563</td>\n",
       "      <td>0.018372</td>\n",
       "      <td>-0.838077</td>\n",
       "    </tr>\n",
       "    <tr>\n",
       "      <th>5</th>\n",
       "      <td>-0.365273</td>\n",
       "      <td>-1.263877</td>\n",
       "      <td>0.387781</td>\n",
       "      <td>0.775846</td>\n",
       "    </tr>\n",
       "    <tr>\n",
       "      <th>6</th>\n",
       "      <td>-0.065322</td>\n",
       "      <td>1.923964</td>\n",
       "      <td>1.467536</td>\n",
       "      <td>0.619224</td>\n",
       "    </tr>\n",
       "    <tr>\n",
       "      <th>7</th>\n",
       "      <td>-0.871707</td>\n",
       "      <td>-1.259449</td>\n",
       "      <td>-1.062032</td>\n",
       "      <td>-1.347017</td>\n",
       "    </tr>\n",
       "    <tr>\n",
       "      <th>8</th>\n",
       "      <td>0.894408</td>\n",
       "      <td>1.336346</td>\n",
       "      <td>-0.060368</td>\n",
       "      <td>-0.240897</td>\n",
       "    </tr>\n",
       "  </tbody>\n",
       "</table>\n",
       "</div>"
      ],
      "text/plain": [
       "          A         B         C         D\n",
       "0  0.745354 -0.936185 -0.191220  0.585069\n",
       "1  0.665332  0.543754  0.715556  0.314863\n",
       "2  0.478944  0.251797  1.328815 -1.193518\n",
       "3  0.894408  1.336346 -0.060368 -0.240897\n",
       "4  2.352622 -0.286563  0.018372 -0.838077\n",
       "5 -0.365273 -1.263877  0.387781  0.775846\n",
       "6 -0.065322  1.923964  1.467536  0.619224\n",
       "7 -0.871707 -1.259449 -1.062032 -1.347017\n",
       "8  0.894408  1.336346 -0.060368 -0.240897"
      ]
     },
     "execution_count": 474,
     "metadata": {},
     "output_type": "execute_result"
    }
   ],
   "source": [
    "s = df.iloc[3]\n",
    "pd.concat([df,s.to_frame().T] ,ignore_index=True)\n",
    "#`s.to_frame().T`将Series转换为DataFrame，并将其转置以匹配原始DataFrame的形状。然后使用`pd.concat()`方法将两个DataFrame连接在一起。\n",
    "#将DataFrame中第3行的数据保存到变量s中，然后将s作为新的一行添加到DataFrame的末尾，并返回一个新的DataFrame。ignore_index=True参数表示忽略原DataFrame中的索引，新的DataFrame将会自动创建一个新的整数索引。"
   ]
  },
  {
   "cell_type": "markdown",
   "id": "72dad8ce",
   "metadata": {},
   "source": [
    "## 分组"
   ]
  },
  {
   "cell_type": "markdown",
   "id": "4927ebd2",
   "metadata": {},
   "source": [
    "“group by” 指的是涵盖下列一项或多项步骤的处理流程：\n",
    "\n",
    "- 分割：按条件把数据分割成多组；\n",
    "- 应用：为每组单独应用函数；\n",
    "- 组合：将处理结果组合成一个数据结构"
   ]
  },
  {
   "cell_type": "code",
   "execution_count": 475,
   "id": "079d55b1",
   "metadata": {},
   "outputs": [
    {
     "data": {
      "text/html": [
       "<div>\n",
       "<style scoped>\n",
       "    .dataframe tbody tr th:only-of-type {\n",
       "        vertical-align: middle;\n",
       "    }\n",
       "\n",
       "    .dataframe tbody tr th {\n",
       "        vertical-align: top;\n",
       "    }\n",
       "\n",
       "    .dataframe thead th {\n",
       "        text-align: right;\n",
       "    }\n",
       "</style>\n",
       "<table border=\"1\" class=\"dataframe\">\n",
       "  <thead>\n",
       "    <tr style=\"text-align: right;\">\n",
       "      <th></th>\n",
       "      <th>A</th>\n",
       "      <th>B</th>\n",
       "      <th>C</th>\n",
       "      <th>D</th>\n",
       "    </tr>\n",
       "  </thead>\n",
       "  <tbody>\n",
       "    <tr>\n",
       "      <th>0</th>\n",
       "      <td>foo</td>\n",
       "      <td>one</td>\n",
       "      <td>-0.437705</td>\n",
       "      <td>-1.009620</td>\n",
       "    </tr>\n",
       "    <tr>\n",
       "      <th>1</th>\n",
       "      <td>bar</td>\n",
       "      <td>one</td>\n",
       "      <td>-0.829267</td>\n",
       "      <td>-0.766313</td>\n",
       "    </tr>\n",
       "    <tr>\n",
       "      <th>2</th>\n",
       "      <td>foo</td>\n",
       "      <td>two</td>\n",
       "      <td>-0.164164</td>\n",
       "      <td>-0.869110</td>\n",
       "    </tr>\n",
       "    <tr>\n",
       "      <th>3</th>\n",
       "      <td>bar</td>\n",
       "      <td>three</td>\n",
       "      <td>-0.497970</td>\n",
       "      <td>-2.015269</td>\n",
       "    </tr>\n",
       "    <tr>\n",
       "      <th>4</th>\n",
       "      <td>foo</td>\n",
       "      <td>two</td>\n",
       "      <td>-0.226826</td>\n",
       "      <td>0.223147</td>\n",
       "    </tr>\n",
       "    <tr>\n",
       "      <th>5</th>\n",
       "      <td>bar</td>\n",
       "      <td>two</td>\n",
       "      <td>0.615278</td>\n",
       "      <td>1.779878</td>\n",
       "    </tr>\n",
       "    <tr>\n",
       "      <th>6</th>\n",
       "      <td>foo</td>\n",
       "      <td>one</td>\n",
       "      <td>-0.474856</td>\n",
       "      <td>-0.861006</td>\n",
       "    </tr>\n",
       "    <tr>\n",
       "      <th>7</th>\n",
       "      <td>foo</td>\n",
       "      <td>three</td>\n",
       "      <td>-0.681298</td>\n",
       "      <td>0.332081</td>\n",
       "    </tr>\n",
       "  </tbody>\n",
       "</table>\n",
       "</div>"
      ],
      "text/plain": [
       "     A      B         C         D\n",
       "0  foo    one -0.437705 -1.009620\n",
       "1  bar    one -0.829267 -0.766313\n",
       "2  foo    two -0.164164 -0.869110\n",
       "3  bar  three -0.497970 -2.015269\n",
       "4  foo    two -0.226826  0.223147\n",
       "5  bar    two  0.615278  1.779878\n",
       "6  foo    one -0.474856 -0.861006\n",
       "7  foo  three -0.681298  0.332081"
      ]
     },
     "execution_count": 475,
     "metadata": {},
     "output_type": "execute_result"
    }
   ],
   "source": [
    "df = pd.DataFrame({'A': ['foo', 'bar', 'foo', 'bar',\n",
    "                         'foo', 'bar', 'foo', 'foo'],\n",
    "                   'B': ['one', 'one', 'two', 'three',\n",
    "                          'two', 'two', 'one', 'three'],\n",
    "                   'C': np.random.randn(8),\n",
    "                   'D': np.random.randn(8)})\n",
    "df"
   ]
  },
  {
   "cell_type": "code",
   "execution_count": 480,
   "id": "f6b44955",
   "metadata": {},
   "outputs": [
    {
     "data": {
      "text/html": [
       "<div>\n",
       "<style scoped>\n",
       "    .dataframe tbody tr th:only-of-type {\n",
       "        vertical-align: middle;\n",
       "    }\n",
       "\n",
       "    .dataframe tbody tr th {\n",
       "        vertical-align: top;\n",
       "    }\n",
       "\n",
       "    .dataframe thead th {\n",
       "        text-align: right;\n",
       "    }\n",
       "</style>\n",
       "<table border=\"1\" class=\"dataframe\">\n",
       "  <thead>\n",
       "    <tr style=\"text-align: right;\">\n",
       "      <th></th>\n",
       "      <th>C</th>\n",
       "      <th>D</th>\n",
       "    </tr>\n",
       "    <tr>\n",
       "      <th>A</th>\n",
       "      <th></th>\n",
       "      <th></th>\n",
       "    </tr>\n",
       "  </thead>\n",
       "  <tbody>\n",
       "    <tr>\n",
       "      <th>bar</th>\n",
       "      <td>-0.711959</td>\n",
       "      <td>-1.001704</td>\n",
       "    </tr>\n",
       "    <tr>\n",
       "      <th>foo</th>\n",
       "      <td>-1.984850</td>\n",
       "      <td>-2.184508</td>\n",
       "    </tr>\n",
       "  </tbody>\n",
       "</table>\n",
       "</div>"
      ],
      "text/plain": [
       "            C         D\n",
       "A                      \n",
       "bar -0.711959 -1.001704\n",
       "foo -1.984850 -2.184508"
      ]
     },
     "execution_count": 480,
     "metadata": {},
     "output_type": "execute_result"
    }
   ],
   "source": [
    "#先分组，再用 sum()函数计算每组的汇总数据\n",
    "df.groupby('A').sum()"
   ]
  },
  {
   "cell_type": "code",
   "execution_count": 481,
   "id": "1248419b",
   "metadata": {},
   "outputs": [
    {
     "data": {
      "text/html": [
       "<div>\n",
       "<style scoped>\n",
       "    .dataframe tbody tr th:only-of-type {\n",
       "        vertical-align: middle;\n",
       "    }\n",
       "\n",
       "    .dataframe tbody tr th {\n",
       "        vertical-align: top;\n",
       "    }\n",
       "\n",
       "    .dataframe thead th {\n",
       "        text-align: right;\n",
       "    }\n",
       "</style>\n",
       "<table border=\"1\" class=\"dataframe\">\n",
       "  <thead>\n",
       "    <tr style=\"text-align: right;\">\n",
       "      <th></th>\n",
       "      <th></th>\n",
       "      <th>C</th>\n",
       "      <th>D</th>\n",
       "    </tr>\n",
       "    <tr>\n",
       "      <th>A</th>\n",
       "      <th>B</th>\n",
       "      <th></th>\n",
       "      <th></th>\n",
       "    </tr>\n",
       "  </thead>\n",
       "  <tbody>\n",
       "    <tr>\n",
       "      <th rowspan=\"3\" valign=\"top\">bar</th>\n",
       "      <th>one</th>\n",
       "      <td>-0.829267</td>\n",
       "      <td>-0.766313</td>\n",
       "    </tr>\n",
       "    <tr>\n",
       "      <th>three</th>\n",
       "      <td>-0.497970</td>\n",
       "      <td>-2.015269</td>\n",
       "    </tr>\n",
       "    <tr>\n",
       "      <th>two</th>\n",
       "      <td>0.615278</td>\n",
       "      <td>1.779878</td>\n",
       "    </tr>\n",
       "    <tr>\n",
       "      <th rowspan=\"3\" valign=\"top\">foo</th>\n",
       "      <th>one</th>\n",
       "      <td>-0.912562</td>\n",
       "      <td>-1.870627</td>\n",
       "    </tr>\n",
       "    <tr>\n",
       "      <th>three</th>\n",
       "      <td>-0.681298</td>\n",
       "      <td>0.332081</td>\n",
       "    </tr>\n",
       "    <tr>\n",
       "      <th>two</th>\n",
       "      <td>-0.390990</td>\n",
       "      <td>-0.645963</td>\n",
       "    </tr>\n",
       "  </tbody>\n",
       "</table>\n",
       "</div>"
      ],
      "text/plain": [
       "                  C         D\n",
       "A   B                        \n",
       "bar one   -0.829267 -0.766313\n",
       "    three -0.497970 -2.015269\n",
       "    two    0.615278  1.779878\n",
       "foo one   -0.912562 -1.870627\n",
       "    three -0.681298  0.332081\n",
       "    two   -0.390990 -0.645963"
      ]
     },
     "execution_count": 481,
     "metadata": {},
     "output_type": "execute_result"
    }
   ],
   "source": [
    "#多列分组后，生成多层索引，也可以应用 sum 函数\n",
    "df.groupby(['A', 'B']).sum()"
   ]
  },
  {
   "cell_type": "markdown",
   "id": "5a682cb0",
   "metadata": {},
   "source": [
    "# 重塑"
   ]
  },
  {
   "cell_type": "markdown",
   "id": "d66ee0a6",
   "metadata": {},
   "source": [
    "## 堆叠"
   ]
  },
  {
   "cell_type": "code",
   "execution_count": 482,
   "id": "c829a8de",
   "metadata": {},
   "outputs": [
    {
     "data": {
      "text/plain": [
       "[('bar', 'one'),\n",
       " ('bar', 'two'),\n",
       " ('baz', 'one'),\n",
       " ('baz', 'two'),\n",
       " ('foo', 'one'),\n",
       " ('foo', 'two'),\n",
       " ('qux', 'one'),\n",
       " ('qux', 'two')]"
      ]
     },
     "execution_count": 482,
     "metadata": {},
     "output_type": "execute_result"
    }
   ],
   "source": [
    "tuples = list(zip(*[['bar', 'bar', 'baz', 'baz',\n",
    "                      'foo', 'foo', 'qux', 'qux'],\n",
    "                     ['one', 'two', 'one', 'two',\n",
    "                      'one', 'two', 'one', 'two']]))\n",
    "tuples"
   ]
  },
  {
   "cell_type": "code",
   "execution_count": 483,
   "id": "585f2b21",
   "metadata": {},
   "outputs": [
    {
     "data": {
      "text/html": [
       "<div>\n",
       "<style scoped>\n",
       "    .dataframe tbody tr th:only-of-type {\n",
       "        vertical-align: middle;\n",
       "    }\n",
       "\n",
       "    .dataframe tbody tr th {\n",
       "        vertical-align: top;\n",
       "    }\n",
       "\n",
       "    .dataframe thead th {\n",
       "        text-align: right;\n",
       "    }\n",
       "</style>\n",
       "<table border=\"1\" class=\"dataframe\">\n",
       "  <thead>\n",
       "    <tr style=\"text-align: right;\">\n",
       "      <th></th>\n",
       "      <th></th>\n",
       "      <th>A</th>\n",
       "      <th>B</th>\n",
       "    </tr>\n",
       "    <tr>\n",
       "      <th>first</th>\n",
       "      <th>second</th>\n",
       "      <th></th>\n",
       "      <th></th>\n",
       "    </tr>\n",
       "  </thead>\n",
       "  <tbody>\n",
       "    <tr>\n",
       "      <th rowspan=\"2\" valign=\"top\">bar</th>\n",
       "      <th>one</th>\n",
       "      <td>0.184648</td>\n",
       "      <td>-0.731468</td>\n",
       "    </tr>\n",
       "    <tr>\n",
       "      <th>two</th>\n",
       "      <td>-1.262293</td>\n",
       "      <td>0.644610</td>\n",
       "    </tr>\n",
       "    <tr>\n",
       "      <th rowspan=\"2\" valign=\"top\">baz</th>\n",
       "      <th>one</th>\n",
       "      <td>0.547978</td>\n",
       "      <td>0.660620</td>\n",
       "    </tr>\n",
       "    <tr>\n",
       "      <th>two</th>\n",
       "      <td>0.403012</td>\n",
       "      <td>0.308341</td>\n",
       "    </tr>\n",
       "  </tbody>\n",
       "</table>\n",
       "</div>"
      ],
      "text/plain": [
       "                     A         B\n",
       "first second                    \n",
       "bar   one     0.184648 -0.731468\n",
       "      two    -1.262293  0.644610\n",
       "baz   one     0.547978  0.660620\n",
       "      two     0.403012  0.308341"
      ]
     },
     "execution_count": 483,
     "metadata": {},
     "output_type": "execute_result"
    }
   ],
   "source": [
    "index = pd.MultiIndex.from_tuples(tuples, names=['first', 'second'])\n",
    "#创建了一个包含两个级别的多级索引（MultiIndex），其中第一个级别名为'first'，第二个级别名为'second'\n",
    "df = pd.DataFrame(np.random.randn(8, 2), index=index, columns=['A', 'B'])\n",
    "#然后，使用这个多级索引创建了一个DataFrame，其中包含8行和2列，列名为'A'和'B'，数据由随机数生成\n",
    "df2 = df[:4]#使用切片操作将前4行的数据赋值给了df2。\n",
    "df2"
   ]
  },
  {
   "cell_type": "code",
   "execution_count": 484,
   "id": "45a44cfc",
   "metadata": {},
   "outputs": [
    {
     "data": {
      "text/html": [
       "<div>\n",
       "<style scoped>\n",
       "    .dataframe tbody tr th:only-of-type {\n",
       "        vertical-align: middle;\n",
       "    }\n",
       "\n",
       "    .dataframe tbody tr th {\n",
       "        vertical-align: top;\n",
       "    }\n",
       "\n",
       "    .dataframe thead th {\n",
       "        text-align: right;\n",
       "    }\n",
       "</style>\n",
       "<table border=\"1\" class=\"dataframe\">\n",
       "  <thead>\n",
       "    <tr style=\"text-align: right;\">\n",
       "      <th></th>\n",
       "      <th></th>\n",
       "      <th>A</th>\n",
       "      <th>B</th>\n",
       "    </tr>\n",
       "    <tr>\n",
       "      <th>first</th>\n",
       "      <th>second</th>\n",
       "      <th></th>\n",
       "      <th></th>\n",
       "    </tr>\n",
       "  </thead>\n",
       "  <tbody>\n",
       "    <tr>\n",
       "      <th rowspan=\"2\" valign=\"top\">bar</th>\n",
       "      <th>one</th>\n",
       "      <td>0.184648</td>\n",
       "      <td>-0.731468</td>\n",
       "    </tr>\n",
       "    <tr>\n",
       "      <th>two</th>\n",
       "      <td>-1.262293</td>\n",
       "      <td>0.644610</td>\n",
       "    </tr>\n",
       "    <tr>\n",
       "      <th rowspan=\"2\" valign=\"top\">baz</th>\n",
       "      <th>one</th>\n",
       "      <td>0.547978</td>\n",
       "      <td>0.660620</td>\n",
       "    </tr>\n",
       "    <tr>\n",
       "      <th>two</th>\n",
       "      <td>0.403012</td>\n",
       "      <td>0.308341</td>\n",
       "    </tr>\n",
       "    <tr>\n",
       "      <th rowspan=\"2\" valign=\"top\">foo</th>\n",
       "      <th>one</th>\n",
       "      <td>0.780517</td>\n",
       "      <td>-0.555479</td>\n",
       "    </tr>\n",
       "    <tr>\n",
       "      <th>two</th>\n",
       "      <td>0.566229</td>\n",
       "      <td>-0.802752</td>\n",
       "    </tr>\n",
       "    <tr>\n",
       "      <th rowspan=\"2\" valign=\"top\">qux</th>\n",
       "      <th>one</th>\n",
       "      <td>0.441295</td>\n",
       "      <td>0.566414</td>\n",
       "    </tr>\n",
       "    <tr>\n",
       "      <th>two</th>\n",
       "      <td>-0.970669</td>\n",
       "      <td>0.122079</td>\n",
       "    </tr>\n",
       "  </tbody>\n",
       "</table>\n",
       "</div>"
      ],
      "text/plain": [
       "                     A         B\n",
       "first second                    \n",
       "bar   one     0.184648 -0.731468\n",
       "      two    -1.262293  0.644610\n",
       "baz   one     0.547978  0.660620\n",
       "      two     0.403012  0.308341\n",
       "foo   one     0.780517 -0.555479\n",
       "      two     0.566229 -0.802752\n",
       "qux   one     0.441295  0.566414\n",
       "      two    -0.970669  0.122079"
      ]
     },
     "execution_count": 484,
     "metadata": {},
     "output_type": "execute_result"
    }
   ],
   "source": [
    "df"
   ]
  },
  {
   "cell_type": "code",
   "execution_count": 488,
   "id": "a1e12899",
   "metadata": {},
   "outputs": [
    {
     "data": {
      "text/plain": [
       "first  second   \n",
       "bar    one     A    0.184648\n",
       "               B   -0.731468\n",
       "       two     A   -1.262293\n",
       "               B    0.644610\n",
       "baz    one     A    0.547978\n",
       "               B    0.660620\n",
       "       two     A    0.403012\n",
       "               B    0.308341\n",
       "dtype: float64"
      ]
     },
     "execution_count": 488,
     "metadata": {},
     "output_type": "execute_result"
    }
   ],
   "source": [
    "#stack()方法把 DataFrame 列压缩至一层\n",
    "stacked = df2.stack()\n",
    "stacked"
   ]
  },
  {
   "cell_type": "code",
   "execution_count": 487,
   "id": "87e332cc",
   "metadata": {},
   "outputs": [
    {
     "data": {
      "text/html": [
       "<div>\n",
       "<style scoped>\n",
       "    .dataframe tbody tr th:only-of-type {\n",
       "        vertical-align: middle;\n",
       "    }\n",
       "\n",
       "    .dataframe tbody tr th {\n",
       "        vertical-align: top;\n",
       "    }\n",
       "\n",
       "    .dataframe thead th {\n",
       "        text-align: right;\n",
       "    }\n",
       "</style>\n",
       "<table border=\"1\" class=\"dataframe\">\n",
       "  <thead>\n",
       "    <tr style=\"text-align: right;\">\n",
       "      <th></th>\n",
       "      <th></th>\n",
       "      <th>A</th>\n",
       "      <th>B</th>\n",
       "    </tr>\n",
       "    <tr>\n",
       "      <th>first</th>\n",
       "      <th>second</th>\n",
       "      <th></th>\n",
       "      <th></th>\n",
       "    </tr>\n",
       "  </thead>\n",
       "  <tbody>\n",
       "    <tr>\n",
       "      <th rowspan=\"2\" valign=\"top\">bar</th>\n",
       "      <th>one</th>\n",
       "      <td>0.184648</td>\n",
       "      <td>-0.731468</td>\n",
       "    </tr>\n",
       "    <tr>\n",
       "      <th>two</th>\n",
       "      <td>-1.262293</td>\n",
       "      <td>0.644610</td>\n",
       "    </tr>\n",
       "    <tr>\n",
       "      <th rowspan=\"2\" valign=\"top\">baz</th>\n",
       "      <th>one</th>\n",
       "      <td>0.547978</td>\n",
       "      <td>0.660620</td>\n",
       "    </tr>\n",
       "    <tr>\n",
       "      <th>two</th>\n",
       "      <td>0.403012</td>\n",
       "      <td>0.308341</td>\n",
       "    </tr>\n",
       "  </tbody>\n",
       "</table>\n",
       "</div>"
      ],
      "text/plain": [
       "                     A         B\n",
       "first second                    \n",
       "bar   one     0.184648 -0.731468\n",
       "      two    -1.262293  0.644610\n",
       "baz   one     0.547978  0.660620\n",
       "      two     0.403012  0.308341"
      ]
     },
     "execution_count": 487,
     "metadata": {},
     "output_type": "execute_result"
    }
   ],
   "source": [
    "#压缩后的 DataFrame 或 Series 具有多层索引， stack() 的逆操作是 unstack()，默认为拆叠最后一层\n",
    "#将多层索引的Series或DataFrame对象中的最内层索引转换为列\n",
    "stacked.unstack()"
   ]
  },
  {
   "cell_type": "code",
   "execution_count": 489,
   "id": "b279a961",
   "metadata": {},
   "outputs": [
    {
     "data": {
      "text/html": [
       "<div>\n",
       "<style scoped>\n",
       "    .dataframe tbody tr th:only-of-type {\n",
       "        vertical-align: middle;\n",
       "    }\n",
       "\n",
       "    .dataframe tbody tr th {\n",
       "        vertical-align: top;\n",
       "    }\n",
       "\n",
       "    .dataframe thead th {\n",
       "        text-align: right;\n",
       "    }\n",
       "</style>\n",
       "<table border=\"1\" class=\"dataframe\">\n",
       "  <thead>\n",
       "    <tr style=\"text-align: right;\">\n",
       "      <th></th>\n",
       "      <th>second</th>\n",
       "      <th>one</th>\n",
       "      <th>two</th>\n",
       "    </tr>\n",
       "    <tr>\n",
       "      <th>first</th>\n",
       "      <th></th>\n",
       "      <th></th>\n",
       "      <th></th>\n",
       "    </tr>\n",
       "  </thead>\n",
       "  <tbody>\n",
       "    <tr>\n",
       "      <th rowspan=\"2\" valign=\"top\">bar</th>\n",
       "      <th>A</th>\n",
       "      <td>0.184648</td>\n",
       "      <td>-1.262293</td>\n",
       "    </tr>\n",
       "    <tr>\n",
       "      <th>B</th>\n",
       "      <td>-0.731468</td>\n",
       "      <td>0.644610</td>\n",
       "    </tr>\n",
       "    <tr>\n",
       "      <th rowspan=\"2\" valign=\"top\">baz</th>\n",
       "      <th>A</th>\n",
       "      <td>0.547978</td>\n",
       "      <td>0.403012</td>\n",
       "    </tr>\n",
       "    <tr>\n",
       "      <th>B</th>\n",
       "      <td>0.660620</td>\n",
       "      <td>0.308341</td>\n",
       "    </tr>\n",
       "  </tbody>\n",
       "</table>\n",
       "</div>"
      ],
      "text/plain": [
       "second        one       two\n",
       "first                      \n",
       "bar   A  0.184648 -1.262293\n",
       "      B -0.731468  0.644610\n",
       "baz   A  0.547978  0.403012\n",
       "      B  0.660620  0.308341"
      ]
     },
     "execution_count": 489,
     "metadata": {},
     "output_type": "execute_result"
    }
   ],
   "source": [
    "stacked.unstack(1)"
   ]
  },
  {
   "cell_type": "code",
   "execution_count": 490,
   "id": "3e66aad5",
   "metadata": {},
   "outputs": [
    {
     "data": {
      "text/html": [
       "<div>\n",
       "<style scoped>\n",
       "    .dataframe tbody tr th:only-of-type {\n",
       "        vertical-align: middle;\n",
       "    }\n",
       "\n",
       "    .dataframe tbody tr th {\n",
       "        vertical-align: top;\n",
       "    }\n",
       "\n",
       "    .dataframe thead th {\n",
       "        text-align: right;\n",
       "    }\n",
       "</style>\n",
       "<table border=\"1\" class=\"dataframe\">\n",
       "  <thead>\n",
       "    <tr style=\"text-align: right;\">\n",
       "      <th></th>\n",
       "      <th>first</th>\n",
       "      <th>bar</th>\n",
       "      <th>baz</th>\n",
       "    </tr>\n",
       "    <tr>\n",
       "      <th>second</th>\n",
       "      <th></th>\n",
       "      <th></th>\n",
       "      <th></th>\n",
       "    </tr>\n",
       "  </thead>\n",
       "  <tbody>\n",
       "    <tr>\n",
       "      <th rowspan=\"2\" valign=\"top\">one</th>\n",
       "      <th>A</th>\n",
       "      <td>0.184648</td>\n",
       "      <td>0.547978</td>\n",
       "    </tr>\n",
       "    <tr>\n",
       "      <th>B</th>\n",
       "      <td>-0.731468</td>\n",
       "      <td>0.660620</td>\n",
       "    </tr>\n",
       "    <tr>\n",
       "      <th rowspan=\"2\" valign=\"top\">two</th>\n",
       "      <th>A</th>\n",
       "      <td>-1.262293</td>\n",
       "      <td>0.403012</td>\n",
       "    </tr>\n",
       "    <tr>\n",
       "      <th>B</th>\n",
       "      <td>0.644610</td>\n",
       "      <td>0.308341</td>\n",
       "    </tr>\n",
       "  </tbody>\n",
       "</table>\n",
       "</div>"
      ],
      "text/plain": [
       "first          bar       baz\n",
       "second                      \n",
       "one    A  0.184648  0.547978\n",
       "       B -0.731468  0.660620\n",
       "two    A -1.262293  0.403012\n",
       "       B  0.644610  0.308341"
      ]
     },
     "execution_count": 490,
     "metadata": {},
     "output_type": "execute_result"
    }
   ],
   "source": [
    "stacked.unstack(0)"
   ]
  },
  {
   "cell_type": "markdown",
   "id": "3d4ef722",
   "metadata": {},
   "source": [
    "# 数据透视表"
   ]
  },
  {
   "cell_type": "markdown",
   "id": "849f0121",
   "metadata": {},
   "source": [
    "一种数据分析工具，它可以将大量数据按照不同的维度进行汇总和分析，以便更好地理解数据。\n",
    "数据透视表通常包括行标签、列标签、值和筛选器四个部分。行标签和列标签用于分类汇总数据，值用于显示数据的统计结果，筛选器用于过滤数据。"
   ]
  },
  {
   "cell_type": "code",
   "execution_count": 491,
   "id": "39275545",
   "metadata": {},
   "outputs": [
    {
     "data": {
      "text/html": [
       "<div>\n",
       "<style scoped>\n",
       "    .dataframe tbody tr th:only-of-type {\n",
       "        vertical-align: middle;\n",
       "    }\n",
       "\n",
       "    .dataframe tbody tr th {\n",
       "        vertical-align: top;\n",
       "    }\n",
       "\n",
       "    .dataframe thead th {\n",
       "        text-align: right;\n",
       "    }\n",
       "</style>\n",
       "<table border=\"1\" class=\"dataframe\">\n",
       "  <thead>\n",
       "    <tr style=\"text-align: right;\">\n",
       "      <th></th>\n",
       "      <th>A</th>\n",
       "      <th>B</th>\n",
       "      <th>C</th>\n",
       "      <th>D</th>\n",
       "      <th>E</th>\n",
       "    </tr>\n",
       "  </thead>\n",
       "  <tbody>\n",
       "    <tr>\n",
       "      <th>0</th>\n",
       "      <td>one</td>\n",
       "      <td>A</td>\n",
       "      <td>foo</td>\n",
       "      <td>0.266053</td>\n",
       "      <td>-1.138083</td>\n",
       "    </tr>\n",
       "    <tr>\n",
       "      <th>1</th>\n",
       "      <td>one</td>\n",
       "      <td>B</td>\n",
       "      <td>foo</td>\n",
       "      <td>-0.085679</td>\n",
       "      <td>0.455088</td>\n",
       "    </tr>\n",
       "    <tr>\n",
       "      <th>2</th>\n",
       "      <td>two</td>\n",
       "      <td>C</td>\n",
       "      <td>foo</td>\n",
       "      <td>-0.495268</td>\n",
       "      <td>0.616068</td>\n",
       "    </tr>\n",
       "    <tr>\n",
       "      <th>3</th>\n",
       "      <td>three</td>\n",
       "      <td>A</td>\n",
       "      <td>bar</td>\n",
       "      <td>-0.081185</td>\n",
       "      <td>-2.796117</td>\n",
       "    </tr>\n",
       "    <tr>\n",
       "      <th>4</th>\n",
       "      <td>one</td>\n",
       "      <td>B</td>\n",
       "      <td>bar</td>\n",
       "      <td>0.657060</td>\n",
       "      <td>-0.692536</td>\n",
       "    </tr>\n",
       "    <tr>\n",
       "      <th>5</th>\n",
       "      <td>one</td>\n",
       "      <td>C</td>\n",
       "      <td>bar</td>\n",
       "      <td>-0.451964</td>\n",
       "      <td>1.176130</td>\n",
       "    </tr>\n",
       "    <tr>\n",
       "      <th>6</th>\n",
       "      <td>two</td>\n",
       "      <td>A</td>\n",
       "      <td>foo</td>\n",
       "      <td>0.424558</td>\n",
       "      <td>-0.665315</td>\n",
       "    </tr>\n",
       "    <tr>\n",
       "      <th>7</th>\n",
       "      <td>three</td>\n",
       "      <td>B</td>\n",
       "      <td>foo</td>\n",
       "      <td>-1.247134</td>\n",
       "      <td>-0.580554</td>\n",
       "    </tr>\n",
       "    <tr>\n",
       "      <th>8</th>\n",
       "      <td>one</td>\n",
       "      <td>C</td>\n",
       "      <td>foo</td>\n",
       "      <td>0.701587</td>\n",
       "      <td>0.339762</td>\n",
       "    </tr>\n",
       "    <tr>\n",
       "      <th>9</th>\n",
       "      <td>one</td>\n",
       "      <td>A</td>\n",
       "      <td>bar</td>\n",
       "      <td>-1.739617</td>\n",
       "      <td>1.656603</td>\n",
       "    </tr>\n",
       "    <tr>\n",
       "      <th>10</th>\n",
       "      <td>two</td>\n",
       "      <td>B</td>\n",
       "      <td>bar</td>\n",
       "      <td>0.166124</td>\n",
       "      <td>-0.314950</td>\n",
       "    </tr>\n",
       "    <tr>\n",
       "      <th>11</th>\n",
       "      <td>three</td>\n",
       "      <td>C</td>\n",
       "      <td>bar</td>\n",
       "      <td>-0.015958</td>\n",
       "      <td>0.373200</td>\n",
       "    </tr>\n",
       "  </tbody>\n",
       "</table>\n",
       "</div>"
      ],
      "text/plain": [
       "        A  B    C         D         E\n",
       "0     one  A  foo  0.266053 -1.138083\n",
       "1     one  B  foo -0.085679  0.455088\n",
       "2     two  C  foo -0.495268  0.616068\n",
       "3   three  A  bar -0.081185 -2.796117\n",
       "4     one  B  bar  0.657060 -0.692536\n",
       "5     one  C  bar -0.451964  1.176130\n",
       "6     two  A  foo  0.424558 -0.665315\n",
       "7   three  B  foo -1.247134 -0.580554\n",
       "8     one  C  foo  0.701587  0.339762\n",
       "9     one  A  bar -1.739617  1.656603\n",
       "10    two  B  bar  0.166124 -0.314950\n",
       "11  three  C  bar -0.015958  0.373200"
      ]
     },
     "execution_count": 491,
     "metadata": {},
     "output_type": "execute_result"
    }
   ],
   "source": [
    "df = pd.DataFrame({'A': ['one', 'one', 'two', 'three'] * 3,\n",
    "                   'B': ['A', 'B', 'C'] * 4,\n",
    "                    'C': ['foo', 'foo', 'foo', 'bar', 'bar', 'bar'] * 2,\n",
    "                    'D': np.random.randn(12),\n",
    "                    'E': np.random.randn(12)})\n",
    "df"
   ]
  },
  {
   "cell_type": "code",
   "execution_count": 492,
   "id": "3b65c4e0",
   "metadata": {},
   "outputs": [
    {
     "data": {
      "text/html": [
       "<div>\n",
       "<style scoped>\n",
       "    .dataframe tbody tr th:only-of-type {\n",
       "        vertical-align: middle;\n",
       "    }\n",
       "\n",
       "    .dataframe tbody tr th {\n",
       "        vertical-align: top;\n",
       "    }\n",
       "\n",
       "    .dataframe thead th {\n",
       "        text-align: right;\n",
       "    }\n",
       "</style>\n",
       "<table border=\"1\" class=\"dataframe\">\n",
       "  <thead>\n",
       "    <tr style=\"text-align: right;\">\n",
       "      <th></th>\n",
       "      <th>C</th>\n",
       "      <th>bar</th>\n",
       "      <th>foo</th>\n",
       "    </tr>\n",
       "    <tr>\n",
       "      <th>A</th>\n",
       "      <th>B</th>\n",
       "      <th></th>\n",
       "      <th></th>\n",
       "    </tr>\n",
       "  </thead>\n",
       "  <tbody>\n",
       "    <tr>\n",
       "      <th rowspan=\"3\" valign=\"top\">one</th>\n",
       "      <th>A</th>\n",
       "      <td>-1.739617</td>\n",
       "      <td>0.266053</td>\n",
       "    </tr>\n",
       "    <tr>\n",
       "      <th>B</th>\n",
       "      <td>0.657060</td>\n",
       "      <td>-0.085679</td>\n",
       "    </tr>\n",
       "    <tr>\n",
       "      <th>C</th>\n",
       "      <td>-0.451964</td>\n",
       "      <td>0.701587</td>\n",
       "    </tr>\n",
       "    <tr>\n",
       "      <th rowspan=\"3\" valign=\"top\">three</th>\n",
       "      <th>A</th>\n",
       "      <td>-0.081185</td>\n",
       "      <td>NaN</td>\n",
       "    </tr>\n",
       "    <tr>\n",
       "      <th>B</th>\n",
       "      <td>NaN</td>\n",
       "      <td>-1.247134</td>\n",
       "    </tr>\n",
       "    <tr>\n",
       "      <th>C</th>\n",
       "      <td>-0.015958</td>\n",
       "      <td>NaN</td>\n",
       "    </tr>\n",
       "    <tr>\n",
       "      <th rowspan=\"3\" valign=\"top\">two</th>\n",
       "      <th>A</th>\n",
       "      <td>NaN</td>\n",
       "      <td>0.424558</td>\n",
       "    </tr>\n",
       "    <tr>\n",
       "      <th>B</th>\n",
       "      <td>0.166124</td>\n",
       "      <td>NaN</td>\n",
       "    </tr>\n",
       "    <tr>\n",
       "      <th>C</th>\n",
       "      <td>NaN</td>\n",
       "      <td>-0.495268</td>\n",
       "    </tr>\n",
       "  </tbody>\n",
       "</table>\n",
       "</div>"
      ],
      "text/plain": [
       "C             bar       foo\n",
       "A     B                    \n",
       "one   A -1.739617  0.266053\n",
       "      B  0.657060 -0.085679\n",
       "      C -0.451964  0.701587\n",
       "three A -0.081185       NaN\n",
       "      B       NaN -1.247134\n",
       "      C -0.015958       NaN\n",
       "two   A       NaN  0.424558\n",
       "      B  0.166124       NaN\n",
       "      C       NaN -0.495268"
      ]
     },
     "execution_count": 492,
     "metadata": {},
     "output_type": "execute_result"
    }
   ],
   "source": [
    "#用上述数据生成数据透视表，将数据框df按照'A'和'B'列的值进行分组，并在'C'列上创建列索引，然后对'D'列的值进行聚合，生成一个透视表。透视表中的每个单元格包含了'A'和'B'列的组合、'C'列的值和'D'列的聚合结果\n",
    "pd.pivot_table(df, values='D', index=['A', 'B'], columns=['C'])"
   ]
  },
  {
   "cell_type": "markdown",
   "id": "2dee1296",
   "metadata": {},
   "source": [
    "# 时间序列"
   ]
  },
  {
   "cell_type": "markdown",
   "id": "370af6ac",
   "metadata": {},
   "source": [
    "Pandas中的时间序列数据通常是指按时间顺序排列的数据集，通常使用DatetimeIndex对象来表示。DatetimeIndex对象是一个包含日期和时间的索引，它可以用于对时间序列数据进行索引、切片、聚合等操作。"
   ]
  },
  {
   "cell_type": "code",
   "execution_count": 493,
   "id": "a0d65883",
   "metadata": {},
   "outputs": [
    {
     "data": {
      "text/plain": [
       "2012-01-01    27177\n",
       "Freq: 5T, dtype: int64"
      ]
     },
     "execution_count": 493,
     "metadata": {},
     "output_type": "execute_result"
    }
   ],
   "source": [
    "rng = pd.date_range('1/1/2012', periods=100, freq='S')\n",
    "#predios指定了时间范围内的时间点数量，这里是从2012年1月1日开始，100个时间点，即100秒后的时间点。\n",
    "#freq指定了时间点之间的间隔，这里是每秒一个时间点。\n",
    "#创建一个时间序列，从2012年1月1日开始，每秒钟生成一个时间戳，共生成100个时间戳。\n",
    "ts = pd.Series(np.random.randint(0, 500, len(rng)), index=rng)\n",
    "#创建一个Series对象，其中包含100个随机整数，这些整数的范围在0到500之间，这些整数的索引是上面生成的时间戳。\n",
    "ts.resample('5Min').sum()\n",
    "#对Series对象进行重新采样，将数据按照5分钟为一个时间段进行聚合，并对每个时间段内的数据求和。返回一个新的Series对象，其中包含了重新采样后的数据。"
   ]
  },
  {
   "cell_type": "code",
   "execution_count": 494,
   "id": "9031b99c",
   "metadata": {},
   "outputs": [
    {
     "data": {
      "text/plain": [
       "DatetimeIndex(['2012-01-01 00:00:00', '2012-01-01 00:00:01',\n",
       "               '2012-01-01 00:00:02', '2012-01-01 00:00:03',\n",
       "               '2012-01-01 00:00:04', '2012-01-01 00:00:05',\n",
       "               '2012-01-01 00:00:06', '2012-01-01 00:00:07',\n",
       "               '2012-01-01 00:00:08', '2012-01-01 00:00:09',\n",
       "               '2012-01-01 00:00:10', '2012-01-01 00:00:11',\n",
       "               '2012-01-01 00:00:12', '2012-01-01 00:00:13',\n",
       "               '2012-01-01 00:00:14', '2012-01-01 00:00:15',\n",
       "               '2012-01-01 00:00:16', '2012-01-01 00:00:17',\n",
       "               '2012-01-01 00:00:18', '2012-01-01 00:00:19',\n",
       "               '2012-01-01 00:00:20', '2012-01-01 00:00:21',\n",
       "               '2012-01-01 00:00:22', '2012-01-01 00:00:23',\n",
       "               '2012-01-01 00:00:24', '2012-01-01 00:00:25',\n",
       "               '2012-01-01 00:00:26', '2012-01-01 00:00:27',\n",
       "               '2012-01-01 00:00:28', '2012-01-01 00:00:29',\n",
       "               '2012-01-01 00:00:30', '2012-01-01 00:00:31',\n",
       "               '2012-01-01 00:00:32', '2012-01-01 00:00:33',\n",
       "               '2012-01-01 00:00:34', '2012-01-01 00:00:35',\n",
       "               '2012-01-01 00:00:36', '2012-01-01 00:00:37',\n",
       "               '2012-01-01 00:00:38', '2012-01-01 00:00:39',\n",
       "               '2012-01-01 00:00:40', '2012-01-01 00:00:41',\n",
       "               '2012-01-01 00:00:42', '2012-01-01 00:00:43',\n",
       "               '2012-01-01 00:00:44', '2012-01-01 00:00:45',\n",
       "               '2012-01-01 00:00:46', '2012-01-01 00:00:47',\n",
       "               '2012-01-01 00:00:48', '2012-01-01 00:00:49',\n",
       "               '2012-01-01 00:00:50', '2012-01-01 00:00:51',\n",
       "               '2012-01-01 00:00:52', '2012-01-01 00:00:53',\n",
       "               '2012-01-01 00:00:54', '2012-01-01 00:00:55',\n",
       "               '2012-01-01 00:00:56', '2012-01-01 00:00:57',\n",
       "               '2012-01-01 00:00:58', '2012-01-01 00:00:59',\n",
       "               '2012-01-01 00:01:00', '2012-01-01 00:01:01',\n",
       "               '2012-01-01 00:01:02', '2012-01-01 00:01:03',\n",
       "               '2012-01-01 00:01:04', '2012-01-01 00:01:05',\n",
       "               '2012-01-01 00:01:06', '2012-01-01 00:01:07',\n",
       "               '2012-01-01 00:01:08', '2012-01-01 00:01:09',\n",
       "               '2012-01-01 00:01:10', '2012-01-01 00:01:11',\n",
       "               '2012-01-01 00:01:12', '2012-01-01 00:01:13',\n",
       "               '2012-01-01 00:01:14', '2012-01-01 00:01:15',\n",
       "               '2012-01-01 00:01:16', '2012-01-01 00:01:17',\n",
       "               '2012-01-01 00:01:18', '2012-01-01 00:01:19',\n",
       "               '2012-01-01 00:01:20', '2012-01-01 00:01:21',\n",
       "               '2012-01-01 00:01:22', '2012-01-01 00:01:23',\n",
       "               '2012-01-01 00:01:24', '2012-01-01 00:01:25',\n",
       "               '2012-01-01 00:01:26', '2012-01-01 00:01:27',\n",
       "               '2012-01-01 00:01:28', '2012-01-01 00:01:29',\n",
       "               '2012-01-01 00:01:30', '2012-01-01 00:01:31',\n",
       "               '2012-01-01 00:01:32', '2012-01-01 00:01:33',\n",
       "               '2012-01-01 00:01:34', '2012-01-01 00:01:35',\n",
       "               '2012-01-01 00:01:36', '2012-01-01 00:01:37',\n",
       "               '2012-01-01 00:01:38', '2012-01-01 00:01:39'],\n",
       "              dtype='datetime64[ns]', freq='S')"
      ]
     },
     "execution_count": 494,
     "metadata": {},
     "output_type": "execute_result"
    }
   ],
   "source": [
    "rng"
   ]
  },
  {
   "cell_type": "code",
   "execution_count": 495,
   "id": "ce4e5215",
   "metadata": {},
   "outputs": [
    {
     "data": {
      "text/plain": [
       "2012-01-01 00:00:00    381\n",
       "2012-01-01 00:00:01    159\n",
       "2012-01-01 00:00:02     86\n",
       "2012-01-01 00:00:03    422\n",
       "2012-01-01 00:00:04    484\n",
       "                      ... \n",
       "2012-01-01 00:01:35    383\n",
       "2012-01-01 00:01:36    372\n",
       "2012-01-01 00:01:37      6\n",
       "2012-01-01 00:01:38      1\n",
       "2012-01-01 00:01:39    260\n",
       "Freq: S, Length: 100, dtype: int64"
      ]
     },
     "execution_count": 495,
     "metadata": {},
     "output_type": "execute_result"
    }
   ],
   "source": [
    "ts"
   ]
  },
  {
   "cell_type": "code",
   "execution_count": 497,
   "id": "6baa2d63",
   "metadata": {},
   "outputs": [
    {
     "data": {
      "text/plain": [
       "2012-03-06   -1.931034\n",
       "2012-03-07   -0.027284\n",
       "2012-03-08    0.519225\n",
       "2012-03-09    1.936307\n",
       "2012-03-10   -0.754574\n",
       "Freq: D, dtype: float64"
      ]
     },
     "execution_count": 497,
     "metadata": {},
     "output_type": "execute_result"
    }
   ],
   "source": [
    "#时区表示\n",
    "rng = pd.date_range('3/6/2012 00:00', periods=5, freq='D')\n",
    "#创建一个时间序列，从'3/6/2012 00:00'开始，包含5个时间点，每个时间点间隔1天。\n",
    "ts = pd.Series(np.random.randn(len(rng)), rng)\n",
    "#生成一个长度为rng的随机数数组，用rng作为索引，将随机数数组转换为pandas的Series对象。\n",
    "ts"
   ]
  },
  {
   "cell_type": "code",
   "execution_count": 498,
   "id": "8194214f",
   "metadata": {},
   "outputs": [
    {
     "data": {
      "text/plain": [
       "2012-03-06 00:00:00+00:00   -1.931034\n",
       "2012-03-07 00:00:00+00:00   -0.027284\n",
       "2012-03-08 00:00:00+00:00    0.519225\n",
       "2012-03-09 00:00:00+00:00    1.936307\n",
       "2012-03-10 00:00:00+00:00   -0.754574\n",
       "Freq: D, dtype: float64"
      ]
     },
     "execution_count": 498,
     "metadata": {},
     "output_type": "execute_result"
    }
   ],
   "source": [
    "ts_utc = ts.tz_localize('UTC')\n",
    "#将ts时间序列的时区设置为UTC（协调世界时），即将时间序列转换为UTC时间。\n",
    "ts_utc"
   ]
  },
  {
   "cell_type": "code",
   "execution_count": 499,
   "id": "c22dcdda",
   "metadata": {},
   "outputs": [
    {
     "data": {
      "text/plain": [
       "2012-03-05 19:00:00-05:00   -1.931034\n",
       "2012-03-06 19:00:00-05:00   -0.027284\n",
       "2012-03-07 19:00:00-05:00    0.519225\n",
       "2012-03-08 19:00:00-05:00    1.936307\n",
       "2012-03-09 19:00:00-05:00   -0.754574\n",
       "Freq: D, dtype: float64"
      ]
     },
     "execution_count": 499,
     "metadata": {},
     "output_type": "execute_result"
    }
   ],
   "source": [
    "#转换成其它时区\n",
    "ts_utc.tz_convert('US/Eastern')\n",
    "#将一个UTC时间转换为美国东部时间"
   ]
  },
  {
   "cell_type": "code",
   "execution_count": 500,
   "id": "107483a9",
   "metadata": {},
   "outputs": [
    {
     "data": {
      "text/plain": [
       "2012-01-31   -1.961276\n",
       "2012-02-29   -0.363894\n",
       "2012-03-31   -1.559153\n",
       "2012-04-30    0.359193\n",
       "2012-05-31    0.056668\n",
       "Freq: M, dtype: float64"
      ]
     },
     "execution_count": 500,
     "metadata": {},
     "output_type": "execute_result"
    }
   ],
   "source": [
    "#转换时间段\n",
    "rng = pd.date_range('1/1/2012', periods=5, freq='M')\n",
    "#创建一个时间范围对象rng，从2012年1月1日开始，包含5个月，频率为每月（'M'）\n",
    "ts = pd.Series(np.random.randn(len(rng)), index=rng)\n",
    "# 创建一个时间序列对象ts，其中包含与rng相同数量的随机数，使用rng作为索引。\n",
    "ts"
   ]
  },
  {
   "cell_type": "code",
   "execution_count": 501,
   "id": "0800a2ea",
   "metadata": {},
   "outputs": [
    {
     "data": {
      "text/plain": [
       "2012-01   -1.961276\n",
       "2012-02   -0.363894\n",
       "2012-03   -1.559153\n",
       "2012-04    0.359193\n",
       "2012-05    0.056668\n",
       "Freq: M, dtype: float64"
      ]
     },
     "execution_count": 501,
     "metadata": {},
     "output_type": "execute_result"
    }
   ],
   "source": [
    "ps = ts.to_period()\n",
    "#将ts转换为周期对象ps\n",
    "ps"
   ]
  },
  {
   "cell_type": "code",
   "execution_count": 502,
   "id": "a4691cd9",
   "metadata": {},
   "outputs": [
    {
     "data": {
      "text/plain": [
       "2012-01-01   -1.961276\n",
       "2012-02-01   -0.363894\n",
       "2012-03-01   -1.559153\n",
       "2012-04-01    0.359193\n",
       "2012-05-01    0.056668\n",
       "Freq: MS, dtype: float64"
      ]
     },
     "execution_count": 502,
     "metadata": {},
     "output_type": "execute_result"
    }
   ],
   "source": [
    "ps.to_timestamp()\n",
    "#将ps转换回时间戳对象"
   ]
  },
  {
   "cell_type": "markdown",
   "id": "c785bde3",
   "metadata": {},
   "source": [
    "Pandas 函数可以很方便地转换时间段与时间戳"
   ]
  },
  {
   "cell_type": "code",
   "execution_count": 503,
   "id": "5e80587c",
   "metadata": {},
   "outputs": [
    {
     "data": {
      "text/plain": [
       "1990-03-01 09:00   -0.089416\n",
       "1990-06-01 09:00    1.798362\n",
       "1990-09-01 09:00   -1.284090\n",
       "1990-12-01 09:00    0.001439\n",
       "1991-03-01 09:00    0.816439\n",
       "Freq: H, dtype: float64"
      ]
     },
     "execution_count": 503,
     "metadata": {},
     "output_type": "execute_result"
    }
   ],
   "source": [
    "prng = pd.period_range('1990Q1', '2000Q4', freq='Q-NOV')\n",
    "# 创建一个时间段索引，从1990年第一季度到2000年第四季度，频率为每季度，以11月为结束月份。\n",
    "ts = pd.Series(np.random.randn(len(prng)), prng)\n",
    "#创建一个随机数值的时间序列，长度与时间段索引相同。\n",
    "ts.index = (prng.asfreq('M', 'e') + 1).asfreq('H', 's') + 9\n",
    "#将时间序列的索引修改为每月最后一天加一小时再加上9小时，以表示每个季度的结束时间。\n",
    "ts.head()"
   ]
  },
  {
   "cell_type": "markdown",
   "id": "c462fb99",
   "metadata": {},
   "source": [
    "# 类别型"
   ]
  },
  {
   "cell_type": "markdown",
   "id": "d53f0dae",
   "metadata": {},
   "source": [
    "类别型（Categorical）是一种数据类型，用于表示具有有限数量的可能值的数据。类别型数据通常是字符串或数字，但是它们的值是有限的，例如性别（男/女）、颜色（红/绿/蓝）或血型（A/B/O/AB）等。Pandas中的类别型数据可以提高数据分析的效率和性能，因为它们可以使用整数来存储，而不是使用字符串。这样可以减少内存使用和计算时间，同时还可以提高数据的可读性和可视化效果。"
   ]
  },
  {
   "cell_type": "code",
   "execution_count": 513,
   "id": "944ab0c5",
   "metadata": {},
   "outputs": [
    {
     "data": {
      "text/html": [
       "<div>\n",
       "<style scoped>\n",
       "    .dataframe tbody tr th:only-of-type {\n",
       "        vertical-align: middle;\n",
       "    }\n",
       "\n",
       "    .dataframe tbody tr th {\n",
       "        vertical-align: top;\n",
       "    }\n",
       "\n",
       "    .dataframe thead th {\n",
       "        text-align: right;\n",
       "    }\n",
       "</style>\n",
       "<table border=\"1\" class=\"dataframe\">\n",
       "  <thead>\n",
       "    <tr style=\"text-align: right;\">\n",
       "      <th></th>\n",
       "      <th>id</th>\n",
       "      <th>raw_grade</th>\n",
       "    </tr>\n",
       "  </thead>\n",
       "  <tbody>\n",
       "    <tr>\n",
       "      <th>0</th>\n",
       "      <td>1</td>\n",
       "      <td>a</td>\n",
       "    </tr>\n",
       "    <tr>\n",
       "      <th>1</th>\n",
       "      <td>2</td>\n",
       "      <td>b</td>\n",
       "    </tr>\n",
       "    <tr>\n",
       "      <th>2</th>\n",
       "      <td>3</td>\n",
       "      <td>b</td>\n",
       "    </tr>\n",
       "    <tr>\n",
       "      <th>3</th>\n",
       "      <td>4</td>\n",
       "      <td>a</td>\n",
       "    </tr>\n",
       "    <tr>\n",
       "      <th>4</th>\n",
       "      <td>5</td>\n",
       "      <td>a</td>\n",
       "    </tr>\n",
       "    <tr>\n",
       "      <th>5</th>\n",
       "      <td>6</td>\n",
       "      <td>e</td>\n",
       "    </tr>\n",
       "  </tbody>\n",
       "</table>\n",
       "</div>"
      ],
      "text/plain": [
       "   id raw_grade\n",
       "0   1         a\n",
       "1   2         b\n",
       "2   3         b\n",
       "3   4         a\n",
       "4   5         a\n",
       "5   6         e"
      ]
     },
     "execution_count": 513,
     "metadata": {},
     "output_type": "execute_result"
    }
   ],
   "source": [
    "df = pd.DataFrame({\"id\": [1, 2, 3, 4, 5, 6],\n",
    "                    \"raw_grade\": ['a', 'b', 'b', 'a', 'a', 'e']})\n",
    "df"
   ]
  },
  {
   "cell_type": "code",
   "execution_count": 514,
   "id": "a327a43e",
   "metadata": {},
   "outputs": [
    {
     "data": {
      "text/plain": [
       "0    a\n",
       "1    b\n",
       "2    b\n",
       "3    a\n",
       "4    a\n",
       "5    e\n",
       "Name: grade, dtype: category\n",
       "Categories (3, object): ['a', 'b', 'e']"
      ]
     },
     "execution_count": 514,
     "metadata": {},
     "output_type": "execute_result"
    }
   ],
   "source": [
    "df[\"grade\"] = df[\"raw_grade\"].astype(\"category\")\n",
    "#将raw_grade列的数据类型转换为category类型。\n",
    "df[\"grade\"]"
   ]
  },
  {
   "cell_type": "code",
   "execution_count": 515,
   "id": "d66460e6",
   "metadata": {},
   "outputs": [],
   "source": [
    "df[\"grade\"].cat.categories = [\"very good\", \"good\", \"very bad\"]\n",
    "#将category类型的数据中的分类标签修改为\"very good\", \"good\", \"very bad\"。"
   ]
  },
  {
   "cell_type": "code",
   "execution_count": 508,
   "id": "5c80bb3d",
   "metadata": {},
   "outputs": [
    {
     "data": {
      "text/plain": [
       "0    very good\n",
       "1         good\n",
       "2         good\n",
       "3    very good\n",
       "4    very good\n",
       "5     very bad\n",
       "Name: grade, dtype: category\n",
       "Categories (5, object): ['very bad', 'bad', 'medium', 'good', 'very good']"
      ]
     },
     "execution_count": 508,
     "metadata": {},
     "output_type": "execute_result"
    }
   ],
   "source": [
    "df[\"grade\"] = df[\"grade\"].cat.set_categories([\"very bad\", \"bad\", \"medium\",\n",
    "                                               \"good\", \"very good\"])\n",
    "#将category类型的数据中的分类标签重新排序为\"very bad\", \"bad\", \"medium\", \"good\", \"very good\"。\n",
    "df[\"grade\"]"
   ]
  },
  {
   "cell_type": "code",
   "execution_count": 509,
   "id": "55959742",
   "metadata": {},
   "outputs": [
    {
     "data": {
      "text/html": [
       "<div>\n",
       "<style scoped>\n",
       "    .dataframe tbody tr th:only-of-type {\n",
       "        vertical-align: middle;\n",
       "    }\n",
       "\n",
       "    .dataframe tbody tr th {\n",
       "        vertical-align: top;\n",
       "    }\n",
       "\n",
       "    .dataframe thead th {\n",
       "        text-align: right;\n",
       "    }\n",
       "</style>\n",
       "<table border=\"1\" class=\"dataframe\">\n",
       "  <thead>\n",
       "    <tr style=\"text-align: right;\">\n",
       "      <th></th>\n",
       "      <th>id</th>\n",
       "      <th>raw_grade</th>\n",
       "      <th>grade</th>\n",
       "    </tr>\n",
       "  </thead>\n",
       "  <tbody>\n",
       "    <tr>\n",
       "      <th>5</th>\n",
       "      <td>6</td>\n",
       "      <td>e</td>\n",
       "      <td>very bad</td>\n",
       "    </tr>\n",
       "    <tr>\n",
       "      <th>1</th>\n",
       "      <td>2</td>\n",
       "      <td>b</td>\n",
       "      <td>good</td>\n",
       "    </tr>\n",
       "    <tr>\n",
       "      <th>2</th>\n",
       "      <td>3</td>\n",
       "      <td>b</td>\n",
       "      <td>good</td>\n",
       "    </tr>\n",
       "    <tr>\n",
       "      <th>0</th>\n",
       "      <td>1</td>\n",
       "      <td>a</td>\n",
       "      <td>very good</td>\n",
       "    </tr>\n",
       "    <tr>\n",
       "      <th>3</th>\n",
       "      <td>4</td>\n",
       "      <td>a</td>\n",
       "      <td>very good</td>\n",
       "    </tr>\n",
       "    <tr>\n",
       "      <th>4</th>\n",
       "      <td>5</td>\n",
       "      <td>a</td>\n",
       "      <td>very good</td>\n",
       "    </tr>\n",
       "  </tbody>\n",
       "</table>\n",
       "</div>"
      ],
      "text/plain": [
       "   id raw_grade      grade\n",
       "5   6         e   very bad\n",
       "1   2         b       good\n",
       "2   3         b       good\n",
       "0   1         a  very good\n",
       "3   4         a  very good\n",
       "4   5         a  very good"
      ]
     },
     "execution_count": 509,
     "metadata": {},
     "output_type": "execute_result"
    }
   ],
   "source": [
    "df.sort_values(by=\"grade\")#按照grade列的值进行排序。"
   ]
  },
  {
   "cell_type": "code",
   "execution_count": 510,
   "id": "95267d72",
   "metadata": {},
   "outputs": [
    {
     "data": {
      "text/plain": [
       "grade\n",
       "very bad     1\n",
       "bad          0\n",
       "medium       0\n",
       "good         2\n",
       "very good    3\n",
       "dtype: int64"
      ]
     },
     "execution_count": 510,
     "metadata": {},
     "output_type": "execute_result"
    }
   ],
   "source": [
    "df.groupby(\"grade\").size()#按照grade列的值进行分组，并统计每组的大小。"
   ]
  },
  {
   "cell_type": "markdown",
   "id": "efb88e51",
   "metadata": {},
   "source": [
    "# 数据输入/输出"
   ]
  },
  {
   "cell_type": "markdown",
   "id": "172643eb",
   "metadata": {},
   "source": [
    "## 读取CSV文件"
   ]
  },
  {
   "cell_type": "code",
   "execution_count": 526,
   "id": "51de79d1",
   "metadata": {},
   "outputs": [],
   "source": [
    "#写入CSV文件\n",
    "df.to_csv('foo.csv')"
   ]
  },
  {
   "cell_type": "code",
   "execution_count": 527,
   "id": "5ce304be",
   "metadata": {},
   "outputs": [
    {
     "data": {
      "text/html": [
       "<div>\n",
       "<style scoped>\n",
       "    .dataframe tbody tr th:only-of-type {\n",
       "        vertical-align: middle;\n",
       "    }\n",
       "\n",
       "    .dataframe tbody tr th {\n",
       "        vertical-align: top;\n",
       "    }\n",
       "\n",
       "    .dataframe thead th {\n",
       "        text-align: right;\n",
       "    }\n",
       "</style>\n",
       "<table border=\"1\" class=\"dataframe\">\n",
       "  <thead>\n",
       "    <tr style=\"text-align: right;\">\n",
       "      <th></th>\n",
       "      <th>Unnamed: 0</th>\n",
       "      <th>A</th>\n",
       "      <th>B</th>\n",
       "      <th>C</th>\n",
       "      <th>D</th>\n",
       "    </tr>\n",
       "  </thead>\n",
       "  <tbody>\n",
       "    <tr>\n",
       "      <th>0</th>\n",
       "      <td>2000-01-01</td>\n",
       "      <td>0.002323</td>\n",
       "      <td>0.467800</td>\n",
       "      <td>-0.904467</td>\n",
       "      <td>-0.276890</td>\n",
       "    </tr>\n",
       "    <tr>\n",
       "      <th>1</th>\n",
       "      <td>2000-01-02</td>\n",
       "      <td>-1.141990</td>\n",
       "      <td>-0.176003</td>\n",
       "      <td>0.183346</td>\n",
       "      <td>0.397054</td>\n",
       "    </tr>\n",
       "    <tr>\n",
       "      <th>2</th>\n",
       "      <td>2000-01-03</td>\n",
       "      <td>-0.352149</td>\n",
       "      <td>1.217163</td>\n",
       "      <td>-0.299848</td>\n",
       "      <td>0.585128</td>\n",
       "    </tr>\n",
       "    <tr>\n",
       "      <th>3</th>\n",
       "      <td>2000-01-04</td>\n",
       "      <td>-0.068176</td>\n",
       "      <td>2.208641</td>\n",
       "      <td>1.744691</td>\n",
       "      <td>-0.766616</td>\n",
       "    </tr>\n",
       "    <tr>\n",
       "      <th>4</th>\n",
       "      <td>2000-01-05</td>\n",
       "      <td>-1.130445</td>\n",
       "      <td>1.890970</td>\n",
       "      <td>2.597313</td>\n",
       "      <td>-1.936652</td>\n",
       "    </tr>\n",
       "    <tr>\n",
       "      <th>...</th>\n",
       "      <td>...</td>\n",
       "      <td>...</td>\n",
       "      <td>...</td>\n",
       "      <td>...</td>\n",
       "      <td>...</td>\n",
       "    </tr>\n",
       "    <tr>\n",
       "      <th>995</th>\n",
       "      <td>2002-09-22</td>\n",
       "      <td>-21.646492</td>\n",
       "      <td>-8.781106</td>\n",
       "      <td>27.188948</td>\n",
       "      <td>9.184471</td>\n",
       "    </tr>\n",
       "    <tr>\n",
       "      <th>996</th>\n",
       "      <td>2002-09-23</td>\n",
       "      <td>-21.048951</td>\n",
       "      <td>-8.602733</td>\n",
       "      <td>26.599823</td>\n",
       "      <td>9.670182</td>\n",
       "    </tr>\n",
       "    <tr>\n",
       "      <th>997</th>\n",
       "      <td>2002-09-24</td>\n",
       "      <td>-21.993389</td>\n",
       "      <td>-9.192363</td>\n",
       "      <td>27.113115</td>\n",
       "      <td>9.823510</td>\n",
       "    </tr>\n",
       "    <tr>\n",
       "      <th>998</th>\n",
       "      <td>2002-09-25</td>\n",
       "      <td>-23.544904</td>\n",
       "      <td>-8.824221</td>\n",
       "      <td>27.743635</td>\n",
       "      <td>9.911230</td>\n",
       "    </tr>\n",
       "    <tr>\n",
       "      <th>999</th>\n",
       "      <td>2002-09-26</td>\n",
       "      <td>-23.608681</td>\n",
       "      <td>-7.989013</td>\n",
       "      <td>28.687749</td>\n",
       "      <td>8.588819</td>\n",
       "    </tr>\n",
       "  </tbody>\n",
       "</table>\n",
       "<p>1000 rows × 5 columns</p>\n",
       "</div>"
      ],
      "text/plain": [
       "     Unnamed: 0          A         B          C         D\n",
       "0    2000-01-01   0.002323  0.467800  -0.904467 -0.276890\n",
       "1    2000-01-02  -1.141990 -0.176003   0.183346  0.397054\n",
       "2    2000-01-03  -0.352149  1.217163  -0.299848  0.585128\n",
       "3    2000-01-04  -0.068176  2.208641   1.744691 -0.766616\n",
       "4    2000-01-05  -1.130445  1.890970   2.597313 -1.936652\n",
       "..          ...        ...       ...        ...       ...\n",
       "995  2002-09-22 -21.646492 -8.781106  27.188948  9.184471\n",
       "996  2002-09-23 -21.048951 -8.602733  26.599823  9.670182\n",
       "997  2002-09-24 -21.993389 -9.192363  27.113115  9.823510\n",
       "998  2002-09-25 -23.544904 -8.824221  27.743635  9.911230\n",
       "999  2002-09-26 -23.608681 -7.989013  28.687749  8.588819\n",
       "\n",
       "[1000 rows x 5 columns]"
      ]
     },
     "execution_count": 527,
     "metadata": {},
     "output_type": "execute_result"
    }
   ],
   "source": [
    "#读取\n",
    "pd.read_csv('foo.csv')"
   ]
  },
  {
   "cell_type": "markdown",
   "id": "f6d5da5f",
   "metadata": {},
   "source": [
    "## HDF5"
   ]
  },
  {
   "cell_type": "code",
   "execution_count": 528,
   "id": "7b1a9beb",
   "metadata": {},
   "outputs": [],
   "source": [
    "df.to_hdf('foo.h5', 'df')#写入"
   ]
  },
  {
   "cell_type": "code",
   "execution_count": 529,
   "id": "b6e31fd4",
   "metadata": {},
   "outputs": [
    {
     "data": {
      "text/html": [
       "<div>\n",
       "<style scoped>\n",
       "    .dataframe tbody tr th:only-of-type {\n",
       "        vertical-align: middle;\n",
       "    }\n",
       "\n",
       "    .dataframe tbody tr th {\n",
       "        vertical-align: top;\n",
       "    }\n",
       "\n",
       "    .dataframe thead th {\n",
       "        text-align: right;\n",
       "    }\n",
       "</style>\n",
       "<table border=\"1\" class=\"dataframe\">\n",
       "  <thead>\n",
       "    <tr style=\"text-align: right;\">\n",
       "      <th></th>\n",
       "      <th>A</th>\n",
       "      <th>B</th>\n",
       "      <th>C</th>\n",
       "      <th>D</th>\n",
       "    </tr>\n",
       "  </thead>\n",
       "  <tbody>\n",
       "    <tr>\n",
       "      <th>2000-01-01</th>\n",
       "      <td>0.002323</td>\n",
       "      <td>0.467800</td>\n",
       "      <td>-0.904467</td>\n",
       "      <td>-0.276890</td>\n",
       "    </tr>\n",
       "    <tr>\n",
       "      <th>2000-01-02</th>\n",
       "      <td>-1.141990</td>\n",
       "      <td>-0.176003</td>\n",
       "      <td>0.183346</td>\n",
       "      <td>0.397054</td>\n",
       "    </tr>\n",
       "    <tr>\n",
       "      <th>2000-01-03</th>\n",
       "      <td>-0.352149</td>\n",
       "      <td>1.217163</td>\n",
       "      <td>-0.299848</td>\n",
       "      <td>0.585128</td>\n",
       "    </tr>\n",
       "    <tr>\n",
       "      <th>2000-01-04</th>\n",
       "      <td>-0.068176</td>\n",
       "      <td>2.208641</td>\n",
       "      <td>1.744691</td>\n",
       "      <td>-0.766616</td>\n",
       "    </tr>\n",
       "    <tr>\n",
       "      <th>2000-01-05</th>\n",
       "      <td>-1.130445</td>\n",
       "      <td>1.890970</td>\n",
       "      <td>2.597313</td>\n",
       "      <td>-1.936652</td>\n",
       "    </tr>\n",
       "    <tr>\n",
       "      <th>...</th>\n",
       "      <td>...</td>\n",
       "      <td>...</td>\n",
       "      <td>...</td>\n",
       "      <td>...</td>\n",
       "    </tr>\n",
       "    <tr>\n",
       "      <th>2002-09-22</th>\n",
       "      <td>-21.646492</td>\n",
       "      <td>-8.781106</td>\n",
       "      <td>27.188948</td>\n",
       "      <td>9.184471</td>\n",
       "    </tr>\n",
       "    <tr>\n",
       "      <th>2002-09-23</th>\n",
       "      <td>-21.048951</td>\n",
       "      <td>-8.602733</td>\n",
       "      <td>26.599823</td>\n",
       "      <td>9.670182</td>\n",
       "    </tr>\n",
       "    <tr>\n",
       "      <th>2002-09-24</th>\n",
       "      <td>-21.993389</td>\n",
       "      <td>-9.192363</td>\n",
       "      <td>27.113115</td>\n",
       "      <td>9.823510</td>\n",
       "    </tr>\n",
       "    <tr>\n",
       "      <th>2002-09-25</th>\n",
       "      <td>-23.544904</td>\n",
       "      <td>-8.824221</td>\n",
       "      <td>27.743635</td>\n",
       "      <td>9.911230</td>\n",
       "    </tr>\n",
       "    <tr>\n",
       "      <th>2002-09-26</th>\n",
       "      <td>-23.608681</td>\n",
       "      <td>-7.989013</td>\n",
       "      <td>28.687749</td>\n",
       "      <td>8.588819</td>\n",
       "    </tr>\n",
       "  </tbody>\n",
       "</table>\n",
       "<p>1000 rows × 4 columns</p>\n",
       "</div>"
      ],
      "text/plain": [
       "                    A         B          C         D\n",
       "2000-01-01   0.002323  0.467800  -0.904467 -0.276890\n",
       "2000-01-02  -1.141990 -0.176003   0.183346  0.397054\n",
       "2000-01-03  -0.352149  1.217163  -0.299848  0.585128\n",
       "2000-01-04  -0.068176  2.208641   1.744691 -0.766616\n",
       "2000-01-05  -1.130445  1.890970   2.597313 -1.936652\n",
       "...               ...       ...        ...       ...\n",
       "2002-09-22 -21.646492 -8.781106  27.188948  9.184471\n",
       "2002-09-23 -21.048951 -8.602733  26.599823  9.670182\n",
       "2002-09-24 -21.993389 -9.192363  27.113115  9.823510\n",
       "2002-09-25 -23.544904 -8.824221  27.743635  9.911230\n",
       "2002-09-26 -23.608681 -7.989013  28.687749  8.588819\n",
       "\n",
       "[1000 rows x 4 columns]"
      ]
     },
     "execution_count": 529,
     "metadata": {},
     "output_type": "execute_result"
    }
   ],
   "source": [
    "pd.read_hdf('foo.h5', 'df')#读取"
   ]
  },
  {
   "cell_type": "markdown",
   "id": "e18d774b",
   "metadata": {},
   "source": [
    "## Excel"
   ]
  },
  {
   "cell_type": "code",
   "execution_count": 530,
   "id": "ed5b6b47",
   "metadata": {},
   "outputs": [],
   "source": [
    "df.to_excel('foo.xlsx', sheet_name='Sheet1')#写入"
   ]
  },
  {
   "cell_type": "code",
   "execution_count": 531,
   "id": "4f94fed4",
   "metadata": {},
   "outputs": [
    {
     "data": {
      "text/html": [
       "<div>\n",
       "<style scoped>\n",
       "    .dataframe tbody tr th:only-of-type {\n",
       "        vertical-align: middle;\n",
       "    }\n",
       "\n",
       "    .dataframe tbody tr th {\n",
       "        vertical-align: top;\n",
       "    }\n",
       "\n",
       "    .dataframe thead th {\n",
       "        text-align: right;\n",
       "    }\n",
       "</style>\n",
       "<table border=\"1\" class=\"dataframe\">\n",
       "  <thead>\n",
       "    <tr style=\"text-align: right;\">\n",
       "      <th></th>\n",
       "      <th>Unnamed: 0</th>\n",
       "      <th>A</th>\n",
       "      <th>B</th>\n",
       "      <th>C</th>\n",
       "      <th>D</th>\n",
       "    </tr>\n",
       "  </thead>\n",
       "  <tbody>\n",
       "    <tr>\n",
       "      <th>0</th>\n",
       "      <td>2000-01-01</td>\n",
       "      <td>0.002323</td>\n",
       "      <td>0.467800</td>\n",
       "      <td>-0.904467</td>\n",
       "      <td>-0.276890</td>\n",
       "    </tr>\n",
       "    <tr>\n",
       "      <th>1</th>\n",
       "      <td>2000-01-02</td>\n",
       "      <td>-1.141990</td>\n",
       "      <td>-0.176003</td>\n",
       "      <td>0.183346</td>\n",
       "      <td>0.397054</td>\n",
       "    </tr>\n",
       "    <tr>\n",
       "      <th>2</th>\n",
       "      <td>2000-01-03</td>\n",
       "      <td>-0.352149</td>\n",
       "      <td>1.217163</td>\n",
       "      <td>-0.299848</td>\n",
       "      <td>0.585128</td>\n",
       "    </tr>\n",
       "    <tr>\n",
       "      <th>3</th>\n",
       "      <td>2000-01-04</td>\n",
       "      <td>-0.068176</td>\n",
       "      <td>2.208641</td>\n",
       "      <td>1.744691</td>\n",
       "      <td>-0.766616</td>\n",
       "    </tr>\n",
       "    <tr>\n",
       "      <th>4</th>\n",
       "      <td>2000-01-05</td>\n",
       "      <td>-1.130445</td>\n",
       "      <td>1.890970</td>\n",
       "      <td>2.597313</td>\n",
       "      <td>-1.936652</td>\n",
       "    </tr>\n",
       "    <tr>\n",
       "      <th>...</th>\n",
       "      <td>...</td>\n",
       "      <td>...</td>\n",
       "      <td>...</td>\n",
       "      <td>...</td>\n",
       "      <td>...</td>\n",
       "    </tr>\n",
       "    <tr>\n",
       "      <th>995</th>\n",
       "      <td>2002-09-22</td>\n",
       "      <td>-21.646492</td>\n",
       "      <td>-8.781106</td>\n",
       "      <td>27.188948</td>\n",
       "      <td>9.184471</td>\n",
       "    </tr>\n",
       "    <tr>\n",
       "      <th>996</th>\n",
       "      <td>2002-09-23</td>\n",
       "      <td>-21.048951</td>\n",
       "      <td>-8.602733</td>\n",
       "      <td>26.599823</td>\n",
       "      <td>9.670182</td>\n",
       "    </tr>\n",
       "    <tr>\n",
       "      <th>997</th>\n",
       "      <td>2002-09-24</td>\n",
       "      <td>-21.993389</td>\n",
       "      <td>-9.192363</td>\n",
       "      <td>27.113115</td>\n",
       "      <td>9.823510</td>\n",
       "    </tr>\n",
       "    <tr>\n",
       "      <th>998</th>\n",
       "      <td>2002-09-25</td>\n",
       "      <td>-23.544904</td>\n",
       "      <td>-8.824221</td>\n",
       "      <td>27.743635</td>\n",
       "      <td>9.911230</td>\n",
       "    </tr>\n",
       "    <tr>\n",
       "      <th>999</th>\n",
       "      <td>2002-09-26</td>\n",
       "      <td>-23.608681</td>\n",
       "      <td>-7.989013</td>\n",
       "      <td>28.687749</td>\n",
       "      <td>8.588819</td>\n",
       "    </tr>\n",
       "  </tbody>\n",
       "</table>\n",
       "<p>1000 rows × 5 columns</p>\n",
       "</div>"
      ],
      "text/plain": [
       "    Unnamed: 0          A         B          C         D\n",
       "0   2000-01-01   0.002323  0.467800  -0.904467 -0.276890\n",
       "1   2000-01-02  -1.141990 -0.176003   0.183346  0.397054\n",
       "2   2000-01-03  -0.352149  1.217163  -0.299848  0.585128\n",
       "3   2000-01-04  -0.068176  2.208641   1.744691 -0.766616\n",
       "4   2000-01-05  -1.130445  1.890970   2.597313 -1.936652\n",
       "..         ...        ...       ...        ...       ...\n",
       "995 2002-09-22 -21.646492 -8.781106  27.188948  9.184471\n",
       "996 2002-09-23 -21.048951 -8.602733  26.599823  9.670182\n",
       "997 2002-09-24 -21.993389 -9.192363  27.113115  9.823510\n",
       "998 2002-09-25 -23.544904 -8.824221  27.743635  9.911230\n",
       "999 2002-09-26 -23.608681 -7.989013  28.687749  8.588819\n",
       "\n",
       "[1000 rows x 5 columns]"
      ]
     },
     "execution_count": 531,
     "metadata": {},
     "output_type": "execute_result"
    }
   ],
   "source": [
    "pd.read_excel('foo.xlsx', 'Sheet1', index_col=None, na_values=['NA'])#读取"
   ]
  },
  {
   "cell_type": "code",
   "execution_count": null,
   "id": "a1cd2e0a",
   "metadata": {},
   "outputs": [],
   "source": []
  }
 ],
 "metadata": {
  "kernelspec": {
   "display_name": "Python 3 (ipykernel)",
   "language": "python",
   "name": "python3"
  },
  "language_info": {
   "codemirror_mode": {
    "name": "ipython",
    "version": 3
   },
   "file_extension": ".py",
   "mimetype": "text/x-python",
   "name": "python",
   "nbconvert_exporter": "python",
   "pygments_lexer": "ipython3",
   "version": "3.9.13"
  }
 },
 "nbformat": 4,
 "nbformat_minor": 5
}

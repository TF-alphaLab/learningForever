{
 "cells": [
  {
   "cell_type": "markdown",
   "id": "cab51fc9",
   "metadata": {},
   "source": [
    "NumPy的主要对象是同构多维数组。\n",
    "\n",
    "今天涉及\n",
    "\n",
    "1. 多维数组对象ndarray，它是一个快速而灵活的容器，可以容纳大量的数据，支持各种数学运算。\n",
    "\n",
    "2. 用于数组操作的函数和方法，包括形状操作、基本线性代数等。\n",
    "\n",
    "3. 用于数组操作的广播功能，可以在不同大小的数组之间进行算术运算。"
   ]
  },
  {
   "cell_type": "code",
   "execution_count": 2,
   "id": "e90a3cba",
   "metadata": {},
   "outputs": [],
   "source": [
    "import numpy as np"
   ]
  },
  {
   "cell_type": "code",
   "execution_count": 18,
   "id": "566673a7",
   "metadata": {},
   "outputs": [
    {
     "name": "stdout",
     "output_type": "stream",
     "text": [
      "[[ 0  1  2  3  4]\n",
      " [ 5  6  7  8  9]\n",
      " [10 11 12 13 14]]\n",
      "2\n",
      "(3, 5)\n",
      "15\n",
      "int64\n",
      "8\n",
      "8\n",
      "<class 'numpy.ndarray'>\n",
      "<memory at 0x7feb689481e0>\n",
      "<class 'numpy.ndarray'> float64\n"
     ]
    }
   ],
   "source": [
    "a=np.arange(15).reshape(3,5)#arange生成一维数组，reshape将一维数组转换成3行5列的二维数组\n",
    "print(a)\n",
    "print(a.ndim)#数组的轴（维度）的个数。在Python世界中，维度的数量被称为rank\n",
    "print(a.shape)#数组的维度。表示每个维度中数组的大小。对于有 n 行和 m 列的矩阵，shape 将是 (n,m)。因此，shape 元组的长度就是rank或维度的个数 ndim。\n",
    "print(a.size)#数组元素的总数。这等于 shape 的元素的乘积。\n",
    "print(a.dtype)#数组中元素类型的对象。\n",
    "print(a.itemsize)#数组中每个元素的字节大小。ndarray.itemsize=ndarray.dtype.itemsize.一个字节占8位二进制，int64表示一个整型数占64位\n",
    "print(a.dtype.itemsize)\n",
    "print(type(a))#获取数据类型\n",
    "print(a.data)\n",
    "b=a.astype(float)#修改数据类型\n",
    "print(type(b),b.dtype)"
   ]
  },
  {
   "cell_type": "markdown",
   "id": "566cc2da",
   "metadata": {},
   "source": [
    "# 数组创建"
   ]
  },
  {
   "cell_type": "markdown",
   "id": "a28024e1",
   "metadata": {},
   "source": [
    "可以使用array函数从常规Python列表或元组中创建数组。得到的数组的类型是从Python列表中元素的类型推导出来的。"
   ]
  },
  {
   "cell_type": "code",
   "execution_count": 20,
   "id": "173a4cd9",
   "metadata": {},
   "outputs": [
    {
     "name": "stdout",
     "output_type": "stream",
     "text": [
      "[2 3 4]\n",
      "int64\n",
      "[1.2 3.5 5.1]\n",
      "float64\n"
     ]
    }
   ],
   "source": [
    "a = np.array([2,3,4])\n",
    "print(a)\n",
    "print(a.dtype)\n",
    "b = np.array([1.2, 3.5, 5.1])\n",
    "print(b)\n",
    "print(b.dtype)"
   ]
  },
  {
   "cell_type": "markdown",
   "id": "37155c43",
   "metadata": {},
   "source": [
    "一个常见的错误，就是调用array的时候传入多个数字参数，而不是提供单个数字的列表类型作为参数。"
   ]
  },
  {
   "cell_type": "code",
   "execution_count": 21,
   "id": "7652b01f",
   "metadata": {},
   "outputs": [
    {
     "ename": "TypeError",
     "evalue": "array() takes from 1 to 2 positional arguments but 4 were given",
     "output_type": "error",
     "traceback": [
      "\u001b[0;31m---------------------------------------------------------------------------\u001b[0m",
      "\u001b[0;31mTypeError\u001b[0m                                 Traceback (most recent call last)",
      "\u001b[0;32m/var/folders/vm/h5dhfh1x1q1b3l5nx_pwlbl00000gn/T/ipykernel_14388/2948433655.py\u001b[0m in \u001b[0;36m<module>\u001b[0;34m\u001b[0m\n\u001b[0;32m----> 1\u001b[0;31m \u001b[0ma\u001b[0m \u001b[0;34m=\u001b[0m \u001b[0mnp\u001b[0m\u001b[0;34m.\u001b[0m\u001b[0marray\u001b[0m\u001b[0;34m(\u001b[0m\u001b[0;36m1\u001b[0m\u001b[0;34m,\u001b[0m\u001b[0;36m2\u001b[0m\u001b[0;34m,\u001b[0m\u001b[0;36m3\u001b[0m\u001b[0;34m,\u001b[0m\u001b[0;36m4\u001b[0m\u001b[0;34m)\u001b[0m\u001b[0;34m\u001b[0m\u001b[0;34m\u001b[0m\u001b[0m\n\u001b[0m\u001b[1;32m      2\u001b[0m \u001b[0ma\u001b[0m\u001b[0;34m\u001b[0m\u001b[0;34m\u001b[0m\u001b[0m\n",
      "\u001b[0;31mTypeError\u001b[0m: array() takes from 1 to 2 positional arguments but 4 were given"
     ]
    }
   ],
   "source": [
    "a = np.array(1,2,3,4)\n",
    "a"
   ]
  },
  {
   "cell_type": "code",
   "execution_count": 23,
   "id": "ef8bb984",
   "metadata": {},
   "outputs": [
    {
     "data": {
      "text/plain": [
       "dtype('int64')"
      ]
     },
     "execution_count": 23,
     "metadata": {},
     "output_type": "execute_result"
    }
   ],
   "source": [
    "a = np.array([1,2,3,4])\n",
    "a"
   ]
  },
  {
   "cell_type": "code",
   "execution_count": 24,
   "id": "e53f3fea",
   "metadata": {},
   "outputs": [
    {
     "data": {
      "text/plain": [
       "array([[1.+0.j, 2.+0.j],\n",
       "       [3.+0.j, 4.+0.j]])"
      ]
     },
     "execution_count": 24,
     "metadata": {},
     "output_type": "execute_result"
    }
   ],
   "source": [
    "#可以在创建时显式指定数组的类型\n",
    "b= np.array( [ [1,2], [3,4] ], dtype=complex)#complex复数类型\n",
    "b"
   ]
  },
  {
   "cell_type": "code",
   "execution_count": 28,
   "id": "4fbb1a8b",
   "metadata": {},
   "outputs": [
    {
     "name": "stdout",
     "output_type": "stream",
     "text": [
      "float64\n",
      "[[1.5 2.  3. ]\n",
      " [4.  5.  6. ]]\n"
     ]
    }
   ],
   "source": [
    "c= np.array([(1.5,2,3), (4,5,6)])\n",
    "print(c.dtype)\n",
    "print(c)"
   ]
  },
  {
   "cell_type": "markdown",
   "id": "d67ce3ee",
   "metadata": {},
   "source": [
    "通常，数组的元素最初是未知的，但它的大小是已知的。因此，NumPy提供了几个函数来创建具有初始占位符内容的数组。这就减少了数组增长的必要."
   ]
  },
  {
   "cell_type": "code",
   "execution_count": 29,
   "id": "a3b65d48",
   "metadata": {},
   "outputs": [
    {
     "data": {
      "text/plain": [
       "array([[0., 0., 0., 0.],\n",
       "       [0., 0., 0., 0.],\n",
       "       [0., 0., 0., 0.]])"
      ]
     },
     "execution_count": 29,
     "metadata": {},
     "output_type": "execute_result"
    }
   ],
   "source": [
    "np.zeros( (3,4) )#函数zeros创建一个由0组成的数组"
   ]
  },
  {
   "cell_type": "code",
   "execution_count": 30,
   "id": "b9bc3a0b",
   "metadata": {},
   "outputs": [
    {
     "data": {
      "text/plain": [
       "array([[[1, 1, 1, 1],\n",
       "        [1, 1, 1, 1],\n",
       "        [1, 1, 1, 1]],\n",
       "\n",
       "       [[1, 1, 1, 1],\n",
       "        [1, 1, 1, 1],\n",
       "        [1, 1, 1, 1]]], dtype=int16)"
      ]
     },
     "execution_count": 30,
     "metadata": {},
     "output_type": "execute_result"
    }
   ],
   "source": [
    "np.ones( (2,3,4), dtype=np.int16 )#函数 ones创建一个由1组成的数组"
   ]
  },
  {
   "cell_type": "code",
   "execution_count": 31,
   "id": "20dfc768",
   "metadata": {},
   "outputs": [
    {
     "data": {
      "text/plain": [
       "array([[1.5, 2. , 3. ],\n",
       "       [4. , 5. , 6. ]])"
      ]
     },
     "execution_count": 31,
     "metadata": {},
     "output_type": "execute_result"
    }
   ],
   "source": [
    "np.empty( (2,3) )\n",
    "#函数empty 创建一个数组，其初始内容是随机的，取决于内存的状态。默认情况下，创建的数组的dtype是 float64 类型的。"
   ]
  },
  {
   "cell_type": "markdown",
   "id": "f9461c50",
   "metadata": {},
   "source": [
    "为了创建数字组成的数组，NumPy提供了一个类似于range的函数，arange,该函数返回数组而不是列表。"
   ]
  },
  {
   "cell_type": "code",
   "execution_count": 32,
   "id": "84549f9b",
   "metadata": {},
   "outputs": [
    {
     "data": {
      "text/plain": [
       "array([10, 15, 20, 25])"
      ]
     },
     "execution_count": 32,
     "metadata": {},
     "output_type": "execute_result"
    }
   ],
   "source": [
    "np.arange( 10, 30, 5 )"
   ]
  },
  {
   "cell_type": "code",
   "execution_count": 41,
   "id": "7aa6cce7",
   "metadata": {},
   "outputs": [
    {
     "data": {
      "text/plain": [
       "array([0. , 0.3, 0.6, 0.9, 1.2, 1.5, 1.8])"
      ]
     },
     "execution_count": 41,
     "metadata": {},
     "output_type": "execute_result"
    }
   ],
   "source": [
    "np.arange( 0, 2, 0.3) "
   ]
  },
  {
   "cell_type": "code",
   "execution_count": 319,
   "id": "f3e069a5",
   "metadata": {},
   "outputs": [
    {
     "data": {
      "text/plain": [
       "array([0.  , 0.25, 0.5 , 0.75, 1.  , 1.25, 1.5 , 1.75, 2.  ])"
      ]
     },
     "execution_count": 319,
     "metadata": {},
     "output_type": "execute_result"
    }
   ],
   "source": [
    "#使用linspace函数来接收想要的元素数量的函数，而不是步长（step）\n",
    "from numpy import pi#pi=3.141592653589793\n",
    "np.linspace( 0, 2, 9 )\n",
    "#linespace函数用来创建等差数列"
   ]
  },
  {
   "cell_type": "markdown",
   "id": "e6b91945",
   "metadata": {},
   "source": [
    "numpy.linspace(start, stop, num=50, endpoint=True, retstep=False, dtype=None, axis=0)\n",
    "start：样本数据开始点。\n",
    "\n",
    "stop：样本数据结束点。\n",
    "\n",
    "num：生成的样本数据量，默认为50。\n",
    "\n",
    "endpoint：默认为True，包含stop；若为False，则不包含stop。\n",
    "\n",
    "retstep：默认为False。若为True，则结果会给出数据间隔，array([])变成了(array([]),step)\n",
    "\n",
    "其中sample的数据类型是numpy.ndarray，step的数据类型是float\n",
    "\n",
    "dtype：输出数组类型，可以选择输出的数组是整型还是浮点型或者布尔型。\n",
    "\n",
    "axis：默认为0。可以选择-1"
   ]
  },
  {
   "cell_type": "code",
   "execution_count": 47,
   "id": "acb2e632",
   "metadata": {},
   "outputs": [
    {
     "name": "stdout",
     "output_type": "stream",
     "text": [
      "[0.         0.06346652 0.12693304 0.19039955 0.25386607 0.31733259\n",
      " 0.38079911 0.44426563 0.50773215 0.57119866 0.63466518 0.6981317\n",
      " 0.76159822 0.82506474 0.88853126 0.95199777 1.01546429 1.07893081\n",
      " 1.14239733 1.20586385 1.26933037 1.33279688 1.3962634  1.45972992\n",
      " 1.52319644 1.58666296 1.65012947 1.71359599 1.77706251 1.84052903\n",
      " 1.90399555 1.96746207 2.03092858 2.0943951  2.15786162 2.22132814\n",
      " 2.28479466 2.34826118 2.41172769 2.47519421 2.53866073 2.60212725\n",
      " 2.66559377 2.72906028 2.7925268  2.85599332 2.91945984 2.98292636\n",
      " 3.04639288 3.10985939 3.17332591 3.23679243 3.30025895 3.36372547\n",
      " 3.42719199 3.4906585  3.55412502 3.61759154 3.68105806 3.74452458\n",
      " 3.8079911  3.87145761 3.93492413 3.99839065 4.06185717 4.12532369\n",
      " 4.1887902  4.25225672 4.31572324 4.37918976 4.44265628 4.5061228\n",
      " 4.56958931 4.63305583 4.69652235 4.75998887 4.82345539 4.88692191\n",
      " 4.95038842 5.01385494 5.07732146 5.14078798 5.2042545  5.26772102\n",
      " 5.33118753 5.39465405 5.45812057 5.52158709 5.58505361 5.64852012\n",
      " 5.71198664 5.77545316 5.83891968 5.9023862  5.96585272 6.02931923\n",
      " 6.09278575 6.15625227 6.21971879 6.28318531]\n",
      "[ 0.00000000e+00  6.34239197e-02  1.26592454e-01  1.89251244e-01\n",
      "  2.51147987e-01  3.12033446e-01  3.71662456e-01  4.29794912e-01\n",
      "  4.86196736e-01  5.40640817e-01  5.92907929e-01  6.42787610e-01\n",
      "  6.90079011e-01  7.34591709e-01  7.76146464e-01  8.14575952e-01\n",
      "  8.49725430e-01  8.81453363e-01  9.09631995e-01  9.34147860e-01\n",
      "  9.54902241e-01  9.71811568e-01  9.84807753e-01  9.93838464e-01\n",
      "  9.98867339e-01  9.99874128e-01  9.96854776e-01  9.89821442e-01\n",
      "  9.78802446e-01  9.63842159e-01  9.45000819e-01  9.22354294e-01\n",
      "  8.95993774e-01  8.66025404e-01  8.32569855e-01  7.95761841e-01\n",
      "  7.55749574e-01  7.12694171e-01  6.66769001e-01  6.18158986e-01\n",
      "  5.67059864e-01  5.13677392e-01  4.58226522e-01  4.00930535e-01\n",
      "  3.42020143e-01  2.81732557e-01  2.20310533e-01  1.58001396e-01\n",
      "  9.50560433e-02  3.17279335e-02 -3.17279335e-02 -9.50560433e-02\n",
      " -1.58001396e-01 -2.20310533e-01 -2.81732557e-01 -3.42020143e-01\n",
      " -4.00930535e-01 -4.58226522e-01 -5.13677392e-01 -5.67059864e-01\n",
      " -6.18158986e-01 -6.66769001e-01 -7.12694171e-01 -7.55749574e-01\n",
      " -7.95761841e-01 -8.32569855e-01 -8.66025404e-01 -8.95993774e-01\n",
      " -9.22354294e-01 -9.45000819e-01 -9.63842159e-01 -9.78802446e-01\n",
      " -9.89821442e-01 -9.96854776e-01 -9.99874128e-01 -9.98867339e-01\n",
      " -9.93838464e-01 -9.84807753e-01 -9.71811568e-01 -9.54902241e-01\n",
      " -9.34147860e-01 -9.09631995e-01 -8.81453363e-01 -8.49725430e-01\n",
      " -8.14575952e-01 -7.76146464e-01 -7.34591709e-01 -6.90079011e-01\n",
      " -6.42787610e-01 -5.92907929e-01 -5.40640817e-01 -4.86196736e-01\n",
      " -4.29794912e-01 -3.71662456e-01 -3.12033446e-01 -2.51147987e-01\n",
      " -1.89251244e-01 -1.26592454e-01 -6.34239197e-02 -2.44929360e-16]\n"
     ]
    }
   ],
   "source": [
    "x = np.linspace( 0, 2*pi, 100 )\n",
    "f = np.sin(x)\n",
    "print(x)\n",
    "print(f)"
   ]
  },
  {
   "cell_type": "markdown",
   "id": "cdfa1e3e",
   "metadata": {},
   "source": [
    "# 打印数组"
   ]
  },
  {
   "cell_type": "markdown",
   "id": "c27a2597",
   "metadata": {},
   "source": [
    "打印数组时，NumPy以与嵌套列表类似的方式显示它，但具有以下布局：\n",
    "\n",
    "最后一个轴从左到右打印，\n",
    "倒数第二个从上到下打印，\n",
    "其余部分也从上到下打印，每个切片用空行分隔。\n",
    "然后将一维数组打印为行，将二维数据打印为矩阵，将三维数据打印为矩数组表。"
   ]
  },
  {
   "cell_type": "code",
   "execution_count": 53,
   "id": "35a71431",
   "metadata": {},
   "outputs": [
    {
     "name": "stdout",
     "output_type": "stream",
     "text": [
      "[[[ 0  1  2  3]\n",
      "  [ 4  5  6  7]\n",
      "  [ 8  9 10 11]]\n",
      "\n",
      " [[12 13 14 15]\n",
      "  [16 17 18 19]\n",
      "  [20 21 22 23]]]\n"
     ]
    }
   ],
   "source": [
    "c = np.arange(24).reshape(2,3,4)\n",
    "print(c)"
   ]
  },
  {
   "cell_type": "code",
   "execution_count": 63,
   "id": "beb5c89f",
   "metadata": {},
   "outputs": [
    {
     "name": "stdout",
     "output_type": "stream",
     "text": [
      "[20 30 40 50]\n",
      "[ True  True False False]\n",
      "[0 1 2 3]\n",
      "[20 29 38 47]\n"
     ]
    }
   ],
   "source": [
    "a = np.array( [20,30,40,50] )\n",
    "b = np.arange( 4 )\n",
    "c=a-b\n",
    "print(a)\n",
    "print(a<35)\n",
    "print(b)\n",
    "print(c)"
   ]
  },
  {
   "cell_type": "markdown",
   "id": "0c4ac6d0",
   "metadata": {},
   "source": [
    "乘积运算符*在NumPy数组中按元素进行运算。矩阵乘积可以使用@运算符（在python> = 3.5中）或dot函数执行"
   ]
  },
  {
   "cell_type": "code",
   "execution_count": 81,
   "id": "8ca79b92",
   "metadata": {},
   "outputs": [
    {
     "name": "stdout",
     "output_type": "stream",
     "text": [
      "[[2 0]\n",
      " [0 4]]\n",
      "[[5 4]\n",
      " [3 4]]\n",
      "[[5 4]\n",
      " [3 4]]\n",
      "[[2 2]\n",
      " [3 7]]\n"
     ]
    }
   ],
   "source": [
    "A = np.array( [[1,1],\n",
    "                [0,1]] )\n",
    "B = np.array( [[2,0],\n",
    "                [3,4]] )\n",
    "print(A*B)\n",
    "print(A@B)\n",
    "print(A.dot(B))\n",
    "print(B.dot(A))"
   ]
  },
  {
   "cell_type": "markdown",
   "id": "cfb14d50",
   "metadata": {},
   "source": [
    "某些操作（例如+=和 *=）会更直接更改被操作的矩阵数组而不会创建新矩阵数组"
   ]
  },
  {
   "cell_type": "code",
   "execution_count": 78,
   "id": "bfe14250",
   "metadata": {},
   "outputs": [
    {
     "name": "stdout",
     "output_type": "stream",
     "text": [
      "[[1 1 1]\n",
      " [1 1 1]]\n",
      "[[0.90134371 0.93039085 0.89850082]\n",
      " [0.15823554 0.67180624 0.14166985]]\n"
     ]
    }
   ],
   "source": [
    "a = np.ones((2,3),dtype=int)\n",
    "b = np.random.random((2,3))#np.random.random()函数,生成2行3列的浮点数，浮点数从0-1中随机\n",
    "print(a)\n",
    "print(b)"
   ]
  },
  {
   "cell_type": "code",
   "execution_count": 79,
   "id": "4b8aa1be",
   "metadata": {},
   "outputs": [
    {
     "data": {
      "text/plain": [
       "array([[3, 3, 3],\n",
       "       [3, 3, 3]])"
      ]
     },
     "execution_count": 79,
     "metadata": {},
     "output_type": "execute_result"
    }
   ],
   "source": [
    "a*=3#再次运行则在乘以3\n",
    "a"
   ]
  },
  {
   "cell_type": "code",
   "execution_count": 80,
   "id": "d0847456",
   "metadata": {},
   "outputs": [
    {
     "data": {
      "text/plain": [
       "array([[3.90134371, 3.93039085, 3.89850082],\n",
       "       [3.15823554, 3.67180624, 3.14166985]])"
      ]
     },
     "execution_count": 80,
     "metadata": {},
     "output_type": "execute_result"
    }
   ],
   "source": [
    "b+=a\n",
    "b"
   ]
  },
  {
   "cell_type": "code",
   "execution_count": 82,
   "id": "f9c587aa",
   "metadata": {},
   "outputs": [
    {
     "ename": "UFuncTypeError",
     "evalue": "Cannot cast ufunc 'add' output from dtype('float64') to dtype('int64') with casting rule 'same_kind'",
     "output_type": "error",
     "traceback": [
      "\u001b[0;31m---------------------------------------------------------------------------\u001b[0m",
      "\u001b[0;31mUFuncTypeError\u001b[0m                            Traceback (most recent call last)",
      "\u001b[0;32m/var/folders/vm/h5dhfh1x1q1b3l5nx_pwlbl00000gn/T/ipykernel_14388/599537304.py\u001b[0m in \u001b[0;36m<module>\u001b[0;34m\u001b[0m\n\u001b[0;32m----> 1\u001b[0;31m \u001b[0ma\u001b[0m\u001b[0;34m+=\u001b[0m\u001b[0mb\u001b[0m\u001b[0;34m\u001b[0m\u001b[0;34m\u001b[0m\u001b[0m\n\u001b[0m\u001b[1;32m      2\u001b[0m \u001b[0ma\u001b[0m\u001b[0;34m\u001b[0m\u001b[0;34m\u001b[0m\u001b[0m\n",
      "\u001b[0;31mUFuncTypeError\u001b[0m: Cannot cast ufunc 'add' output from dtype('float64') to dtype('int64') with casting rule 'same_kind'"
     ]
    }
   ],
   "source": [
    "a+=b\n",
    "a\n",
    "#不能将浮点型转化为整型进行运算"
   ]
  },
  {
   "cell_type": "markdown",
   "id": "67a8f908",
   "metadata": {},
   "source": [
    "当使用不同类型的数组进行操作时，结果数组的类型对应于更一般或更精确的数组（称为向上转换的行为）"
   ]
  },
  {
   "cell_type": "code",
   "execution_count": 85,
   "id": "f8571deb",
   "metadata": {},
   "outputs": [
    {
     "name": "stdout",
     "output_type": "stream",
     "text": [
      "[0.         1.57079633 3.14159265]\n",
      "float64\n"
     ]
    }
   ],
   "source": [
    "a = np.ones(3, dtype=np.int32)\n",
    "b = np.linspace(0,pi,3)\n",
    "print(b)\n",
    "print(b.dtype)"
   ]
  },
  {
   "cell_type": "code",
   "execution_count": 87,
   "id": "fe6651e4",
   "metadata": {},
   "outputs": [
    {
     "name": "stdout",
     "output_type": "stream",
     "text": [
      "[1.         2.57079633 4.14159265]\n",
      "float64\n"
     ]
    }
   ],
   "source": [
    "c=a+b\n",
    "print(c)\n",
    "print(c.dtype)"
   ]
  },
  {
   "cell_type": "code",
   "execution_count": 100,
   "id": "149c9f40",
   "metadata": {},
   "outputs": [
    {
     "name": "stdout",
     "output_type": "stream",
     "text": [
      "[ 0.54030231+0.84147098j -0.84147098+0.54030231j -0.54030231-0.84147098j]\n",
      "complex128\n"
     ]
    }
   ],
   "source": [
    "d = np.exp(c*1j)#np.exp(x)e的x次方\n",
    "print(d)\n",
    "print(d.dtype)"
   ]
  },
  {
   "cell_type": "markdown",
   "id": "501266e0",
   "metadata": {},
   "source": [
    "许多一元操作，例如计算数组中所有元素的总和，都是作为ndarray类的方法实现的"
   ]
  },
  {
   "cell_type": "code",
   "execution_count": 97,
   "id": "5735ff66",
   "metadata": {},
   "outputs": [
    {
     "name": "stdout",
     "output_type": "stream",
     "text": [
      "[[0.10940978 0.83911591 0.80674022]\n",
      " [0.76572109 0.16939337 0.92798062]] \n",
      "\n",
      "3.6183609961969765 \n",
      "\n",
      "0.10940977944775021 \n",
      "\n",
      "0.9279806163444353\n"
     ]
    }
   ],
   "source": [
    "a = np.random.random((2,3))\n",
    "print(a,'\\n')\n",
    "print(a.sum(),'\\n')\n",
    "print(a.min(),'\\n')\n",
    "print(a.max())"
   ]
  },
  {
   "cell_type": "markdown",
   "id": "f108c4df",
   "metadata": {},
   "source": [
    "默认情况下，上述操作适用于数组，就像它是一个数字列表一样，无论其形状如何。但是，通过指定axis 参数，您可以沿数组的指定轴应用操作"
   ]
  },
  {
   "cell_type": "code",
   "execution_count": 98,
   "id": "eaf3f802",
   "metadata": {},
   "outputs": [
    {
     "name": "stdout",
     "output_type": "stream",
     "text": [
      "[[ 0  1  2  3]\n",
      " [ 4  5  6  7]\n",
      " [ 8  9 10 11]] \n",
      "\n",
      "[12 15 18 21] \n",
      "\n",
      "[0 4 8] \n",
      "\n",
      "[[ 0  1  3  6]\n",
      " [ 4  9 15 22]\n",
      " [ 8 17 27 38]]\n"
     ]
    }
   ],
   "source": [
    "b = np.arange(12).reshape(3,4)\n",
    "print(b,'\\n')\n",
    "print(b.sum(axis=0),'\\n')\n",
    "print(b.min(axis=1),'\\n')\n",
    "print(b.cumsum(axis=1))#每一列进行累加"
   ]
  },
  {
   "cell_type": "markdown",
   "id": "894f164b",
   "metadata": {},
   "source": [
    "# 通函数"
   ]
  },
  {
   "cell_type": "markdown",
   "id": "d4be5452",
   "metadata": {},
   "source": [
    "NumPy提供熟悉的数学函数，例如sin，cos和exp。在NumPy中，这些被称为“通函数”（ufunc）。在NumPy中，这些函数在数组上按元素进行运算，产生一个数组作为输出。"
   ]
  },
  {
   "cell_type": "code",
   "execution_count": 103,
   "id": "488c5b57",
   "metadata": {},
   "outputs": [
    {
     "name": "stdout",
     "output_type": "stream",
     "text": [
      "[0 1 2] \n",
      "\n",
      "[1.         2.71828183 7.3890561 ] \n",
      "\n",
      "[0.         1.         1.41421356] \n",
      "\n",
      "[2. 0. 6.]\n"
     ]
    }
   ],
   "source": [
    "B = np.arange(3)\n",
    "print(B,'\\n')\n",
    "print(np.exp(B),'\\n')\n",
    "print(np.sqrt(B),'\\n')#np.sqrt()开方\n",
    "C = np.array([2., -1., 4.])\n",
    "print(np.add(B,C))"
   ]
  },
  {
   "cell_type": "markdown",
   "id": "b56895f2",
   "metadata": {},
   "source": [
    "# 索引、切片和迭代"
   ]
  },
  {
   "cell_type": "markdown",
   "id": "1e43ab85",
   "metadata": {},
   "source": [
    "一维的数组可以进行索引、切片和迭代操作的，就像列表和其他Python序列类型一样。"
   ]
  },
  {
   "cell_type": "code",
   "execution_count": 118,
   "id": "d80bf01e",
   "metadata": {},
   "outputs": [
    {
     "name": "stdout",
     "output_type": "stream",
     "text": [
      "[  0   1   8  27  64 125 216 343 512 729] \n",
      "\n",
      "8 \n",
      "\n",
      "[ 8 27 64] \n",
      "\n",
      "[-100    1 -100   27 -100  125  216  343  512  729] \n",
      "\n",
      "[ 729  512  343  216  125 -100   27 -100    1 -100] \n",
      "\n",
      "[-100    1 -100   27 -100  125  216  343  512  729]\n",
      "nan\n",
      "1.0\n",
      "nan\n",
      "3.0\n",
      "nan\n",
      "4.999999999999999\n",
      "5.999999999999999\n",
      "6.999999999999999\n",
      "7.999999999999999\n",
      "8.999999999999998\n"
     ]
    },
    {
     "name": "stderr",
     "output_type": "stream",
     "text": [
      "/var/folders/vm/h5dhfh1x1q1b3l5nx_pwlbl00000gn/T/ipykernel_14388/4202980317.py:10: RuntimeWarning: invalid value encountered in power\n",
      "  print(i**(1/3.))\n"
     ]
    }
   ],
   "source": [
    "a = np.arange(10)**3#每个元素的3次方\n",
    "print(a,'\\n')\n",
    "print(a[2],'\\n')\n",
    "print(a[2:5],'\\n')\n",
    "a[:6:2]=-100#0到6的元素每隔两步改为-100\n",
    "print(a,'\\n')\n",
    "print(a[::-1],'\\n')#反转\n",
    "for i in a:\n",
    "    print(i**(1/3.))#负数的0.333333333333次方报错"
   ]
  },
  {
   "cell_type": "markdown",
   "id": "094317b2",
   "metadata": {},
   "source": [
    "多维的数组每个轴可以有一个索引。这些索引以逗号​​分隔的元组给出："
   ]
  },
  {
   "cell_type": "code",
   "execution_count": 137,
   "id": "82e828c7",
   "metadata": {},
   "outputs": [],
   "source": [
    "def f(x,y):\n",
    "        return 10*x+y"
   ]
  },
  {
   "cell_type": "code",
   "execution_count": 143,
   "id": "265727e0",
   "metadata": {},
   "outputs": [
    {
     "name": "stdout",
     "output_type": "stream",
     "text": [
      "[[ 0  1  2  3]\n",
      " [10 11 12 13]\n",
      " [20 21 22 23]\n",
      " [30 31 32 33]\n",
      " [40 41 42 43]] \n",
      "\n",
      "23 \n",
      "\n",
      "[ 1 11 21 31 41] \n",
      "\n",
      "[ 1 11 21 31 41] \n",
      "\n",
      "[[10 11 12 13]\n",
      " [20 21 22 23]]\n"
     ]
    }
   ],
   "source": [
    "'''numpy.fromfunction()函数通过对每个坐标执行一个函数来构造一个数组，因此生成的数组在坐标 (x, y, z) 处具有值 fn(x, y, z)。\n",
    "语法：numpy.fromfunction（函数，形状，dtype）'''\n",
    "b = np.fromfunction(f,(5,4),dtype=int)\n",
    "print(b,'\\n')\n",
    "print(b[2,3],'\\n')#下标为(2,3)的数\n",
    "print(b[0:5, 1],'\\n')#下标为0到5的行中的第二列数，不包含下标为5的那一行\n",
    "print(b[ : ,1],'\\n')#同上\n",
    "print(b[1:3, : ])#下标为1到下标为3的行中的所有数，不包含下标为3的那一行"
   ]
  },
  {
   "cell_type": "markdown",
   "id": "534f351f",
   "metadata": {},
   "source": [
    "当提供的索引少于轴的数量时，缺失的索引被认为是完整的切片\n",
    "b[i] 方括号中的表达式 i 被视为后面紧跟着 : 的多个实例，用于表示剩余轴。NumPy也允许使用三个点写为 b[i,...]。\n",
    "三个点（ ... ）表示产生完整索引元组所需的冒号    "
   ]
  },
  {
   "cell_type": "code",
   "execution_count": 146,
   "id": "f101a0c1",
   "metadata": {},
   "outputs": [
    {
     "name": "stdout",
     "output_type": "stream",
     "text": [
      "[40 41 42 43] \n",
      "\n",
      "[10 11 12 13] \n",
      "\n",
      "[ 2 12 22 32 42]\n"
     ]
    }
   ],
   "source": [
    "print(b[-1],'\\n')\n",
    "print(b[1,...],'\\n')\n",
    "print(b[...,2])"
   ]
  },
  {
   "cell_type": "markdown",
   "id": "2f967ed8",
   "metadata": {},
   "source": [
    "对多维数组进行迭代是相对于第一个轴完成的但是，如果想要对数组中的每个元素执行操作，可以使用flat属性，该属性是数组的所有元素的迭代器"
   ]
  },
  {
   "cell_type": "code",
   "execution_count": 147,
   "id": "aab3946d",
   "metadata": {},
   "outputs": [
    {
     "name": "stdout",
     "output_type": "stream",
     "text": [
      "[0 1 2 3]\n",
      "[10 11 12 13]\n",
      "[20 21 22 23]\n",
      "[30 31 32 33]\n",
      "[40 41 42 43]\n"
     ]
    }
   ],
   "source": [
    "for row in b:\n",
    "    print(row)"
   ]
  },
  {
   "cell_type": "code",
   "execution_count": 148,
   "id": "97fc4aa4",
   "metadata": {},
   "outputs": [
    {
     "name": "stdout",
     "output_type": "stream",
     "text": [
      "0\n",
      "1\n",
      "2\n",
      "3\n",
      "10\n",
      "11\n",
      "12\n",
      "13\n",
      "20\n",
      "21\n",
      "22\n",
      "23\n",
      "30\n",
      "31\n",
      "32\n",
      "33\n",
      "40\n",
      "41\n",
      "42\n",
      "43\n"
     ]
    }
   ],
   "source": [
    "for element in b.flat:\n",
    "    print(element)"
   ]
  },
  {
   "cell_type": "markdown",
   "id": "bfa828c5",
   "metadata": {},
   "source": [
    "# 形状操纵"
   ]
  },
  {
   "cell_type": "markdown",
   "id": "29d31d17",
   "metadata": {},
   "source": [
    "一个数组的形状是由每个轴的元素数量决定的,可以使用各种命令更改数组的形状。"
   ]
  },
  {
   "cell_type": "code",
   "execution_count": 177,
   "id": "913c87a9",
   "metadata": {},
   "outputs": [
    {
     "name": "stdout",
     "output_type": "stream",
     "text": [
      "[[6. 6. 5. 8.]\n",
      " [0. 1. 1. 7.]\n",
      " [6. 7. 6. 9.]] \n",
      "\n",
      "[6. 6. 5. 8. 0. 1. 1. 7. 6. 7. 6. 9.] \n",
      "\n",
      "[[6. 6. 5. 8. 0. 1.]\n",
      " [1. 7. 6. 7. 6. 9.]] \n",
      "\n",
      "[[6. 6. 5. 8.]\n",
      " [0. 1. 1. 7.]\n",
      " [6. 7. 6. 9.]] \n",
      "\n",
      "None \n",
      "\n",
      "[[6. 6. 5. 8. 0. 1.]\n",
      " [1. 7. 6. 7. 6. 9.]]\n"
     ]
    }
   ],
   "source": [
    "a = np.floor(10*np.random.random((3,4)))\n",
    "print(a,'\\n')\n",
    "print(a.ravel(),'\\n')#使用ravel()让矩阵变为一维数组\n",
    "#a=a.resize((2,6))\n",
    "#print(a,'\\n')\n",
    "print(a.reshape(2,6),'\\n')\n",
    "print(a,'\\n')\n",
    "print(a.resize((2,6)),'\\n')\n",
    "print(a)"
   ]
  },
  {
   "cell_type": "markdown",
   "id": "9bcdb444",
   "metadata": {},
   "source": [
    "区别\n",
    "\n",
    "resize 无返回值（返回值为None），会改变原数组。\n",
    "\n",
    "reshape 有返回值，返回值是被reshape后的数组，不会改变原数组。\n",
    "\n",
    "resize 可以放大或者缩小原数组的形状：放大时，会用0补全剩余元素；缩小时，直接丢弃多余元素。\n",
    "\n",
    "reshape 要求reshape前后元素个数相同，否则会报错，无法运行。"
   ]
  },
  {
   "cell_type": "code",
   "execution_count": 243,
   "id": "647e3635",
   "metadata": {},
   "outputs": [
    {
     "name": "stdout",
     "output_type": "stream",
     "text": [
      "[[7. 0.]\n",
      " [3. 0.]] \n",
      "\n",
      "[[5. 2.]\n",
      " [2. 6.]] \n",
      "\n",
      "***************\n",
      "[[[7. 0.]\n",
      "  [3. 0.]]\n",
      "\n",
      " [[5. 2.]\n",
      "  [2. 6.]]]\n",
      "***************\n",
      "[[7. 0.]\n",
      " [3. 0.]\n",
      " [5. 2.]\n",
      " [2. 6.]] \n",
      "\n",
      "[[7. 0. 5. 2.]\n",
      " [3. 0. 2. 6.]]\n"
     ]
    }
   ],
   "source": [
    "#数组沿不同的轴堆叠在一起\n",
    "a = np.floor(10*np.random.random((2,2)))\n",
    "b = np.floor(10*np.random.random((2,2)))\n",
    "print(a,'\\n')\n",
    "print(b,'\\n')\n",
    "print(\"***************\")\n",
    "print(np.stack((a,b)))#在一个新维度上连接多个array\n",
    "print(\"***************\")\n",
    "print(np.vstack((a,b)),'\\n')\n",
    "print(np.hstack((a,b)))"
   ]
  },
  {
   "cell_type": "code",
   "execution_count": 230,
   "id": "4753e578",
   "metadata": {},
   "outputs": [],
   "source": [
    "#将column_stack 一维数组作为列堆叠到二维数组中。它仅相当于 hstack二维数组\n",
    "from numpy import newaxis#newaxis用于增加矩阵维度"
   ]
  },
  {
   "cell_type": "code",
   "execution_count": 231,
   "id": "b549174b",
   "metadata": {},
   "outputs": [
    {
     "data": {
      "text/plain": [
       "array([[9., 4., 4., 1.],\n",
       "       [1., 0., 6., 1.]])"
      ]
     },
     "execution_count": 231,
     "metadata": {},
     "output_type": "execute_result"
    }
   ],
   "source": [
    "np.column_stack((a,b))#形成二维数组，列拼接在一起"
   ]
  },
  {
   "cell_type": "code",
   "execution_count": 238,
   "id": "e88e7be1",
   "metadata": {},
   "outputs": [
    {
     "name": "stdout",
     "output_type": "stream",
     "text": [
      "[0 1 2 0 1 2] \n",
      "\n",
      "[[0 0]\n",
      " [1 1]\n",
      " [2 2]]\n"
     ]
    }
   ],
   "source": [
    "c=np.arange(3)\n",
    "d=np.arange(3)\n",
    "print(np.hstack((c,d)),'\\n')\n",
    "print(np.column_stack((c,d)))"
   ]
  },
  {
   "cell_type": "markdown",
   "id": "ca0c5915",
   "metadata": {},
   "source": [
    "由此看出，对于一维数组的堆叠：\n",
    "\n",
    "（1）column_stack()会将一位数组转化成二维数组后再进行堆叠；\n",
    "\n",
    "（2）hstack()不会进行转化，而是直接进行堆叠，所得到的堆叠后的数组还是一维数组。\n",
    "\n",
    "对于二维数组的堆叠，两者结果一样\n",
    "\n",
    "同理，vstack()与row_stack()类似"
   ]
  },
  {
   "cell_type": "code",
   "execution_count": 204,
   "id": "1dc4e066",
   "metadata": {},
   "outputs": [
    {
     "name": "stdout",
     "output_type": "stream",
     "text": [
      "[4. 2.] \n",
      "\n",
      "[[4. 3.]\n",
      " [2. 8.]]\n"
     ]
    }
   ],
   "source": [
    "a = np.array([4.,2.])\n",
    "b = np.array([3.,8.])\n",
    "print(a,'\\n')\n",
    "print(np.column_stack((a,b)))"
   ]
  },
  {
   "cell_type": "code",
   "execution_count": 198,
   "id": "5a5f34f0",
   "metadata": {},
   "outputs": [
    {
     "data": {
      "text/plain": [
       "array([[4.],\n",
       "       [2.]])"
      ]
     },
     "execution_count": 198,
     "metadata": {},
     "output_type": "execute_result"
    }
   ],
   "source": [
    "a[:,newaxis]#一维变成二维"
   ]
  },
  {
   "cell_type": "code",
   "execution_count": 199,
   "id": "091811c8",
   "metadata": {},
   "outputs": [
    {
     "data": {
      "text/plain": [
       "array([[4., 2.]])"
      ]
     },
     "execution_count": 199,
     "metadata": {},
     "output_type": "execute_result"
    }
   ],
   "source": [
    "a[newaxis,:]"
   ]
  },
  {
   "cell_type": "code",
   "execution_count": 222,
   "id": "a801aa5a",
   "metadata": {
    "scrolled": false
   },
   "outputs": [
    {
     "data": {
      "text/plain": [
       "array([[ 0,  1,  2,  3,  4],\n",
       "       [ 5,  6,  7,  8,  9],\n",
       "       [10, 11, 12, 13, 14],\n",
       "       [15, 16, 17, 18, 19]])"
      ]
     },
     "execution_count": 222,
     "metadata": {},
     "output_type": "execute_result"
    }
   ],
   "source": [
    "b=np.arange(20).reshape(4,5)\n",
    "b"
   ]
  },
  {
   "cell_type": "code",
   "execution_count": 223,
   "id": "ac787052",
   "metadata": {},
   "outputs": [
    {
     "data": {
      "text/plain": [
       "array([[[ 0,  1,  2,  3,  4]],\n",
       "\n",
       "       [[ 5,  6,  7,  8,  9]],\n",
       "\n",
       "       [[10, 11, 12, 13, 14]],\n",
       "\n",
       "       [[15, 16, 17, 18, 19]]])"
      ]
     },
     "execution_count": 223,
     "metadata": {},
     "output_type": "execute_result"
    }
   ],
   "source": [
    "b[:,newaxis]"
   ]
  },
  {
   "cell_type": "code",
   "execution_count": 224,
   "id": "91907e79",
   "metadata": {},
   "outputs": [
    {
     "data": {
      "text/plain": [
       "array([[[ 0,  1,  2,  3,  4],\n",
       "        [ 5,  6,  7,  8,  9],\n",
       "        [10, 11, 12, 13, 14],\n",
       "        [15, 16, 17, 18, 19]]])"
      ]
     },
     "execution_count": 224,
     "metadata": {},
     "output_type": "execute_result"
    }
   ],
   "source": [
    "b[newaxis,:]"
   ]
  },
  {
   "cell_type": "code",
   "execution_count": 246,
   "id": "9d6fda16",
   "metadata": {},
   "outputs": [
    {
     "name": "stdout",
     "output_type": "stream",
     "text": [
      "[1 2 3 0 4] \n",
      "\n",
      "[[1 1]\n",
      " [2 2]\n",
      " [3 3]]\n"
     ]
    }
   ],
   "source": [
    "#r_和c_也可以用来堆叠数组，允许使用范围操作符(“：”)\n",
    "print(np.r_[1:4,0,4],'\\n')\n",
    "print(np.c_[1:4,1:4])"
   ]
  },
  {
   "cell_type": "markdown",
   "id": "103c0423",
   "metadata": {},
   "source": [
    "## 将一个数组拆分成几个较小的数组"
   ]
  },
  {
   "cell_type": "markdown",
   "id": "0d599993",
   "metadata": {},
   "source": [
    "使用hsplit，可以沿数组的水平轴拆分数组，方法是指定要返回的形状相等的数组的数量，或者指定应该在其之后进行分割的列\n",
    "\n",
    "vsplit沿垂直轴分割，并array_split允许指定要分割的轴。"
   ]
  },
  {
   "cell_type": "code",
   "execution_count": 253,
   "id": "37686bb9",
   "metadata": {},
   "outputs": [
    {
     "name": "stdout",
     "output_type": "stream",
     "text": [
      "[array([[ 0],\n",
      "       [ 5],\n",
      "       [10],\n",
      "       [15]]), array([[ 1],\n",
      "       [ 6],\n",
      "       [11],\n",
      "       [16]]), array([[ 2],\n",
      "       [ 7],\n",
      "       [12],\n",
      "       [17]]), array([[ 3],\n",
      "       [ 8],\n",
      "       [13],\n",
      "       [18]]), array([[ 4],\n",
      "       [ 9],\n",
      "       [14],\n",
      "       [19]])] \n",
      "\n",
      "[array([[0, 1, 2, 3, 4]]), array([[5, 6, 7, 8, 9]]), array([[10, 11, 12, 13, 14]]), array([[15, 16, 17, 18, 19]])]\n"
     ]
    }
   ],
   "source": [
    "a=np.arange(20).reshape(4,5)\n",
    "print(np.hsplit(a,5),'\\n')\n",
    "print(np.vsplit(a,4))"
   ]
  },
  {
   "cell_type": "code",
   "execution_count": 278,
   "id": "013c6d5e",
   "metadata": {},
   "outputs": [
    {
     "name": "stdout",
     "output_type": "stream",
     "text": [
      "[ 0  1  2  3  4  5  6  7  8  9 10 11] \n",
      " [ 0  1  2  3  4  5  6  7  8  9 10 11]\n"
     ]
    }
   ],
   "source": [
    "a=np.arange(12)\n",
    "b=a\n",
    "print(a,'\\n',b)"
   ]
  },
  {
   "cell_type": "code",
   "execution_count": 279,
   "id": "cab6a22e",
   "metadata": {},
   "outputs": [
    {
     "name": "stdout",
     "output_type": "stream",
     "text": [
      "(3, 4)\n",
      "[[ 0  1  2  3]\n",
      " [ 4  5  6  7]\n",
      " [ 8  9 10 11]]\n"
     ]
    }
   ],
   "source": [
    "#完全不复制，简单赋值不创建新的副本\n",
    "b.shape=3,4\n",
    "print(a.shape)\n",
    "print(a)"
   ]
  },
  {
   "cell_type": "code",
   "execution_count": 280,
   "id": "6a220f45",
   "metadata": {},
   "outputs": [
    {
     "data": {
      "text/plain": [
       "True"
      ]
     },
     "execution_count": 280,
     "metadata": {},
     "output_type": "execute_result"
    }
   ],
   "source": [
    "b is a"
   ]
  },
  {
   "cell_type": "code",
   "execution_count": 281,
   "id": "e5d48629",
   "metadata": {},
   "outputs": [],
   "source": [
    "def f(x):\n",
    "     print(id(x))#id(x)查看变量在内存中的地址"
   ]
  },
  {
   "cell_type": "code",
   "execution_count": 282,
   "id": "3eec84e8",
   "metadata": {},
   "outputs": [
    {
     "name": "stdout",
     "output_type": "stream",
     "text": [
      "140649054682736 \n",
      "\n",
      "140649054682736\n",
      "None\n"
     ]
    }
   ],
   "source": [
    "print(id(a),'\\n')\n",
    "print(f(a))#不带参数的return语句，返回None"
   ]
  },
  {
   "cell_type": "markdown",
   "id": "3a87d35f",
   "metadata": {},
   "source": [
    "# 视图或浅拷贝"
   ]
  },
  {
   "cell_type": "markdown",
   "id": "d396c58b",
   "metadata": {},
   "source": [
    "视图是数据的一个别称或引用，通过该别称或引用亦便可访问、操作原有数据\n",
    "\n",
    "不同的数组对象可以共享相同的数据。该view方法创建一个查看相同数据的新数组对象。"
   ]
  },
  {
   "cell_type": "code",
   "execution_count": 283,
   "id": "ecffd7b4",
   "metadata": {},
   "outputs": [
    {
     "data": {
      "text/plain": [
       "array([[ 0,  1,  2,  3],\n",
       "       [ 4,  5,  6,  7],\n",
       "       [ 8,  9, 10, 11]])"
      ]
     },
     "execution_count": 283,
     "metadata": {},
     "output_type": "execute_result"
    }
   ],
   "source": [
    "c=a.view()\n",
    "c"
   ]
  },
  {
   "cell_type": "code",
   "execution_count": 284,
   "id": "a758da18",
   "metadata": {},
   "outputs": [
    {
     "data": {
      "text/plain": [
       "False"
      ]
     },
     "execution_count": 284,
     "metadata": {},
     "output_type": "execute_result"
    }
   ],
   "source": [
    "c is a"
   ]
  },
  {
   "cell_type": "code",
   "execution_count": 285,
   "id": "eca37dfb",
   "metadata": {},
   "outputs": [
    {
     "data": {
      "text/plain": [
       "True"
      ]
     },
     "execution_count": 285,
     "metadata": {},
     "output_type": "execute_result"
    }
   ],
   "source": [
    "c.base is a#c是以a的数据为基础创建的对象（base对象说明数据是否来自别的对象）"
   ]
  },
  {
   "cell_type": "code",
   "execution_count": 286,
   "id": "1f9ac7e0",
   "metadata": {},
   "outputs": [
    {
     "data": {
      "text/plain": [
       "False"
      ]
     },
     "execution_count": 286,
     "metadata": {},
     "output_type": "execute_result"
    }
   ],
   "source": [
    "c.flags.owndata#ndarray.flags.owndata判断数组是否是数据的所有者"
   ]
  },
  {
   "cell_type": "code",
   "execution_count": 287,
   "id": "420cd127",
   "metadata": {},
   "outputs": [
    {
     "data": {
      "text/plain": [
       "(3, 4)"
      ]
     },
     "execution_count": 287,
     "metadata": {},
     "output_type": "execute_result"
    }
   ],
   "source": [
    "c.shape=2,6\n",
    "a.shape#a形状不变"
   ]
  },
  {
   "cell_type": "code",
   "execution_count": 288,
   "id": "a2c90dbd",
   "metadata": {},
   "outputs": [
    {
     "data": {
      "text/plain": [
       "array([[  0,   1,   2,   3],\n",
       "       [123,   5,   6,   7],\n",
       "       [  8,   9,  10,  11]])"
      ]
     },
     "execution_count": 288,
     "metadata": {},
     "output_type": "execute_result"
    }
   ],
   "source": [
    "c[0,4]=123\n",
    "a#数据改变"
   ]
  },
  {
   "cell_type": "code",
   "execution_count": 290,
   "id": "59b15ae0",
   "metadata": {},
   "outputs": [
    {
     "data": {
      "text/plain": [
       "array([[  0,  10,  10,   3],\n",
       "       [123,  10,  10,   7],\n",
       "       [  8,  10,  10,  11]])"
      ]
     },
     "execution_count": 290,
     "metadata": {},
     "output_type": "execute_result"
    }
   ],
   "source": [
    "#切片数组会返回一个视图\n",
    "s=a[:,1:3]\n",
    "s[:]=10\n",
    "a"
   ]
  },
  {
   "cell_type": "markdown",
   "id": "9e25f417",
   "metadata": {},
   "source": [
    "# 深拷贝"
   ]
  },
  {
   "cell_type": "markdown",
   "id": "ed5e0e08",
   "metadata": {},
   "source": [
    "深拷贝在计算机中开辟一块新的内存地址用于存放复制的对象。源数据改变不会影响复制的数据"
   ]
  },
  {
   "cell_type": "code",
   "execution_count": 292,
   "id": "3a6e8f4f",
   "metadata": {},
   "outputs": [
    {
     "data": {
      "text/plain": [
       "False"
      ]
     },
     "execution_count": 292,
     "metadata": {},
     "output_type": "execute_result"
    }
   ],
   "source": [
    "#copy方法生成数组及其数据的完整副本\n",
    "d=a.copy()\n",
    "d is a"
   ]
  },
  {
   "cell_type": "code",
   "execution_count": 293,
   "id": "20eb3d67",
   "metadata": {},
   "outputs": [
    {
     "data": {
      "text/plain": [
       "False"
      ]
     },
     "execution_count": 293,
     "metadata": {},
     "output_type": "execute_result"
    }
   ],
   "source": [
    "d.base is a"
   ]
  },
  {
   "cell_type": "code",
   "execution_count": 294,
   "id": "a0cf94b9",
   "metadata": {},
   "outputs": [
    {
     "data": {
      "text/plain": [
       "array([[  0,  10,  10,   3],\n",
       "       [123,  10,  10,   7],\n",
       "       [  8,  10,  10,  11]])"
      ]
     },
     "execution_count": 294,
     "metadata": {},
     "output_type": "execute_result"
    }
   ],
   "source": [
    "d[1,3]=999\n",
    "a\n",
    "#d的改变对a没有影响"
   ]
  },
  {
   "cell_type": "code",
   "execution_count": 295,
   "id": "1ea434f4",
   "metadata": {},
   "outputs": [
    {
     "ename": "NameError",
     "evalue": "name 'a' is not defined",
     "output_type": "error",
     "traceback": [
      "\u001b[0;31m---------------------------------------------------------------------------\u001b[0m",
      "\u001b[0;31mNameError\u001b[0m                                 Traceback (most recent call last)",
      "\u001b[0;32m/var/folders/vm/h5dhfh1x1q1b3l5nx_pwlbl00000gn/T/ipykernel_14388/587549039.py\u001b[0m in \u001b[0;36m<module>\u001b[0;34m\u001b[0m\n\u001b[1;32m      3\u001b[0m \u001b[0mb\u001b[0m\u001b[0;34m=\u001b[0m\u001b[0ma\u001b[0m\u001b[0;34m[\u001b[0m\u001b[0;34m:\u001b[0m\u001b[0;36m3\u001b[0m\u001b[0;34m]\u001b[0m\u001b[0;34m.\u001b[0m\u001b[0mcopy\u001b[0m\u001b[0;34m(\u001b[0m\u001b[0;34m)\u001b[0m\u001b[0;34m\u001b[0m\u001b[0;34m\u001b[0m\u001b[0m\n\u001b[1;32m      4\u001b[0m \u001b[0;32mdel\u001b[0m \u001b[0ma\u001b[0m\u001b[0;34m\u001b[0m\u001b[0;34m\u001b[0m\u001b[0m\n\u001b[0;32m----> 5\u001b[0;31m \u001b[0ma\u001b[0m\u001b[0;34m\u001b[0m\u001b[0;34m\u001b[0m\u001b[0m\n\u001b[0m\u001b[1;32m      6\u001b[0m \u001b[0;31m#如果改为使用 b = a[:100]，则 a 由 b 引用，并且即使执行 del a 也会在内存中持久存在。\u001b[0m\u001b[0;34m\u001b[0m\u001b[0;34m\u001b[0m\u001b[0m\n",
      "\u001b[0;31mNameError\u001b[0m: name 'a' is not defined"
     ]
    }
   ],
   "source": [
    "#如果不再需要原始数组，则应在切片后调用 copy\n",
    "a=np.arange(12).reshape(2,6)\n",
    "b=a[:3].copy()\n",
    "del a\n",
    "a\n",
    "#如果改为使用 b = a[:100]，则 a 由 b 引用，并且即使执行 del a 也会在内存中持久存在。"
   ]
  },
  {
   "cell_type": "markdown",
   "id": "5be96bec",
   "metadata": {},
   "source": [
    "# 广播"
   ]
  },
  {
   "cell_type": "markdown",
   "id": "4483e6a1",
   "metadata": {},
   "source": [
    "广播规则的基本原则如下：\n",
    "\n",
    "1. 如果两个数组的维度数不同，则将维度较少的数组的形状在前面补1，直到维度数相同。\n",
    "\n",
    "2. 如果两个数组在某个维度上的形状不同，但其中一个数组的形状在该维度上为1，则可以将该数组在该维度上的形状扩展为与另一个数组相同。\n",
    "\n",
    "3. 如果两个数组在某个维度上的形状不同，且两个数组在该维度上的形状都不为1，则无法进行广播，会抛出ValueError异常。\n"
   ]
  },
  {
   "cell_type": "markdown",
   "id": "da82f0f3",
   "metadata": {},
   "source": [
    "# 花式索引和索引技巧"
   ]
  },
  {
   "cell_type": "markdown",
   "id": "d894a7ee",
   "metadata": {},
   "source": [
    "NumPy提供比常规Python序列更多的索引功能。除了通过整数和切片进行索引之外，数组可以由整数数组和布尔数组索引。"
   ]
  },
  {
   "cell_type": "markdown",
   "id": "94c03986",
   "metadata": {},
   "source": [
    "## 使用索引数组进行索引"
   ]
  },
  {
   "cell_type": "code",
   "execution_count": 297,
   "id": "b019fd8f",
   "metadata": {},
   "outputs": [
    {
     "name": "stdout",
     "output_type": "stream",
     "text": [
      "[  0   1   4   9  16  25  36  49  64  81 100 121] \n",
      " [ 1  1  9 64 25]\n"
     ]
    }
   ],
   "source": [
    "a = np.arange(12)**2 \n",
    "i = np.array( [ 1,1,3,8,5 ] ) \n",
    "print(a,'\\n',a[i])"
   ]
  },
  {
   "cell_type": "code",
   "execution_count": 298,
   "id": "da036388",
   "metadata": {},
   "outputs": [
    {
     "data": {
      "text/plain": [
       "array([[ 9, 16],\n",
       "       [81, 49]])"
      ]
     },
     "execution_count": 298,
     "metadata": {},
     "output_type": "execute_result"
    }
   ],
   "source": [
    "j = np.array( [ [ 3, 4], [ 9, 7 ] ] )  \n",
    "a[j]"
   ]
  },
  {
   "cell_type": "markdown",
   "id": "4e5c981f",
   "metadata": {},
   "source": [
    "当索引数组a是多维的时，单个索引数组指的是第一个维度a。以下示例通过使用调色板将标签图像转换为彩色图像来显示此行为。"
   ]
  },
  {
   "cell_type": "code",
   "execution_count": 301,
   "id": "1a3bdfdb",
   "metadata": {},
   "outputs": [
    {
     "data": {
      "text/plain": [
       "array([[[  0,   0,   0],\n",
       "        [255,   0,   0],\n",
       "        [  0, 255,   0],\n",
       "        [  0,   0,   0]],\n",
       "\n",
       "       [[  0,   0,   0],\n",
       "        [  0,   0, 255],\n",
       "        [255, 255, 255],\n",
       "        [  0,   0,   0]]])"
      ]
     },
     "execution_count": 301,
     "metadata": {},
     "output_type": "execute_result"
    }
   ],
   "source": [
    "palette = np.array([[0, 0, 0],         # black\n",
    "                     [255, 0, 0],       # red\n",
    "                     [0, 255, 0],       # green\n",
    "                     [0, 0, 255],       # blue\n",
    "                    [255, 255, 255]])  # white\n",
    "image = np.array([[0, 1, 2, 0],        # 每个值对应调色板中的一个颜色,一个数对应一行\n",
    "                   [0, 3, 4, 0]])\n",
    "palette[image]"
   ]
  },
  {
   "cell_type": "code",
   "execution_count": 303,
   "id": "61a6a1db",
   "metadata": {},
   "outputs": [
    {
     "name": "stdout",
     "output_type": "stream",
     "text": [
      "[[ 0  1  2  3]\n",
      " [ 4  5  6  7]\n",
      " [ 8  9 10 11]] \n",
      "\n",
      "[[ 2  5]\n",
      " [ 7 11]]\n"
     ]
    }
   ],
   "source": [
    "#为多个维度提供索引。每个维度的索引数组必须具有相同的形状\n",
    "a = np.arange(12).reshape(3,4)\n",
    "i = np.array( [ [0,1],                        # 行索引\n",
    "                [1,2] ] )\n",
    "j = np.array( [ [2,1],                        # 列索引\n",
    "                [3,3] ] )\n",
    "print(a,'\\n')\n",
    "print(a[i,j])"
   ]
  },
  {
   "cell_type": "code",
   "execution_count": 304,
   "id": "a4f9f889",
   "metadata": {},
   "outputs": [
    {
     "data": {
      "text/plain": [
       "array([[ 2,  6],\n",
       "       [ 6, 10]])"
      ]
     },
     "execution_count": 304,
     "metadata": {},
     "output_type": "execute_result"
    }
   ],
   "source": [
    "a[i,2]"
   ]
  },
  {
   "cell_type": "code",
   "execution_count": 305,
   "id": "cda86264",
   "metadata": {},
   "outputs": [
    {
     "data": {
      "text/plain": [
       "array([[[ 2,  1],\n",
       "        [ 3,  3]],\n",
       "\n",
       "       [[ 6,  5],\n",
       "        [ 7,  7]],\n",
       "\n",
       "       [[10,  9],\n",
       "        [11, 11]]])"
      ]
     },
     "execution_count": 305,
     "metadata": {},
     "output_type": "execute_result"
    }
   ],
   "source": [
    "a[:,j]"
   ]
  },
  {
   "cell_type": "code",
   "execution_count": 315,
   "id": "4d684288",
   "metadata": {},
   "outputs": [
    {
     "name": "stderr",
     "output_type": "stream",
     "text": [
      "/var/folders/vm/h5dhfh1x1q1b3l5nx_pwlbl00000gn/T/ipykernel_14388/401603926.py:3: FutureWarning: Using a non-tuple sequence for multidimensional indexing is deprecated; use `arr[tuple(seq)]` instead of `arr[seq]`. In the future this will be interpreted as an array index, `arr[np.array(seq)]`, which will result either in an error or a different result.\n",
      "  a[l]\n"
     ]
    },
    {
     "data": {
      "text/plain": [
       "array([[ 2,  5],\n",
       "       [ 7, 11]])"
      ]
     },
     "execution_count": 315,
     "metadata": {},
     "output_type": "execute_result"
    }
   ],
   "source": [
    "#可以按顺序（比如列表）放入i，j然后使用列表进行索引。\n",
    "l=[i,j]\n",
    "a[l]\n",
    "#不推荐使用非元组序列进行多维索引;使用 ‘arr[Tuple（seq）]’ 而不是 ‘arr[seq]’。将来，这将被解释为数组索引’arr[np.array（seq）]'，这将导致错误或不同的结果。"
   ]
  },
  {
   "cell_type": "code",
   "execution_count": 316,
   "id": "8fd7f052",
   "metadata": {},
   "outputs": [
    {
     "ename": "IndexError",
     "evalue": "index 3 is out of bounds for axis 0 with size 3",
     "output_type": "error",
     "traceback": [
      "\u001b[0;31m---------------------------------------------------------------------------\u001b[0m",
      "\u001b[0;31mIndexError\u001b[0m                                Traceback (most recent call last)",
      "\u001b[0;32m/var/folders/vm/h5dhfh1x1q1b3l5nx_pwlbl00000gn/T/ipykernel_14388/20735369.py\u001b[0m in \u001b[0;36m<module>\u001b[0;34m\u001b[0m\n\u001b[1;32m      1\u001b[0m \u001b[0;31m#不能通过放入i和j放入数组来实现这一点，因为这个数组将被解释为索引a的第一个维度。\u001b[0m\u001b[0;34m\u001b[0m\u001b[0;34m\u001b[0m\u001b[0m\n\u001b[1;32m      2\u001b[0m \u001b[0ms\u001b[0m \u001b[0;34m=\u001b[0m \u001b[0mnp\u001b[0m\u001b[0;34m.\u001b[0m\u001b[0marray\u001b[0m\u001b[0;34m(\u001b[0m \u001b[0;34m[\u001b[0m\u001b[0mi\u001b[0m\u001b[0;34m,\u001b[0m\u001b[0mj\u001b[0m\u001b[0;34m]\u001b[0m \u001b[0;34m)\u001b[0m\u001b[0;34m\u001b[0m\u001b[0;34m\u001b[0m\u001b[0m\n\u001b[0;32m----> 3\u001b[0;31m \u001b[0ma\u001b[0m\u001b[0;34m[\u001b[0m\u001b[0ms\u001b[0m\u001b[0;34m]\u001b[0m\u001b[0;34m\u001b[0m\u001b[0;34m\u001b[0m\u001b[0m\n\u001b[0m",
      "\u001b[0;31mIndexError\u001b[0m: index 3 is out of bounds for axis 0 with size 3"
     ]
    }
   ],
   "source": [
    "#不能通过放入i和j放入数组来实现这一点，因为这个数组将被解释为索引a的第一个维度。\n",
    "s = np.array( [i,j] )\n",
    "a[s]"
   ]
  },
  {
   "cell_type": "code",
   "execution_count": 317,
   "id": "048c2a2b",
   "metadata": {},
   "outputs": [
    {
     "data": {
      "text/plain": [
       "array([[ 2,  5],\n",
       "       [ 7, 11]])"
      ]
     },
     "execution_count": 317,
     "metadata": {},
     "output_type": "execute_result"
    }
   ],
   "source": [
    "a[tuple(s)]"
   ]
  },
  {
   "cell_type": "code",
   "execution_count": 321,
   "id": "117eb9fd",
   "metadata": {},
   "outputs": [
    {
     "name": "stdout",
     "output_type": "stream",
     "text": [
      "[ 20.    51.25  82.5  113.75 145.  ] \n",
      "\n",
      " [[ 0.          0.84147098  0.90929743  0.14112001]\n",
      " [-0.7568025  -0.95892427 -0.2794155   0.6569866 ]\n",
      " [ 0.98935825  0.41211849 -0.54402111 -0.99999021]\n",
      " [-0.53657292  0.42016704  0.99060736  0.65028784]\n",
      " [-0.28790332 -0.96139749 -0.75098725  0.14987721]]\n"
     ]
    }
   ],
   "source": [
    "#使用数组索引的另一个常见用法是搜索与时间相关的系列的最大值：\n",
    "time = np.linspace(20, 145, 5)#创建等差数列\n",
    "data = np.sin(np.arange(20)).reshape(5,4)\n",
    "print(time,'\\n\\n',data)"
   ]
  },
  {
   "cell_type": "code",
   "execution_count": 323,
   "id": "906d646f",
   "metadata": {},
   "outputs": [
    {
     "data": {
      "text/plain": [
       "array([2, 0, 3, 1])"
      ]
     },
     "execution_count": 323,
     "metadata": {},
     "output_type": "execute_result"
    }
   ],
   "source": [
    "ind = data.argmax(axis=0)#每一行最大值对应索引\n",
    "ind"
   ]
  },
  {
   "cell_type": "code",
   "execution_count": 324,
   "id": "d425e342",
   "metadata": {},
   "outputs": [
    {
     "data": {
      "text/plain": [
       "array([ 82.5 ,  20.  , 113.75,  51.25])"
      ]
     },
     "execution_count": 324,
     "metadata": {},
     "output_type": "execute_result"
    }
   ],
   "source": [
    "time_max = time[ind]#ind对应time中的数据\n",
    "data_max = data[ind, range(data.shape[1])]#data[ind[0],0], data[ind[1],1]...\n",
    "time_max"
   ]
  },
  {
   "cell_type": "code",
   "execution_count": 326,
   "id": "1481acf3",
   "metadata": {},
   "outputs": [
    {
     "data": {
      "text/plain": [
       "array([0.98935825, 0.84147098, 0.99060736, 0.6569866 ])"
      ]
     },
     "execution_count": 326,
     "metadata": {},
     "output_type": "execute_result"
    }
   ],
   "source": [
    "data_max"
   ]
  },
  {
   "cell_type": "code",
   "execution_count": 327,
   "id": "15bfbe70",
   "metadata": {},
   "outputs": [
    {
     "data": {
      "text/plain": [
       "True"
      ]
     },
     "execution_count": 327,
     "metadata": {},
     "output_type": "execute_result"
    }
   ],
   "source": [
    "np.all(data_max == data.max(axis=0))#np.all(np.array)   对矩阵所有元素做与操作，所有为True则返回True"
   ]
  },
  {
   "cell_type": "code",
   "execution_count": 333,
   "id": "fe05904c",
   "metadata": {},
   "outputs": [
    {
     "name": "stdout",
     "output_type": "stream",
     "text": [
      "[0 1 2 3 4] \n",
      "\n",
      "[0 0 2 0 0]\n"
     ]
    }
   ],
   "source": [
    "#使用数组索引作为分配给的目标\n",
    "a = np.arange(5)\n",
    "print(a,'\\n')\n",
    "a[[1,3,4]] = 0\n",
    "print(a)"
   ]
  },
  {
   "cell_type": "code",
   "execution_count": 330,
   "id": "ebdc0e27",
   "metadata": {},
   "outputs": [
    {
     "data": {
      "text/plain": [
       "array([2, 1, 3, 3, 4])"
      ]
     },
     "execution_count": 330,
     "metadata": {},
     "output_type": "execute_result"
    }
   ],
   "source": [
    "#当索引列表包含重复时，分配会多次完成，留下最后一个值\n",
    "a = np.arange(5)\n",
    "a[[0,0,2]]=[1,2,3]\n",
    "a"
   ]
  },
  {
   "cell_type": "code",
   "execution_count": 334,
   "id": "66bbb260",
   "metadata": {},
   "outputs": [
    {
     "data": {
      "text/plain": [
       "array([1, 1, 3, 3, 4])"
      ]
     },
     "execution_count": 334,
     "metadata": {},
     "output_type": "execute_result"
    }
   ],
   "source": [
    "#使用Python的 +=构造,它可能不会按预期执行\n",
    "a = np.arange(5)\n",
    "a[[0,0,2]]+=1\n",
    "a\n",
    "#0在索引列表中出现两次，第0个元素也只增加一次"
   ]
  },
  {
   "cell_type": "markdown",
   "id": "82930ce0",
   "metadata": {},
   "source": [
    "## 使用布尔数组进行索引"
   ]
  },
  {
   "cell_type": "code",
   "execution_count": 337,
   "id": "b230c3dd",
   "metadata": {},
   "outputs": [
    {
     "name": "stdout",
     "output_type": "stream",
     "text": [
      "[[ 0  1  2  3]\n",
      " [ 4  5  6  7]\n",
      " [ 8  9 10 11]] \n",
      "\n",
      "[[False False False False]\n",
      " [False  True  True  True]\n",
      " [ True  True  True  True]] \n",
      "\n",
      "[ 5  6  7  8  9 10 11]\n"
     ]
    }
   ],
   "source": [
    "#布尔索引，明确地选择想要的数组中的哪些项目以及我们不需要的项目\n",
    "a = np.arange(12).reshape(3,4)\n",
    "print(a,'\\n')\n",
    "b=a>4\n",
    "print(b,'\\n')\n",
    "print(a[b])"
   ]
  },
  {
   "cell_type": "code",
   "execution_count": 338,
   "id": "5307d146",
   "metadata": {},
   "outputs": [
    {
     "data": {
      "text/plain": [
       "array([[0, 1, 2, 3],\n",
       "       [4, 0, 0, 0],\n",
       "       [0, 0, 0, 0]])"
      ]
     },
     "execution_count": 338,
     "metadata": {},
     "output_type": "execute_result"
    }
   ],
   "source": [
    "#在分配中非常有用\n",
    "a[b]=0\n",
    "a"
   ]
  },
  {
   "cell_type": "code",
   "execution_count": 339,
   "id": "e4c2d6ee",
   "metadata": {},
   "outputs": [
    {
     "data": {
      "text/plain": [
       "array([[ 4,  5,  6,  7],\n",
       "       [ 8,  9, 10, 11]])"
      ]
     },
     "execution_count": 339,
     "metadata": {},
     "output_type": "execute_result"
    }
   ],
   "source": [
    "#使用布尔值进行索引的第二种方法更类似于整数索引; 对于数组的每个维度，给出一个一维布尔数组，选择想要的切片\n",
    "a = np.arange(12).reshape(3,4)\n",
    "b1 = np.array([False,True,True])            \n",
    "b2 = np.array([True,False,True,False])\n",
    "a[b1,:] "
   ]
  },
  {
   "cell_type": "code",
   "execution_count": 340,
   "id": "ce354066",
   "metadata": {},
   "outputs": [
    {
     "data": {
      "text/plain": [
       "array([[ 4,  5,  6,  7],\n",
       "       [ 8,  9, 10, 11]])"
      ]
     },
     "execution_count": 340,
     "metadata": {},
     "output_type": "execute_result"
    }
   ],
   "source": [
    "a[b1]"
   ]
  },
  {
   "cell_type": "code",
   "execution_count": 341,
   "id": "d075c773",
   "metadata": {},
   "outputs": [
    {
     "data": {
      "text/plain": [
       "array([[ 0,  2],\n",
       "       [ 4,  6],\n",
       "       [ 8, 10]])"
      ]
     },
     "execution_count": 341,
     "metadata": {},
     "output_type": "execute_result"
    }
   ],
   "source": [
    "a[:,b2]"
   ]
  },
  {
   "cell_type": "code",
   "execution_count": 343,
   "id": "9dc54a7b",
   "metadata": {},
   "outputs": [
    {
     "data": {
      "text/plain": [
       "array([ 4, 10])"
      ]
     },
     "execution_count": 343,
     "metadata": {},
     "output_type": "execute_result"
    }
   ],
   "source": [
    "a[b1,b2]"
   ]
  },
  {
   "cell_type": "markdown",
   "id": "a4483d71",
   "metadata": {},
   "source": [
    "注意：1D布尔数组的长度必须与要切片的尺寸（或轴）的长度一致。在前面的例子中，b1具有长度为3（的数目 的行 中a），和 b2（长度4）适合于索引的第二轴线（列） a。"
   ]
  },
  {
   "cell_type": "markdown",
   "id": "74a4250a",
   "metadata": {},
   "source": [
    "# ix_()函数"
   ]
  },
  {
   "cell_type": "code",
   "execution_count": 344,
   "id": "4d8752d0",
   "metadata": {},
   "outputs": [
    {
     "data": {
      "text/plain": [
       "array([[[2]],\n",
       "\n",
       "       [[3]],\n",
       "\n",
       "       [[4]],\n",
       "\n",
       "       [[5]]])"
      ]
     },
     "execution_count": 344,
     "metadata": {},
     "output_type": "execute_result"
    }
   ],
   "source": [
    "a = np.array([2,3,4,5])\n",
    "b = np.array([8,5,4])\n",
    "c = np.array([5,4,6,8,3])\n",
    "ax,bx,cx = np.ix_(a,b,c)\n",
    "ax"
   ]
  },
  {
   "cell_type": "code",
   "execution_count": 345,
   "id": "380dc825",
   "metadata": {},
   "outputs": [
    {
     "data": {
      "text/plain": [
       "array([[[8],\n",
       "        [5],\n",
       "        [4]]])"
      ]
     },
     "execution_count": 345,
     "metadata": {},
     "output_type": "execute_result"
    }
   ],
   "source": [
    "bx"
   ]
  },
  {
   "cell_type": "code",
   "execution_count": 346,
   "id": "d27d53bf",
   "metadata": {},
   "outputs": [
    {
     "data": {
      "text/plain": [
       "array([[[5, 4, 6, 8, 3]]])"
      ]
     },
     "execution_count": 346,
     "metadata": {},
     "output_type": "execute_result"
    }
   ],
   "source": [
    "cx"
   ]
  },
  {
   "cell_type": "markdown",
   "id": "240ef4d7",
   "metadata": {},
   "source": [
    "ax的shape为(4,1,1)，bx的shape为(1,3,1)，cx的shape为(1,1,5)。这是因为在广播操作中，每个数组的形状必须相同或其中一个数组的形状为1，才能进行广播。\n",
    "具体来说，ax的形状为(4,1,1)表示它可以与一个形状为(4,3,5)的三维数组进行广播操作，其中bx和cx的长度为1的维度会被自动扩展为3和5。同理，bx的形状为(1,3,1)表示它可以与一个形状为(4,3,5)的三维数组进行广播操作\n",
    "其中ax和cx的长度为1的维度会被自动扩展为4和5。最后，cx的形状为(1,1,5)表示它可以与一个形状为(4,3,5)的三维数组进行广播操作，其中ax和bx的长度为1的维度会被自动扩展为4和3。"
   ]
  },
  {
   "cell_type": "code",
   "execution_count": 347,
   "id": "a1b742cc",
   "metadata": {},
   "outputs": [
    {
     "data": {
      "text/plain": [
       "((4, 1, 1), (1, 3, 1), (1, 1, 5))"
      ]
     },
     "execution_count": 347,
     "metadata": {},
     "output_type": "execute_result"
    }
   ],
   "source": [
    "ax.shape, bx.shape, cx.shape"
   ]
  },
  {
   "cell_type": "code",
   "execution_count": 348,
   "id": "166843a4",
   "metadata": {},
   "outputs": [
    {
     "data": {
      "text/plain": [
       "array([[[42, 34, 50, 66, 26],\n",
       "        [27, 22, 32, 42, 17],\n",
       "        [22, 18, 26, 34, 14]],\n",
       "\n",
       "       [[43, 35, 51, 67, 27],\n",
       "        [28, 23, 33, 43, 18],\n",
       "        [23, 19, 27, 35, 15]],\n",
       "\n",
       "       [[44, 36, 52, 68, 28],\n",
       "        [29, 24, 34, 44, 19],\n",
       "        [24, 20, 28, 36, 16]],\n",
       "\n",
       "       [[45, 37, 53, 69, 29],\n",
       "        [30, 25, 35, 45, 20],\n",
       "        [25, 21, 29, 37, 17]]])"
      ]
     },
     "execution_count": 348,
     "metadata": {},
     "output_type": "execute_result"
    }
   ],
   "source": [
    "result = ax+bx*cx\n",
    "result"
   ]
  },
  {
   "cell_type": "code",
   "execution_count": 349,
   "id": "a54b2277",
   "metadata": {},
   "outputs": [
    {
     "data": {
      "text/plain": [
       "17"
      ]
     },
     "execution_count": 349,
     "metadata": {},
     "output_type": "execute_result"
    }
   ],
   "source": [
    "result[3,2,4]"
   ]
  },
  {
   "cell_type": "code",
   "execution_count": 350,
   "id": "59d70d52",
   "metadata": {},
   "outputs": [
    {
     "data": {
      "text/plain": [
       "17"
      ]
     },
     "execution_count": 350,
     "metadata": {},
     "output_type": "execute_result"
    }
   ],
   "source": [
    "a[3]+b[2]*c[4]"
   ]
  },
  {
   "cell_type": "code",
   "execution_count": 351,
   "id": "63dc672e",
   "metadata": {},
   "outputs": [],
   "source": [
    "def ufunc_reduce(ufct, *vectors):\n",
    "    vs = np.ix_(*vectors)\n",
    "    r = ufct.identity\n",
    "    for v in vs:\n",
    "        r = ufct(r,v)\n",
    "    return r"
   ]
  },
  {
   "cell_type": "code",
   "execution_count": 352,
   "id": "a1daab53",
   "metadata": {},
   "outputs": [
    {
     "data": {
      "text/plain": [
       "array([[[15, 14, 16, 18, 13],\n",
       "        [12, 11, 13, 15, 10],\n",
       "        [11, 10, 12, 14,  9]],\n",
       "\n",
       "       [[16, 15, 17, 19, 14],\n",
       "        [13, 12, 14, 16, 11],\n",
       "        [12, 11, 13, 15, 10]],\n",
       "\n",
       "       [[17, 16, 18, 20, 15],\n",
       "        [14, 13, 15, 17, 12],\n",
       "        [13, 12, 14, 16, 11]],\n",
       "\n",
       "       [[18, 17, 19, 21, 16],\n",
       "        [15, 14, 16, 18, 13],\n",
       "        [14, 13, 15, 17, 12]]])"
      ]
     },
     "execution_count": 352,
     "metadata": {},
     "output_type": "execute_result"
    }
   ],
   "source": [
    "ufunc_reduce(np.add,a,b,c)"
   ]
  },
  {
   "cell_type": "markdown",
   "id": "d8e96c1d",
   "metadata": {},
   "source": [
    "这个函数使用了NumPy的`ix_`函数，它将输入的向量转换为一个元组，其中每个元素都是一个切片对象，这些切片对象可以用于高效地访问输入向量的元素。\n",
    "\n",
    "然后，函数使用一个循环来迭代所有的切片对象，并使用给定的ufct函数对它们进行归约操作。在每次迭代中，函数将当前的归约结果和下一个切片对象传递给ufct函数，并将返回的结果存储在r变量中。\n",
    "\n",
    "最后，函数返回r变量，它包含了所有输入向量的归约结果。在这个例子中，ufunc_reduce函数使用了np.add函数作为ufct参数，因此它返回了a、b和c向量的元素之和。\n",
    "\n",
    "（归约操作是指将一个复杂的表达式或问题简化为更简单的形式的过程。在使用ufct函数时，归约操作可以将输入的函数表达式转化为更简单的形式）"
   ]
  },
  {
   "cell_type": "markdown",
   "id": "a357e8af",
   "metadata": {},
   "source": [
    "# 简单数组操作"
   ]
  },
  {
   "cell_type": "code",
   "execution_count": 353,
   "id": "b8098226",
   "metadata": {},
   "outputs": [
    {
     "data": {
      "text/plain": [
       "array([[1., 2.],\n",
       "       [3., 4.]])"
      ]
     },
     "execution_count": 353,
     "metadata": {},
     "output_type": "execute_result"
    }
   ],
   "source": [
    "a = np.array([[1.0, 2.0], [3.0, 4.0]])\n",
    "a"
   ]
  },
  {
   "cell_type": "code",
   "execution_count": 355,
   "id": "1610cf26",
   "metadata": {},
   "outputs": [
    {
     "data": {
      "text/plain": [
       "array([[1., 3.],\n",
       "       [2., 4.]])"
      ]
     },
     "execution_count": 355,
     "metadata": {},
     "output_type": "execute_result"
    }
   ],
   "source": [
    "a.transpose()#矩阵转置"
   ]
  },
  {
   "cell_type": "code",
   "execution_count": 356,
   "id": "d3dccc6f",
   "metadata": {},
   "outputs": [
    {
     "data": {
      "text/plain": [
       "array([[-2. ,  1. ],\n",
       "       [ 1.5, -0.5]])"
      ]
     },
     "execution_count": 356,
     "metadata": {},
     "output_type": "execute_result"
    }
   ],
   "source": [
    "np.linalg.inv(a)#线性代数函数，用于计算矩阵a的逆矩阵，如果矩阵a不可逆，则会引发LinAlgError异常"
   ]
  },
  {
   "cell_type": "code",
   "execution_count": 358,
   "id": "86b05d8a",
   "metadata": {},
   "outputs": [
    {
     "data": {
      "text/plain": [
       "array([[1., 0.],\n",
       "       [0., 1.]])"
      ]
     },
     "execution_count": 358,
     "metadata": {},
     "output_type": "execute_result"
    }
   ],
   "source": [
    "u = np.eye(2)#用来创建一个2x2的单位矩阵的函数\n",
    "u"
   ]
  },
  {
   "cell_type": "code",
   "execution_count": 359,
   "id": "3f2f8ac7",
   "metadata": {},
   "outputs": [
    {
     "data": {
      "text/plain": [
       "array([[-1.,  0.],\n",
       "       [ 0., -1.]])"
      ]
     },
     "execution_count": 359,
     "metadata": {},
     "output_type": "execute_result"
    }
   ],
   "source": [
    "j = np.array([[0.0, -1.0], [1.0, 0.0]])\n",
    "j @ j#进行矩阵乘法运算     "
   ]
  },
  {
   "cell_type": "code",
   "execution_count": 360,
   "id": "02c5bb67",
   "metadata": {},
   "outputs": [
    {
     "data": {
      "text/plain": [
       "2.0"
      ]
     },
     "execution_count": 360,
     "metadata": {},
     "output_type": "execute_result"
    }
   ],
   "source": [
    "np.trace(u)#用于计算矩阵的迹。迹是矩阵对角线上元素的和。"
   ]
  },
  {
   "cell_type": "code",
   "execution_count": 361,
   "id": "82151a8e",
   "metadata": {},
   "outputs": [
    {
     "data": {
      "text/plain": [
       "array([[-3.],\n",
       "       [ 4.]])"
      ]
     },
     "execution_count": 361,
     "metadata": {},
     "output_type": "execute_result"
    }
   ],
   "source": [
    "y = np.array([[5.], [7.]])\n",
    "np.linalg.solve(a, y)"
   ]
  },
  {
   "cell_type": "markdown",
   "id": "f1d66e33",
   "metadata": {},
   "source": [
    "该函数用于求解线性方程组 Ax = y，其中 a 是系数矩阵，y 是常数向量。返回值是解向量 x。\n",
    "\n",
    "在本例中，a 是一个 2x2 的矩阵，y 是一个 2x1 的向量。因此，np.linalg.solve(a, y) 将求解以下线性方程组：\n",
    "\n",
    "2x + 3y = 5\n",
    "\n",
    "4x + 5y = 7\n",
    "\n",
    "函数的输出将是一个 2x1 的向量，表示方程组的解。"
   ]
  },
  {
   "cell_type": "code",
   "execution_count": 362,
   "id": "58fb7c2a",
   "metadata": {},
   "outputs": [
    {
     "data": {
      "text/plain": [
       "(array([0.+1.j, 0.-1.j]),\n",
       " array([[0.70710678+0.j        , 0.70710678-0.j        ],\n",
       "        [0.        -0.70710678j, 0.        +0.70710678j]]))"
      ]
     },
     "execution_count": 362,
     "metadata": {},
     "output_type": "execute_result"
    }
   ],
   "source": [
    "np.linalg.eig(j)#求解矩阵j的特征值和特征向量"
   ]
  },
  {
   "cell_type": "markdown",
   "id": "59020174",
   "metadata": {},
   "source": [
    "特征值是一个标量，表示矩阵在某个方向上的拉伸或压缩程度。特征向量是一个非零向量，表示在该方向上的拉伸或压缩方向。特征向量与特征值是一一对应的。\n",
    "\n",
    "求解矩阵的特征值和特征向量的方法是解决矩阵的特征方程，即：\n",
    "\n",
    "(A-λI)x=0\n",
    "\n",
    "其中，A是一个n阶方阵，λ是一个标量，I是n阶单位矩阵，x是一个非零向量。解特征方程可以得到矩阵的n个特征值λ1，λ2，…，λn，以及对应的n个特征向量x1，x2，…，xn。"
   ]
  },
  {
   "cell_type": "markdown",
   "id": "a16cb86c",
   "metadata": {},
   "source": [
    "# 技巧和提示"
   ]
  },
  {
   "cell_type": "markdown",
   "id": "f109e3fe",
   "metadata": {},
   "source": [
    "## “自动”整型"
   ]
  },
  {
   "cell_type": "markdown",
   "id": "ef1a3a65",
   "metadata": {},
   "source": [
    "要更改数组的尺寸，可以省略其中一个尺寸，然后自动推导出尺寸"
   ]
  },
  {
   "cell_type": "code",
   "execution_count": 363,
   "id": "451bb8f0",
   "metadata": {},
   "outputs": [
    {
     "data": {
      "text/plain": [
       "(2, 5, 3)"
      ]
     },
     "execution_count": 363,
     "metadata": {},
     "output_type": "execute_result"
    }
   ],
   "source": [
    "a = np.arange(30)\n",
    "a.shape = 2,-1,3\n",
    "a.shape\n",
    "'''\n",
    "在这个例子中，我们将数组的第一个维度设置为2，第三个维度设置为3，而第二个维度使用-1。\n",
    "这意味着numpy会自动计算第二个维度的大小，以使数组的总大小保持不变。在这种情况下，第二个维度的大小为5，\n",
    "因此新数组的形状为(2,5,3)。\n",
    "'''"
   ]
  },
  {
   "cell_type": "code",
   "execution_count": 364,
   "id": "7f1906f0",
   "metadata": {},
   "outputs": [
    {
     "data": {
      "text/plain": [
       "array([[[ 0,  1,  2],\n",
       "        [ 3,  4,  5],\n",
       "        [ 6,  7,  8],\n",
       "        [ 9, 10, 11],\n",
       "        [12, 13, 14]],\n",
       "\n",
       "       [[15, 16, 17],\n",
       "        [18, 19, 20],\n",
       "        [21, 22, 23],\n",
       "        [24, 25, 26],\n",
       "        [27, 28, 29]]])"
      ]
     },
     "execution_count": 364,
     "metadata": {},
     "output_type": "execute_result"
    }
   ],
   "source": [
    "a"
   ]
  },
  {
   "cell_type": "markdown",
   "id": "efa9dcb4",
   "metadata": {},
   "source": [
    "## 矢量堆叠"
   ]
  },
  {
   "cell_type": "markdown",
   "id": "ac8e4806",
   "metadata": {},
   "source": [
    "NumPy中的矢量堆叠是指将多个数组沿着一个新的轴堆叠在一起，形成一个新的数组。NumPy提供了几个函数来实现矢量堆叠，包括vstack、hstack、dstack和concatenate。\n",
    "1. vstack函数：将多个数组沿着垂直方向堆叠在一起，形成一个新的数组。\n",
    "\n",
    "2. hstack函数：将多个数组沿着水平方向堆叠在一起，形成一个新的数组。\n",
    "\n",
    "3. dstack函数：将多个数组沿着深度（第三个维度）方向堆叠在一起，形成一个新的数组（三维）\n",
    "\n",
    "4. concatenate函数：可以沿着任意一个轴堆叠多个数组，形成一个新的数组，默认按行连接"
   ]
  },
  {
   "cell_type": "code",
   "execution_count": 365,
   "id": "cf2a12f7",
   "metadata": {},
   "outputs": [
    {
     "data": {
      "text/plain": [
       "array([[[1, 4],\n",
       "        [2, 5],\n",
       "        [3, 6]]])"
      ]
     },
     "execution_count": 365,
     "metadata": {},
     "output_type": "execute_result"
    }
   ],
   "source": [
    "#dstack函数\n",
    "a = np.array([1, 2, 3])\n",
    "b = np.array([4, 5, 6])\n",
    "c = np.dstack((a, b))\n",
    "c"
   ]
  },
  {
   "cell_type": "code",
   "execution_count": 367,
   "id": "24a5bc4d",
   "metadata": {},
   "outputs": [
    {
     "data": {
      "text/plain": [
       "array([1, 2, 3, 4, 5, 6])"
      ]
     },
     "execution_count": 367,
     "metadata": {},
     "output_type": "execute_result"
    }
   ],
   "source": [
    "#concatenate函数\n",
    "a = np.array([1, 2, 3])\n",
    "b = np.array([4, 5, 6])\n",
    "c = np.concatenate((a, b))\n",
    "c"
   ]
  },
  {
   "cell_type": "markdown",
   "id": "de27afc4",
   "metadata": {},
   "source": [
    "# 直方图"
   ]
  },
  {
   "cell_type": "code",
   "execution_count": 370,
   "id": "00db7e64",
   "metadata": {},
   "outputs": [
    {
     "data": {
      "image/png": "[encoded data removed]",
      "text/plain": [
       "<Figure size 640x480 with 1 Axes>"
      ]
     },
     "metadata": {},
     "output_type": "display_data"
    }
   ],
   "source": [
    "import matplotlib.pyplot as plt\n",
    "mu, sigma = 2, 0.5\n",
    "#mu和sigma是正态分布的两个参数，分别代表均值和标准差。\n",
    "v = np.random.normal(mu,sigma,10000)\n",
    "plt.hist(v, bins=50, density=1)\n",
    "plt.show()"
   ]
  },
  {
   "cell_type": "markdown",
   "id": "026df721",
   "metadata": {},
   "source": [
    "numpy可以使用`numpy.histogram()`函数来构建直方图，该函数可以返回直方图的频数和区间边界。而matplotlib可以使用`matplotlib.pyplot.hist()`函数来构建直方图，该函数可以直接绘制出直方图，并且可以进行更多的自定义设置。\n",
    "\n",
    "mu和sigma是正态分布的两个参数，分别代表均值和标准差。在这里，mu=2表示正态分布的均值为2，sigma=0.5表示正态分布的标准差为0.5。"
   ]
  },
  {
   "cell_type": "markdown",
   "id": "75963da2",
   "metadata": {},
   "source": [
    "生成了一个正态分布的随机数序列，并用直方图对其进行可视化。其中，mu和sigma分别代表正态分布的均值和标准差，v是生成的随机数序列，plt.hist()函数用于绘制直方图，bins参数指定直方图的柱子数量，density参数指定是否将直方图归一化为概率密度函数。最后，plt.show()函数用于显示绘制的图形。"
   ]
  }
 ],
 "metadata": {
  "kernelspec": {
   "display_name": "Python 3 (ipykernel)",
   "language": "python",
   "name": "python3"
  },
  "language_info": {
   "codemirror_mode": {
    "name": "ipython",
    "version": 3
   },
   "file_extension": ".py",
   "mimetype": "text/x-python",
   "name": "python",
   "nbconvert_exporter": "python",
   "pygments_lexer": "ipython3",
   "version": "3.9.13"
  }
 },
 "nbformat": 4,
 "nbformat_minor": 5
}
